{
 "cells": [
  {
   "cell_type": "markdown",
   "metadata": {},
   "source": [
    "# Ejercicio 1"
   ]
  },
  {
   "cell_type": "code",
   "execution_count": 1,
   "metadata": {},
   "outputs": [],
   "source": [
    "import numpy as np\n",
    "import matplotlib.pyplot as plt"
   ]
  },
  {
   "cell_type": "code",
   "execution_count": 2,
   "metadata": {},
   "outputs": [
    {
     "data": {
      "text/plain": [
       "0.24783175395959334"
      ]
     },
     "execution_count": 2,
     "metadata": {},
     "output_type": "execute_result"
    }
   ],
   "source": [
    "np.random.random()"
   ]
  },
  {
   "cell_type": "code",
   "execution_count": 3,
   "metadata": {},
   "outputs": [
    {
     "data": {
      "text/plain": [
       "[<matplotlib.lines.Line2D at 0x7f9782dcb5b0>]"
      ]
     },
     "execution_count": 3,
     "metadata": {},
     "output_type": "execute_result"
    },
    {
     "data": {
      "image/png": "[encoded data removed]",
      "text/plain": [
       "<Figure size 432x288 with 1 Axes>"
      ]
     },
     "metadata": {
      "needs_background": "light"
     },
     "output_type": "display_data"
    }
   ],
   "source": [
    "t = np.linspace(0,10)\n",
    "x = t**2\n",
    "\n",
    "plt.plot(t,x)"
   ]
  },
  {
   "cell_type": "markdown",
   "metadata": {},
   "source": [
    "Entonces tenemos que:\n",
    "\n",
    "- \n",
    "\n",
    "- \n",
    "\n",
    "- "
   ]
  }
 ],
 "metadata": {
  "julynter-results": {
   "filteredId": [],
   "filteredIndividual": [],
   "filteredRestart": [],
   "filteredType": [],
   "hash": "ced9f41228070ba689eae572330e046066ef6fba",
   "visible": [
    {
     "cellId": "group",
     "hash": "d6fbc9d2bdd580e18ed0bc5805dc26db323d6f5f",
     "reason": "This groups other lint messages",
     "reportId": "group",
     "reportType": "import",
     "suggestion": null,
     "text": "Import"
    },
    {
     "cellId": 1,
     "hash": "1349f165547cc716670ccde1bb390106b383ce19",
     "reason": "Using a requirements file with pinned versions for all imported modules increases the reproducibility of the notebook.",
     "reportId": "i2",
     "reportType": "import",
     "suggestion": "Please consider adding them to guarantee the reproducibility.",
     "text": "Module numpy was imported by Cell 1, but it is not in the requirements file"
    },
    {
     "cellId": 1,
     "hash": "eed99ae50eb214a5d0afa90c527cac4a484b8031",
     "reason": "Using a requirements file with pinned versions for all imported modules increases the reproducibility of the notebook.",
     "reportId": "i2",
     "reportType": "import",
     "suggestion": "Please consider adding them to guarantee the reproducibility.",
     "text": "Module matplotlib was imported by Cell 1, but it is not in the requirements file"
    }
   ]
  },
  "kernelspec": {
   "display_name": "Python 3",
   "language": "python",
   "name": "python3"
  },
  "language_info": {
   "codemirror_mode": {
    "name": "ipython",
    "version": 3
   },
   "file_extension": ".py",
   "mimetype": "text/x-python",
   "name": "python",
   "nbconvert_exporter": "python",
   "pygments_lexer": "ipython3",
   "version": "3.8.5"
  }
 },
 "nbformat": 4,
 "nbformat_minor": 4
}
