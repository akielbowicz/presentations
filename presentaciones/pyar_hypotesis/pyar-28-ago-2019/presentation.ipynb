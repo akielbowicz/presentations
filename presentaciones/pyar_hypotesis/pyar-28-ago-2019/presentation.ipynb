{
 "cells": [
  {
   "cell_type": "code",
   "execution_count": 1,
   "metadata": {
    "scrolled": true,
    "slideshow": {
     "slide_type": "skip"
    }
   },
   "outputs": [
    {
     "data": {
      "text/html": [
       "<link rel=\"stylesheet\" href=\"https://use.fontawesome.com/releases/v5.6.3/css/all.css\" integrity=\"sha384-UHRtZLI+pbxtHCWp1t77Bi1L4ZtiqrqD80Kn4Z8NTSRyMA2Fd33n5dQ8lWUE00s/\" crossorigin=\"anonymous\">\n"
      ],
      "text/plain": [
       "<IPython.core.display.HTML object>"
      ]
     },
     "metadata": {},
     "output_type": "display_data"
    }
   ],
   "source": [
    "%%html\n",
    "<link rel=\"stylesheet\" href=\"https://use.fontawesome.com/releases/v5.6.3/css/all.css\" integrity=\"sha384-UHRtZLI+pbxtHCWp1t77Bi1L4ZtiqrqD80Kn4Z8NTSRyMA2Fd33n5dQ8lWUE00s/\" crossorigin=\"anonymous\">"
   ]
  },
  {
   "cell_type": "markdown",
   "metadata": {
    "slideshow": {
     "slide_type": "slide"
    }
   },
   "source": [
    "# Property Based Testing con Hypothesis\n",
    "\n",
    "\n",
    "\n",
    "\n",
    "\n",
    "<i class=\"fas fa-calendar\" style=\"font-size:24px\"> 28 de Agosto de 2019  </i>\n",
    "\n",
    "\n",
    "<i class=\"fas fa-map-marked\" style=\"font-size:24px\"> Buenos Aires, Argentina  </i>"
   ]
  },
  {
   "cell_type": "markdown",
   "metadata": {
    "slideshow": {
     "slide_type": "slide"
    }
   },
   "source": [
    "# Y vo', quién sos?\n",
    "\n",
    "<i class=\"fas fa-chalkboard-teacher\" style=\"font-size:28px\"> Sasha </i>"
   ]
  },
  {
   "cell_type": "markdown",
   "metadata": {
    "slideshow": {
     "slide_type": "slide"
    }
   },
   "source": [
    "<img src=\"https://m.media-amazon.com/images/M/MV5BMjEwODk2MjM4OV5BMl5BanBnXkFtZTgwNjM4MTY0MDE@._V1_SY1000_CR0,0,666,1000_AL_.jpg\" style=\"height:700px;margin-left:auto;margin-right:auto;object-fit:contain;\">"
   ]
  },
  {
   "cell_type": "markdown",
   "metadata": {
    "slideshow": {
     "slide_type": "subslide"
    }
   },
   "source": [
    "<img src=\"https://m.media-amazon.com/images/M/MV5BYmQ3NDdjNzMtZWIyMC00OWRhLTgzNDYtZDlkMmE4YWY5YTEyXkEyXkFqcGdeQXVyNjc5Mjg0NjU@._V1_SY1000_SX1500_AL_.jpg\" style=\"width:80%;margin-left:auto;margin-right:auto;\">"
   ]
  },
  {
   "cell_type": "markdown",
   "metadata": {
    "slideshow": {
     "slide_type": "subslide"
    }
   },
   "source": [
    "<img src=\"https://m.media-amazon.com/images/M/MV5BNDkxNDgzNDM4N15BMl5BanBnXkFtZTgwMjYyNjY0NjM@._V1_SX1777_CR0,0,1777,999_AL_.jpg\"  style=\"width:80%;margin-left:auto;margin-right:auto;\">"
   ]
  },
  {
   "cell_type": "markdown",
   "metadata": {
    "slideshow": {
     "slide_type": "slide"
    }
   },
   "source": [
    "## Entonces ... Qué es testing basado en propiedades?"
   ]
  },
  {
   "cell_type": "markdown",
   "metadata": {
    "slideshow": {
     "slide_type": "subslide"
    }
   },
   "source": [
    "<img src=\"https://m.media-amazon.com/images/M/MV5BMzYxZDk2OWEtOGU1OS00M2YyLTgxOTYtMDI5MTc0MjgxNTM5XkEyXkFqcGdeQXVyNjc3OTE4Nzk@._V1_.jpg\"  style=\"width:80%;margin-left:auto;margin-right:auto;\">"
   ]
  },
  {
   "cell_type": "markdown",
   "metadata": {
    "slideshow": {
     "slide_type": "subslide"
    }
   },
   "source": [
    "<img src=\"https://m.media-amazon.com/images/M/MV5BM2MyMTYxZDEtNzRhOS00YzdjLTgwZDUtNTMyYmVhY2QxZDMyXkEyXkFqcGdeQXVyNjc3OTE4Nzk@._V1_.jpg\"  style=\"width:80%;margin-left:auto;margin-right:auto;\">"
   ]
  },
  {
   "cell_type": "markdown",
   "metadata": {
    "slideshow": {
     "slide_type": "slide"
    }
   },
   "source": [
    "# Un ejemplo bien simple"
   ]
  },
  {
   "cell_type": "markdown",
   "metadata": {
    "slideshow": {
     "slide_type": "fragment"
    }
   },
   "source": [
    "##### \"La suma de una lista de numeros enteros es mayor al elemento más grande de la lista\""
   ]
  },
  {
   "cell_type": "markdown",
   "metadata": {
    "slideshow": {
     "slide_type": "subslide"
    }
   },
   "source": [
    "```python\n",
    "def test_suma_mas_grande_que_maximo_con_numeros_pequenios():\n",
    "    xs = [1, 2, 3]\n",
    "    assert sum( xs ) > max( xs )\n",
    "    \n",
    "def test_suma_mas_grande_que_maximo_con_numeros_grandes():\n",
    "    xs = [1000, 2000, 3000]\n",
    "    assert sum( xs ) > max( xs )    \n",
    "```\n",
    "\n",
    "<small> ( ejemplo extraído de <a href=\"https://github.com/Zac-HD/slides\" >diapositivas de Zac Hatfield-Dodds PyConAu 2018</a> )</small>"
   ]
  },
  {
   "cell_type": "markdown",
   "metadata": {
    "slideshow": {
     "slide_type": "subslide"
    }
   },
   "source": [
    "```python\n",
    "import pytest\n",
    "\n",
    "@pytest.mark.parameterize('xs',[\n",
    "    [1, 2, 3], [1000, 2000, 3000]\n",
    "])\n",
    "def test_suma_mas_grande_que_maximo(xs):\n",
    "    assert sum( xs ) > max( xs )  \n",
    "```\n",
    "\n",
    "<small> ( ejemplo extraído de <a href=\"https://github.com/Zac-HD/slides\" >diapositivas de Zac Hatfield-Dodds PyConAu 2018</a> )</small>"
   ]
  },
  {
   "cell_type": "markdown",
   "metadata": {
    "slideshow": {
     "slide_type": "subslide"
    }
   },
   "source": [
    "```python\n",
    "@given(lists(integers()))\n",
    "def test_suma_mas_grande_que_maximo(xs):\n",
    "    assert sum( xs ) > max( xs )  \n",
    "```\n",
    "\n",
    "<small> ( ejemplo extraído de <a href=\"https://github.com/Zac-HD/slides\" >diapositivas de Zac Hatfield-Dodds PyConAu 2018</a> )</small>"
   ]
  },
  {
   "cell_type": "markdown",
   "metadata": {
    "slideshow": {
     "slide_type": "subslide"
    }
   },
   "source": [
    "```python\n",
    "@given(lists(integers()))\n",
    "def test_suma_mas_grande_que_maximo(xs):\n",
    "    assert sum( xs ) > max( xs )      \n",
    "```"
   ]
  },
  {
   "cell_type": "markdown",
   "metadata": {
    "slideshow": {
     "slide_type": "fragment"
    }
   },
   "source": [
    "```python    \n",
    "Falsifying example: test_suma_mas_grande_que_maximo(xs=[])\n",
    "Traceback (most recent call last):\n",
    "  ...\n",
    "    assert sum( xs ) > max( xs )\n",
    "ValueError: max() arg is an empty sequence\n",
    "```\n",
    "\n",
    "<small> ( ejemplo extraído de <a href=\"https://github.com/Zac-HD/slides\" >diapositivas de Zac Hatfield-Dodds PyConAu 2018</a> )</small>"
   ]
  },
  {
   "cell_type": "markdown",
   "metadata": {
    "slideshow": {
     "slide_type": "subslide"
    }
   },
   "source": [
    "```python\n",
    "@given(lists(integers(), min_size=1))\n",
    "def test_suma_mas_grande_que_maximo(xs):\n",
    "    assert sum( xs ) > max( xs )    \n",
    "```"
   ]
  },
  {
   "cell_type": "markdown",
   "metadata": {
    "slideshow": {
     "slide_type": "fragment"
    }
   },
   "source": [
    "```python\n",
    "Traceback (most recent call last):\n",
    "    ...\n",
    "    assert sum( xs ) > max( xs )\n",
    "AssertionError: assert 0 > 0\n",
    " +  where 0 = sum([0])\n",
    " +  and   0 = max([0])\n",
    "----- Hypothesis --------\n",
    "Falsifying example: test_suma_mas_grande_que_maximo(xs=[0]) \n",
    "```\n",
    "\n",
    "<small> ( ejemplo extraído de <a href=\"https://github.com/Zac-HD/slides\" >diapositivas de Zac Hatfield-Dodds PyConAu 2018</a> )</small>"
   ]
  },
  {
   "cell_type": "markdown",
   "metadata": {
    "slideshow": {
     "slide_type": "subslide"
    }
   },
   "source": [
    "```python\n",
    "@given(lists(integers(), min_size=1))\n",
    "def test_suma_mas_grande_que_maximo(xs):\n",
    "    assert sum( xs ) >= max( xs ) \n",
    "```"
   ]
  },
  {
   "cell_type": "markdown",
   "metadata": {
    "slideshow": {
     "slide_type": "fragment"
    }
   },
   "source": [
    "```python\n",
    "Traceback (most recent call last):\n",
    "   ...\n",
    "    assert sum( xs ) >= max( xs )\n",
    "AssertionError: assert -1 >= 0\n",
    " +  where -1 = sum([0, -1])\n",
    " +  and   0 = max([0, -1])\n",
    "----- Hypothesis ----------\n",
    "Falsifying example: test_suma_mas_grande_que_maximo(xs=[0, -1])\n",
    "```\n",
    "\n",
    "<small> ( ejemplo extraído de <a href=\"https://github.com/Zac-HD/slides\" >diapositivas de Zac Hatfield-Dodds PyConAu 2018</a> )</small>"
   ]
  },
  {
   "cell_type": "markdown",
   "metadata": {
    "slideshow": {
     "slide_type": "subslide"
    }
   },
   "source": [
    "```python\n",
    "@given(lists(integers(min_value=0), min_size=1))\n",
    "def test_suma_mas_grande_que_maximo(xs):\n",
    "    assert sum( xs ) >= max( xs ) \n",
    "```"
   ]
  },
  {
   "cell_type": "markdown",
   "metadata": {
    "slideshow": {
     "slide_type": "fragment"
    }
   },
   "source": [
    "```python\n",
    ".                                             [100%]\n",
    "\n",
    "=========== 1 passed in 0.19 seconds ========\n",
    "```\n",
    "\n",
    "<small> ( ejemplo extraído de <a href=\"https://github.com/Zac-HD/slides\" >diapositivas de Zac Hatfield-Dodds PyConAu 2018</a> )</small>"
   ]
  },
  {
   "cell_type": "markdown",
   "metadata": {
    "slideshow": {
     "slide_type": "slide"
    }
   },
   "source": [
    "<div style=\"width: 100%; height: 100%; overflow: hidden\">\n",
    "<img src=\"https://m.media-amazon.com/images/M/MV5BMTc3NDgyMzIzNV5BMl5BanBnXkFtZTgwMTM5MDY2MjE@._V1_.jpg\" style=\"width: 100%; height: 100%;margin-top:-17%;margin-right:auto;\">\n",
    "</div>"
   ]
  },
  {
   "cell_type": "markdown",
   "metadata": {
    "slideshow": {
     "slide_type": "slide"
    }
   },
   "source": [
    "- Definir propiedades en vez de escenarios específicos"
   ]
  },
  {
   "cell_type": "markdown",
   "metadata": {
    "slideshow": {
     "slide_type": "fragment"
    }
   },
   "source": [
    "- Dale un input al test y verifica que las propiedades se preservan"
   ]
  },
  {
   "cell_type": "markdown",
   "metadata": {
    "slideshow": {
     "slide_type": "fragment"
    }
   },
   "source": [
    "- *Generar automáticamente inputs aleatorios"
   ]
  },
  {
   "cell_type": "markdown",
   "metadata": {
    "slideshow": {
     "slide_type": "slide"
    }
   },
   "source": [
    "# Hypothesis\n",
    "\n",
    "### [https://hypothesis.works/](https://hypothesis.works/)"
   ]
  },
  {
   "cell_type": "markdown",
   "metadata": {
    "slideshow": {
     "slide_type": "subslide"
    }
   },
   "source": [
    "```python\n",
    "@given(lists(integers(min_value=0), min_size=1))\n",
    "def test_suma_mas_grande_que_maximo(xs):\n",
    "    assert sum( xs ) >= max( xs ) \n",
    "```"
   ]
  },
  {
   "cell_type": "markdown",
   "metadata": {
    "slideshow": {
     "slide_type": "subslide"
    }
   },
   "source": [
    "```python\n",
    "from hypothesis import given\n",
    "from hypothesis.strategies import lists, integers\n",
    "\n",
    "@given(lists(integers(min_value=0), min_size=1))\n",
    "def test_suma_mas_grande_que_maximo(xs):\n",
    "    assert sum( xs ) >= max( xs ) \n",
    "```"
   ]
  },
  {
   "cell_type": "markdown",
   "metadata": {
    "slideshow": {
     "slide_type": "slide"
    }
   },
   "source": [
    "# Generadores ( *Generators* )"
   ]
  },
  {
   "cell_type": "code",
   "execution_count": 2,
   "metadata": {
    "slideshow": {
     "slide_type": "fragment"
    }
   },
   "outputs": [],
   "source": [
    "from hypothesis import strategies\n",
    "# from hypothesis.strategies import ..."
   ]
  },
  {
   "cell_type": "markdown",
   "metadata": {
    "slideshow": {
     "slide_type": "subslide"
    }
   },
   "source": [
    "### Numéricos\n",
    "\n",
    "```python\n",
    ">> strategies.integers().example() \n",
    "-20719\n",
    ">> strategies.floats().example()\n",
    "2.00001\n",
    ">> strategies.decimals().example()\n",
    "Decimal('NaN')\n",
    ">> strategies.complex_numbers().example()\n",
    "(5.835754834383092e+16-1.9j)\n",
    "```"
   ]
  },
  {
   "cell_type": "markdown",
   "metadata": {
    "slideshow": {
     "slide_type": "subslide"
    }
   },
   "source": [
    "### Colecciones\n",
    "\n",
    "```python\n",
    "lists( integers() ), tuples( booleans() ), \n",
    "dictionaries( text(), floats() ), \n",
    "sets( characters() )\n",
    "```"
   ]
  },
  {
   "cell_type": "markdown",
   "metadata": {
    "slideshow": {
     "slide_type": "subslide"
    }
   },
   "source": [
    "### Tipos de datos más complejos\n",
    "\n",
    "\n",
    "```python\n",
    "emails, functions, datetimes, timedeltas, nothing, just ....\n",
    "```\n",
    "\n",
    "### Estrategias específicas\n",
    "\n",
    "\n",
    "```python\n",
    "from_regex, from_types, sample_from, one_of ...\n",
    "```\n",
    "\n",
    "### Estrategias compuestas\n",
    "```python\n",
    "builds, composite, defer, recursive ...\n",
    "```"
   ]
  },
  {
   "cell_type": "markdown",
   "metadata": {
    "slideshow": {
     "slide_type": "subslide"
    }
   },
   "source": [
    "### Librerías externas\n",
    "```python\n",
    "from hypothesis.extra.numpy import arrays\n",
    "from hypothesis.extra.pandas import data_frames, columns\n",
    "from hypothesis.extra.django import from_model\n",
    "```"
   ]
  },
  {
   "cell_type": "markdown",
   "metadata": {
    "slideshow": {
     "slide_type": "slide"
    }
   },
   "source": [
    "# Reducción ( *Shrinking* )"
   ]
  },
  {
   "cell_type": "markdown",
   "metadata": {
    "slideshow": {
     "slide_type": "subslide"
    }
   },
   "source": [
    "```python\n",
    "@given(lists(integers(), min_size=1))\n",
    "def test_suma_mas_grande_que_maximo(xs):\n",
    "    assert sum( xs ) >= max( xs )\n",
    "...\n",
    "Falsifying example: test_suma_mas_grande_que_maximo(xs=[0, -1])\n",
    "```"
   ]
  },
  {
   "cell_type": "markdown",
   "metadata": {
    "slideshow": {
     "slide_type": "subslide"
    }
   },
   "source": [
    "```python\n",
    "[-999,100,8] X\n",
    "[-999,100]   X\n",
    "[-999,0]     X\n",
    "[0,0]        ✓ \n",
    "[-1,0]       X\n",
    "```"
   ]
  },
  {
   "cell_type": "markdown",
   "metadata": {
    "slideshow": {
     "slide_type": "slide"
    }
   },
   "source": [
    "<img src=\"https://m.media-amazon.com/images/M/MV5BNzkxNTA4NDI1MV5BMl5BanBnXkFtZTcwNDk4MTM5Mg@@._V1_.jpg\" style=\"width:80%;margin-left:auto;margin-right:auto;\">"
   ]
  },
  {
   "cell_type": "markdown",
   "metadata": {
    "slideshow": {
     "slide_type": "subslide"
    }
   },
   "source": [
    "# \"El núcleo de las propiedades es obtener reglas sobre un programa, que siempre tienen que mantenerse verdaderas.\" \n",
    "''The core of properties is coming up with rules about a program that should always remain true.''\n",
    "\n",
    "Fred Hebert"
   ]
  },
  {
   "cell_type": "markdown",
   "metadata": {
    "slideshow": {
     "slide_type": "subslide"
    }
   },
   "source": [
    "## Patrones comunes sobre propiedades"
   ]
  },
  {
   "cell_type": "markdown",
   "metadata": {
    "slideshow": {
     "slide_type": "subslide"
    }
   },
   "source": [
    "### Smoke test\n",
    "\n",
    "```python\n",
    "@given(lists(integers()))\n",
    "def test_smoke_max( xs ):\n",
    "    max(xs)\n",
    "```\n",
    "\n",
    "#### *No hay asserts en el test!*"
   ]
  },
  {
   "cell_type": "markdown",
   "metadata": {
    "slideshow": {
     "slide_type": "subslide"
    }
   },
   "source": [
    "<img src=\"https://m.media-amazon.com/images/M/MV5BMWUxZTAwZTAtYTA5Ny00MGI3LWE4NTktZmFmNTUwMDhiMDJiXkEyXkFqcGdeQXVyMTc0MTUzNjk@._V1_.jpg\" style=\"width:100%;margin-left:auto;margin-right:auto;\">\n"
   ]
  },
  {
   "cell_type": "markdown",
   "metadata": {
    "slideshow": {
     "slide_type": "subslide"
    }
   },
   "source": [
    "### Codificar/Decodificar (*Encode/Decode*)\n",
    "\n",
    "```python\n",
    "assert text == json.loads(json.dumps(text))\n",
    "```"
   ]
  },
  {
   "cell_type": "markdown",
   "metadata": {
    "slideshow": {
     "slide_type": "subslide"
    }
   },
   "source": [
    "### Invariantes \n",
    "\n",
    "```python\n",
    "assert len( xs ) == len( reversed( xs ) )\n",
    "```\n",
    "\n",
    "### Idempotencia\n",
    "\n",
    "```python\n",
    "assert set( xs ) == set( set( xs ) )\n",
    "```"
   ]
  },
  {
   "cell_type": "markdown",
   "metadata": {
    "slideshow": {
     "slide_type": "subslide"
    }
   },
   "source": [
    "### Oráculo ( Test Oracle )\n",
    "\n",
    "```python\n",
    "assert nueva_funcion_increible(x) == vieja_funcion_lenta(x)\n",
    "\n",
    "assert algoritmo_sexy(x) == fuerza_bruta(x)\n",
    "\n",
    "assert descarga_torrent(x, threads=10) == descarga_torrent(x, threads=1)\n",
    "```"
   ]
  },
  {
   "cell_type": "markdown",
   "metadata": {
    "slideshow": {
     "slide_type": "slide"
    }
   },
   "source": [
    "<img src=\"https://m.media-amazon.com/images/M/MV5BMTg1NjIyOTQxMF5BMl5BanBnXkFtZTgwNTQ0NjQzNjE@._V1_SX1777_CR0,0,1777,999_AL_.jpg\" style=\"width:80%;margin-left:auto;margin-right:auto;\">"
   ]
  },
  {
   "cell_type": "markdown",
   "metadata": {
    "slideshow": {
     "slide_type": "subslide"
    }
   },
   "source": [
    "# Testeo de estado basado en reglas (*Rule-based stateful testing*)"
   ]
  },
  {
   "cell_type": "markdown",
   "metadata": {
    "slideshow": {
     "slide_type": "fragment"
    }
   },
   "source": [
    "```python\n",
    "from hypothesis.stateful import RuleBasedStateMachine\n",
    "```"
   ]
  },
  {
   "cell_type": "markdown",
   "metadata": {
    "slideshow": {
     "slide_type": "subslide"
    }
   },
   "source": [
    "- Pre-condiciones\n",
    "- Acciones \n",
    "- Post-condiciones"
   ]
  },
  {
   "cell_type": "markdown",
   "metadata": {
    "slideshow": {
     "slide_type": "subslide"
    }
   },
   "source": [
    "```python\n",
    "class DatabaseComparison(RuleBasedStateMachine):\n",
    "    ...\n",
    "    keys = Bundle('keys')\n",
    "    values = Bundle('values')\n",
    "\n",
    "    @rule(target=keys, k=st.binary())\n",
    "    def add_key(self, k):\n",
    "        ...\n",
    "    @rule(target=values, v=st.binary())\n",
    "    def add_value(self, v):\n",
    "        ...\n",
    "    @rule(k=keys, v=values)\n",
    "    def save(self, k, v):\n",
    "        ...\n",
    "    @rule(k=keys, v=values)\n",
    "    def delete(self, k, v):\n",
    "        ...\n",
    "    @rule(k=keys)\n",
    "    def values_agree(self, k):\n",
    "        ...\n",
    "```\n",
    "\n",
    "<small><a href=\"https://hypothesis.readthedocs.io/en/latest/stateful.html\"> Example from Hypothesis Docs </a> </small>"
   ]
  },
  {
   "cell_type": "markdown",
   "metadata": {
    "slideshow": {
     "slide_type": "subslide"
    }
   },
   "source": [
    "```python\n",
    "AssertionError: assert set() == {b''}\n",
    "\n",
    "------------ Hypothesis ------------\n",
    "\n",
    "state = DatabaseComparison()\n",
    "var1 = state.add_key(k=b'')\n",
    "var2 = state.add_value(v=var1)\n",
    "state.save(k=var1, v=var2)\n",
    "state.delete(k=var1, v=var2)\n",
    "state.values_agree(k=var1)\n",
    "state.teardown()\n",
    "```\n",
    "\n",
    "<small><a href=\"https://hypothesis.readthedocs.io/en/latest/stateful.html\"> Example from Hypothesis Docs </a> </small>\n"
   ]
  },
  {
   "cell_type": "markdown",
   "metadata": {
    "slideshow": {
     "slide_type": "subslide"
    }
   },
   "source": [
    "<img src=\"https://m.media-amazon.com/images/M/MV5BMzI0NjAzNzkxN15BMl5BanBnXkFtZTcwNDE1NjE5Mw@@._V1_SY1000_CR0,0,1503,1000_AL_.jpg\" style=\"width:80%;margin-left:auto;margin-right:auto;\">"
   ]
  },
  {
   "cell_type": "markdown",
   "metadata": {
    "slideshow": {
     "slide_type": "slide"
    }
   },
   "source": [
    "### En resumen\n",
    "\n",
    "|Testing basado en ejemplos | Testing basado en propiedades |\n",
    "|:---:| :---: |\n",
    "|Foco en detalles de bajo nivel | Foco en requerimientos de alto nivel |\n",
    "|Tedioso de testear | Las propiedades definen comportamiento |\n",
    "|Mucha repetición | Input aleatorio generado automáticamente |\n",
    "|Molesto de mantener |Minimiza los casos de falla |"
   ]
  },
  {
   "cell_type": "markdown",
   "metadata": {
    "slideshow": {
     "slide_type": "slide"
    }
   },
   "source": [
    "# Un par de referencias útiles para aprender sobre *Property-based tests*\n",
    "\n",
    "### [Experiences with QuickCheck: Testing the Hard Stuff and Staying Sane](  https://publications.lib.chalmers.se/records/fulltext/232550/local_232550.pdf )\n",
    "### https://propertesting.com/ \n",
    "<img src=\"https://propertesting.com/img/fhproper-sm.jpg\" width=\"200px\">\n",
    "\n",
    "### https://fsharpforfunandprofit.com/pbt/\n",
    "### [Tomasz Kowal - Introduction to stateful property based testing - ElixirConf EU 2019 (video)]( https://www.youtube.com/watch?v=q0wZzFUYCuM ) \n",
    "### [Escape from auto-manual testing with Hypothesis! - PyCon US 2019 (Tutorial)](https://pyvideo.org/pycon-us-2019/escape-from-auto-manual-testing-with-hypothesis.html) "
   ]
  },
  {
   "cell_type": "markdown",
   "metadata": {
    "slideshow": {
     "slide_type": "slide"
    }
   },
   "source": [
    "# \"No escriban tests, genérenlos\"\n",
    "\"Don't write tests, generate them!\"\n",
    "\n",
    "                     John Huges, QuickCheck author."
   ]
  },
  {
   "cell_type": "markdown",
   "metadata": {
    "slideshow": {
     "slide_type": "subslide"
    }
   },
   "source": [
    "<img src=\"https://m.media-amazon.com/images/M/MV5BMTc3ODMyMDgxMV5BMl5BanBnXkFtZTgwNDM4OTU1MTE@._V1_SY1000_CR0,0,1532,1000_AL_.jpg\" style=\"width:100%;margin-left:auto;margin-right:auto;\">"
   ]
  }
 ],
 "metadata": {
  "celltoolbar": "Slideshow",
  "kernelspec": {
   "display_name": "Python 3 (ipykernel)",
   "language": "python",
   "name": "python3"
  },
  "language_info": {
   "codemirror_mode": {
    "name": "ipython",
    "version": 3
   },
   "file_extension": ".py",
   "mimetype": "text/x-python",
   "name": "python",
   "nbconvert_exporter": "python",
   "pygments_lexer": "ipython3",
   "version": "3.12.1"
  }
 },
 "nbformat": 4,
 "nbformat_minor": 4
}
