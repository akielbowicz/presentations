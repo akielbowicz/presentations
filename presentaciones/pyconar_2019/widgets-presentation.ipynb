{
 "cells": [
  {
   "cell_type": "markdown",
   "metadata": {
    "slideshow": {
     "slide_type": "slide"
    }
   },
   "source": [
    "![99pi](imagenes/99pi.jpg)"
   ]
  },
  {
   "cell_type": "markdown",
   "metadata": {
    "slideshow": {
     "slide_type": "subslide"
    }
   },
   "source": [
    "![pyconar](imagenes/pyconar_isologo.png)"
   ]
  },
  {
   "cell_type": "markdown",
   "metadata": {
    "slideshow": {
     "slide_type": "slide"
    }
   },
   "source": [
    "# ¿Cómo funcionan los Widgets de Jupyter?"
   ]
  },
  {
   "cell_type": "markdown",
   "metadata": {
    "slideshow": {
     "slide_type": "subslide"
    }
   },
   "source": [
    "- # [¿Qué es un Widget?](#¿Qué-es-un-Widget?)\n",
    "- # [¿Cómo funciona un **ipywidget**?](¿Cómo-funciona-un-ipywidget?)\n",
    "- # ¿Qué tengo que tener en cuenta al implementar uno?"
   ]
  },
  {
   "cell_type": "markdown",
   "metadata": {
    "slideshow": {
     "slide_type": "slide"
    }
   },
   "source": [
    "# ¿Qué es un Widget?"
   ]
  },
  {
   "cell_type": "markdown",
   "metadata": {
    "slideshow": {
     "slide_type": "subslide"
    }
   },
   "source": [
    "![ferreteria](imagenes/tenes_el_cosito_cronicas_ferreteras.png)"
   ]
  },
  {
   "cell_type": "markdown",
   "metadata": {
    "slideshow": {
     "slide_type": "subslide"
    }
   },
   "source": [
    "# Y por qué deberían interesarme los widgets?"
   ]
  },
  {
   "cell_type": "markdown",
   "metadata": {
    "slideshow": {
     "slide_type": "subslide"
    }
   },
   "source": [
    "![ipycanvas](imagenes/ipycanvas.png)"
   ]
  },
  {
   "cell_type": "markdown",
   "metadata": {
    "slideshow": {
     "slide_type": "subslide"
    }
   },
   "source": [
    "![ipyleaflet](imagenes/ipyleaflet.gif)"
   ]
  },
  {
   "cell_type": "markdown",
   "metadata": {
    "slideshow": {
     "slide_type": "subslide"
    }
   },
   "source": [
    "![pythreejs](imagenes/pythreejs.gif)"
   ]
  },
  {
   "cell_type": "markdown",
   "metadata": {
    "slideshow": {
     "slide_type": "subslide"
    }
   },
   "source": [
    "![ipyvolume](imagenes/ipyvolume.gif)"
   ]
  },
  {
   "cell_type": "markdown",
   "metadata": {
    "slideshow": {
     "slide_type": "subslide"
    }
   },
   "source": [
    "![ipywebrtc](imagenes/ipywebrtc.gif)"
   ]
  },
  {
   "cell_type": "markdown",
   "metadata": {
    "slideshow": {
     "slide_type": "subslide"
    }
   },
   "source": [
    "![binary_star](imagenes/binary_star_demo.gif)"
   ]
  },
  {
   "cell_type": "markdown",
   "metadata": {
    "slideshow": {
     "slide_type": "subslide"
    }
   },
   "source": [
    "![tecla](imagenes/tecla_cualquiera.jpeg)"
   ]
  },
  {
   "cell_type": "markdown",
   "metadata": {
    "slideshow": {
     "slide_type": "slide"
    }
   },
   "source": [
    "# Advertencia!!!"
   ]
  },
  {
   "cell_type": "markdown",
   "metadata": {
    "slideshow": {
     "slide_type": "subslide"
    }
   },
   "source": [
    "![benito_y_charly](imagenes/benito_cerati_y_charly_garcia.jpg)"
   ]
  },
  {
   "cell_type": "markdown",
   "metadata": {
    "slideshow": {
     "slide_type": "slide"
    }
   },
   "source": [
    "# ¿Cómo funciona un **ipywidget**?"
   ]
  },
  {
   "cell_type": "markdown",
   "metadata": {
    "slideshow": {
     "slide_type": "notes"
    }
   },
   "source": [
    "Empecemos con un objeto basico y vemos la representacion"
   ]
  },
  {
   "cell_type": "code",
   "execution_count": 1,
   "metadata": {
    "slideshow": {
     "slide_type": "subslide"
    }
   },
   "outputs": [
    {
     "name": "stdout",
     "output_type": "stream",
     "text": [
      "<__main__.Cosito object at 0x000002664553B920>\n"
     ]
    }
   ],
   "source": [
    "class Cosito:\n",
    "    \n",
    "    def __init__(self, nombre):\n",
    "        self.nombre = nombre\n",
    "    \n",
    "ruflete = Cosito('ruflete')    \n",
    "print(ruflete)"
   ]
  },
  {
   "cell_type": "markdown",
   "metadata": {
    "slideshow": {
     "slide_type": "subslide"
    }
   },
   "source": [
    "![print_y_repr](imagenes/print_y_repr_como_debuguear_python.png)"
   ]
  },
  {
   "cell_type": "code",
   "execution_count": 2,
   "metadata": {
    "slideshow": {
     "slide_type": "subslide"
    }
   },
   "outputs": [
    {
     "name": "stdout",
     "output_type": "stream",
     "text": [
      "Esto es str: ruflete\n",
      "Esto es repr: Cosito(\"ruflete\")\n"
     ]
    }
   ],
   "source": [
    "class Cosito:\n",
    "    \n",
    "    def __init__(self, nombre):\n",
    "        self.nombre = nombre\n",
    "    \n",
    "    def __str__(self):\n",
    "        return self.nombre\n",
    "    \n",
    "    def __repr__(self):\n",
    "        return f'Cosito(\"{self.nombre}\")'\n",
    "    \n",
    "ruflete = Cosito('ruflete')    \n",
    "print('Esto es str:', ruflete)\n",
    "print('Esto es repr:',repr(ruflete))"
   ]
  },
  {
   "cell_type": "markdown",
   "metadata": {
    "slideshow": {
     "slide_type": "subslide"
    }
   },
   "source": [
    "![lil_mikela](imagenes/lil_mikela_todo_es_fake.jpg)"
   ]
  },
  {
   "cell_type": "markdown",
   "metadata": {
    "slideshow": {
     "slide_type": "skip"
    }
   },
   "source": [
    "https://ipython.readthedocs.io/en/stable/config/integrating.html#rich-display"
   ]
  },
  {
   "cell_type": "code",
   "execution_count": 3,
   "metadata": {
    "slideshow": {
     "slide_type": "subslide"
    }
   },
   "outputs": [
    {
     "name": "stdout",
     "output_type": "stream",
     "text": [
      "Esto es str: ruflete\n",
      "Esto es repr: Cosito(\"ruflete\")\n"
     ]
    },
    {
     "data": {
      "text/html": [
       "<i class=\"fa fa-hand-spock-o\" style=\"font-size:48px;color:red\">ruflete</i>"
      ],
      "text/plain": [
       "Cosito(\"ruflete\")"
      ]
     },
     "execution_count": 3,
     "metadata": {},
     "output_type": "execute_result"
    }
   ],
   "source": [
    "class Cosito:\n",
    "    \n",
    "    html_template = '<i class=\"fa fa-hand-spock-o\" style=\"font-size:48px;color:red\">{nombre}</i>'\n",
    "    \n",
    "    def __init__(self, nombre):\n",
    "        self.nombre = nombre\n",
    "    \n",
    "    def __str__(self):\n",
    "        return self.nombre\n",
    "    \n",
    "    def __repr__(self):\n",
    "        return f'Cosito(\"{self.nombre}\")'\n",
    "    \n",
    "    def _repr_html_(self):\n",
    "        return self.html_template.format(nombre=self.nombre)\n",
    "\n",
    "ruflete = Cosito('ruflete')    \n",
    "print('Esto es str:', ruflete)\n",
    "print('Esto es repr:',repr(ruflete))\n",
    "ruflete"
   ]
  },
  {
   "cell_type": "code",
   "execution_count": 4,
   "metadata": {
    "slideshow": {
     "slide_type": "subslide"
    }
   },
   "outputs": [],
   "source": [
    "from ipywidgets import HTML, VBox, Image, IntSlider, link\n",
    "from IPython.display import display"
   ]
  },
  {
   "cell_type": "code",
   "execution_count": 5,
   "metadata": {
    "slideshow": {
     "slide_type": "fragment"
    }
   },
   "outputs": [],
   "source": [
    "class Cosito:\n",
    "    \n",
    "    html_template = '<i class=\"fa fa-hand-spock-o\" style=\"font-size:48px;color:red\">{nombre}</i>'\n",
    "    \n",
    "    def __init__(self, nombre):\n",
    "        self.nombre = nombre\n",
    "    \n",
    "    def __str__(self):\n",
    "        return self.nombre\n",
    "    \n",
    "    def __repr__(self):\n",
    "        return f'Cosito(\"{self.nombre}\")'\n",
    "    \n",
    "    def _ipython_display_(self):\n",
    "        html = HTML(self.html_template.format(nombre=self.nombre))\n",
    "        with open('imagenes/ruflete.jpg','rb') as img:\n",
    "            imagen_data = img.read()\n",
    "        slider = IntSlider(min=100,max=300)\n",
    "        imagen = Image(value=imagen_data,height=200,width=300)\n",
    "        link((imagen,'width'),(slider,'value'))\n",
    "        display(VBox([html,imagen,slider]))"
   ]
  },
  {
   "cell_type": "code",
   "execution_count": 6,
   "metadata": {
    "slideshow": {
     "slide_type": "subslide"
    }
   },
   "outputs": [
    {
     "name": "stdout",
     "output_type": "stream",
     "text": [
      "Esto es str: ruflete\n",
      "Esto es repr: Cosito(\"ruflete\")\n"
     ]
    },
    {
     "data": {
      "application/vnd.jupyter.widget-view+json": {
       "model_id": "f55c4846eb8a48e796ae486afd3af851",
       "version_major": 2,
       "version_minor": 0
      },
      "text/plain": [
       "VBox(children=(HTML(value='<i class=\"fa fa-hand-spock-o\" style=\"font-size:48px;color:red\">ruflete</i>'), Image…"
      ]
     },
     "metadata": {},
     "output_type": "display_data"
    }
   ],
   "source": [
    "ruflete = Cosito('ruflete')    \n",
    "print('Esto es str:', ruflete)\n",
    "print('Esto es repr:',repr(ruflete))\n",
    "ruflete"
   ]
  },
  {
   "cell_type": "markdown",
   "metadata": {
    "slideshow": {
     "slide_type": "slide"
    }
   },
   "source": [
    "![angustia](imagenes/la_angustia_peripateticas.jpeg)"
   ]
  },
  {
   "cell_type": "code",
   "execution_count": 7,
   "metadata": {
    "slideshow": {
     "slide_type": "subslide"
    }
   },
   "outputs": [
    {
     "data": {
      "text/plain": [
       "Cosito()"
      ]
     },
     "execution_count": 7,
     "metadata": {},
     "output_type": "execute_result"
    }
   ],
   "source": [
    "from traitlets import Unicode, Int\n",
    "from ipywidgets import Widget\n",
    "\n",
    "class Cosito(Widget):\n",
    "    \n",
    "    nombre  = Unicode('cosito').tag(sync=True)\n",
    "    tamanio = Int(15).tag(sync=True, metadata={'marca':'tres chanchitos'})\n",
    "    \n",
    "ruflete = Cosito()\n",
    "ruflete"
   ]
  },
  {
   "cell_type": "markdown",
   "metadata": {
    "slideshow": {
     "slide_type": "notes"
    }
   },
   "source": [
    "Mencionar los traitlets"
   ]
  },
  {
   "cell_type": "markdown",
   "metadata": {
    "slideshow": {
     "slide_type": "subslide"
    }
   },
   "source": [
    "![lo_keh](imagenes/miau_trio_13_lo_keh.png)"
   ]
  },
  {
   "cell_type": "markdown",
   "metadata": {
    "slideshow": {
     "slide_type": "subslide"
    }
   },
   "source": [
    "![descriptors](imagenes/descriptors_exposed.png)"
   ]
  },
  {
   "cell_type": "markdown",
   "metadata": {
    "slideshow": {
     "slide_type": "slide"
    }
   },
   "source": [
    "![lo_keh](imagenes/miau_trio_02_me_decis_que_espere_tu_llamado.png)"
   ]
  },
  {
   "cell_type": "code",
   "execution_count": 8,
   "metadata": {
    "slideshow": {
     "slide_type": "subslide"
    }
   },
   "outputs": [
    {
     "name": "stdout",
     "output_type": "stream",
     "text": [
      "Ring ring!\n"
     ]
    }
   ],
   "source": [
    "def llamado(cambio):\n",
    "    print('Ring ring!')\n",
    "\n",
    "ruflete.observe(llamado)\n",
    "ruflete.nombre = 'ruflete'"
   ]
  },
  {
   "cell_type": "markdown",
   "metadata": {
    "slideshow": {
     "slide_type": "subslide"
    }
   },
   "source": [
    "![lo_keh](imagenes/miau_trio_04_este_es_mi_mensaje.png)"
   ]
  },
  {
   "cell_type": "markdown",
   "metadata": {
    "slideshow": {
     "slide_type": "subslide"
    }
   },
   "source": [
    "# [Estructura del evento](https://ipywidgets.readthedocs.io/en/latest/examples/Widget%20Events.html#Registering-callbacks-to-trait-changes-in-the-kernel)\n",
    "\n",
    "```python\n",
    "def llamado(cambio):\n",
    "    print(cambio)\n",
    "    \n",
    "cambio = {  'owner' : Cosito(name='ruflete'),       #'la instancia de un objeto HasTraits (traitlets)'\n",
    "            'old'   : 'cosito', # valor viejo del atributo modificado\n",
    "            'new'   : 'ruflete',# valor nuevo del atributo modificado\n",
    "            'name'  : 'nombre'  # nombre del atributo que fue modificado'\n",
    "            'type'  : 'change'  # tipo del evento observado\n",
    "         }\n",
    "```"
   ]
  },
  {
   "cell_type": "markdown",
   "metadata": {
    "slideshow": {
     "slide_type": "subslide"
    }
   },
   "source": [
    "![siempre_me_decis_lo_que_tengo_que_hacer](imagenes/miau_trio_01_siempre_decis_que_tengo_que_hacer.png)"
   ]
  },
  {
   "cell_type": "code",
   "execution_count": 9,
   "metadata": {
    "slideshow": {
     "slide_type": "subslide"
    }
   },
   "outputs": [],
   "source": [
    "rosca = Cosito(nombre='rosca')\n",
    "\n",
    "def hace_esto(cambio):\n",
    "    rosca.tamanio -=  cambio['new']\n",
    "    \n",
    "ruflete.observe(hace_esto,names='tamanio')"
   ]
  },
  {
   "cell_type": "markdown",
   "metadata": {
    "slideshow": {
     "slide_type": "notes"
    }
   },
   "source": [
    "Hay veces que los efectos de los callbacks quedan ocultos "
   ]
  },
  {
   "cell_type": "markdown",
   "metadata": {
    "slideshow": {
     "slide_type": "slide"
    }
   },
   "source": [
    "![espero](imagenes/miau_trio_03_espero_espero.png)"
   ]
  },
  {
   "cell_type": "markdown",
   "metadata": {
    "slideshow": {
     "slide_type": "subslide"
    }
   },
   "source": [
    "## [Output widget para capturar la salida de un llamado](https://ipywidgets.readthedocs.io/en/latest/examples/Output%20Widget.html#Debugging-errors-in-callbacks-with-the-output-widget)"
   ]
  },
  {
   "cell_type": "code",
   "execution_count": 10,
   "metadata": {
    "slideshow": {
     "slide_type": "subslide"
    }
   },
   "outputs": [
    {
     "name": "stdout",
     "output_type": "stream",
     "text": [
      "Ring ring!\n"
     ]
    },
    {
     "ename": "ValueError",
     "evalue": "No deberías hacer eso",
     "output_type": "error",
     "traceback": [
      "\u001b[1;31m---------------------------------------------------------------------------\u001b[0m",
      "\u001b[1;31mValueError\u001b[0m                                Traceback (most recent call last)",
      "Cell \u001b[1;32mIn[10], line 5\u001b[0m\n\u001b[0;32m      2\u001b[0m     \u001b[38;5;28;01mraise\u001b[39;00m \u001b[38;5;167;01mValueError\u001b[39;00m(\u001b[38;5;124m'\u001b[39m\u001b[38;5;124mNo deberías hacer eso\u001b[39m\u001b[38;5;124m'\u001b[39m)\n\u001b[0;32m      4\u001b[0m ruflete\u001b[38;5;241m.\u001b[39mobserve(intentar_encastrar)\n\u001b[1;32m----> 5\u001b[0m \u001b[43mruflete\u001b[49m\u001b[38;5;241;43m.\u001b[39;49m\u001b[43mtamanio\u001b[49m \u001b[38;5;241m=\u001b[39m \u001b[38;5;241m0\u001b[39m\n\u001b[0;32m      6\u001b[0m ruflete\n",
      "File \u001b[1;32m~\\dev\\gh\\akielbowicz\\presentations\\.venv\\Lib\\site-packages\\traitlets\\traitlets.py:716\u001b[0m, in \u001b[0;36mTraitType.__set__\u001b[1;34m(self, obj, value)\u001b[0m\n\u001b[0;32m    714\u001b[0m \u001b[38;5;28;01mif\u001b[39;00m \u001b[38;5;28mself\u001b[39m\u001b[38;5;241m.\u001b[39mread_only:\n\u001b[0;32m    715\u001b[0m     \u001b[38;5;28;01mraise\u001b[39;00m TraitError(\u001b[38;5;124m'\u001b[39m\u001b[38;5;124mThe \u001b[39m\u001b[38;5;124m\"\u001b[39m\u001b[38;5;132;01m%s\u001b[39;00m\u001b[38;5;124m\"\u001b[39m\u001b[38;5;124m trait is read-only.\u001b[39m\u001b[38;5;124m'\u001b[39m \u001b[38;5;241m%\u001b[39m \u001b[38;5;28mself\u001b[39m\u001b[38;5;241m.\u001b[39mname)\n\u001b[1;32m--> 716\u001b[0m \u001b[38;5;28;43mself\u001b[39;49m\u001b[38;5;241;43m.\u001b[39;49m\u001b[43mset\u001b[49m\u001b[43m(\u001b[49m\u001b[43mobj\u001b[49m\u001b[43m,\u001b[49m\u001b[43m \u001b[49m\u001b[43mvalue\u001b[49m\u001b[43m)\u001b[49m\n",
      "File \u001b[1;32m~\\dev\\gh\\akielbowicz\\presentations\\.venv\\Lib\\site-packages\\traitlets\\traitlets.py:706\u001b[0m, in \u001b[0;36mTraitType.set\u001b[1;34m(self, obj, value)\u001b[0m\n\u001b[0;32m    702\u001b[0m     silent \u001b[38;5;241m=\u001b[39m \u001b[38;5;28;01mFalse\u001b[39;00m\n\u001b[0;32m    703\u001b[0m \u001b[38;5;28;01mif\u001b[39;00m silent \u001b[38;5;129;01mis\u001b[39;00m \u001b[38;5;129;01mnot\u001b[39;00m \u001b[38;5;28;01mTrue\u001b[39;00m:\n\u001b[0;32m    704\u001b[0m     \u001b[38;5;66;03m# we explicitly compare silent to True just in case the equality\u001b[39;00m\n\u001b[0;32m    705\u001b[0m     \u001b[38;5;66;03m# comparison above returns something other than True/False\u001b[39;00m\n\u001b[1;32m--> 706\u001b[0m     \u001b[43mobj\u001b[49m\u001b[38;5;241;43m.\u001b[39;49m\u001b[43m_notify_trait\u001b[49m\u001b[43m(\u001b[49m\u001b[38;5;28;43mself\u001b[39;49m\u001b[38;5;241;43m.\u001b[39;49m\u001b[43mname\u001b[49m\u001b[43m,\u001b[49m\u001b[43m \u001b[49m\u001b[43mold_value\u001b[49m\u001b[43m,\u001b[49m\u001b[43m \u001b[49m\u001b[43mnew_value\u001b[49m\u001b[43m)\u001b[49m\n",
      "File \u001b[1;32m~\\dev\\gh\\akielbowicz\\presentations\\.venv\\Lib\\site-packages\\traitlets\\traitlets.py:1513\u001b[0m, in \u001b[0;36mHasTraits._notify_trait\u001b[1;34m(self, name, old_value, new_value)\u001b[0m\n\u001b[0;32m   1512\u001b[0m \u001b[38;5;28;01mdef\u001b[39;00m \u001b[38;5;21m_notify_trait\u001b[39m(\u001b[38;5;28mself\u001b[39m, name: \u001b[38;5;28mstr\u001b[39m, old_value: t\u001b[38;5;241m.\u001b[39mAny, new_value: t\u001b[38;5;241m.\u001b[39mAny) \u001b[38;5;241m-\u001b[39m\u001b[38;5;241m>\u001b[39m \u001b[38;5;28;01mNone\u001b[39;00m:\n\u001b[1;32m-> 1513\u001b[0m     \u001b[38;5;28;43mself\u001b[39;49m\u001b[38;5;241;43m.\u001b[39;49m\u001b[43mnotify_change\u001b[49m\u001b[43m(\u001b[49m\n\u001b[0;32m   1514\u001b[0m \u001b[43m        \u001b[49m\u001b[43mBunch\u001b[49m\u001b[43m(\u001b[49m\n\u001b[0;32m   1515\u001b[0m \u001b[43m            \u001b[49m\u001b[43mname\u001b[49m\u001b[38;5;241;43m=\u001b[39;49m\u001b[43mname\u001b[49m\u001b[43m,\u001b[49m\n\u001b[0;32m   1516\u001b[0m \u001b[43m            \u001b[49m\u001b[43mold\u001b[49m\u001b[38;5;241;43m=\u001b[39;49m\u001b[43mold_value\u001b[49m\u001b[43m,\u001b[49m\n\u001b[0;32m   1517\u001b[0m \u001b[43m            \u001b[49m\u001b[43mnew\u001b[49m\u001b[38;5;241;43m=\u001b[39;49m\u001b[43mnew_value\u001b[49m\u001b[43m,\u001b[49m\n\u001b[0;32m   1518\u001b[0m \u001b[43m            \u001b[49m\u001b[43mowner\u001b[49m\u001b[38;5;241;43m=\u001b[39;49m\u001b[38;5;28;43mself\u001b[39;49m\u001b[43m,\u001b[49m\n\u001b[0;32m   1519\u001b[0m \u001b[43m            \u001b[49m\u001b[38;5;28;43mtype\u001b[39;49m\u001b[38;5;241;43m=\u001b[39;49m\u001b[38;5;124;43m\"\u001b[39;49m\u001b[38;5;124;43mchange\u001b[39;49m\u001b[38;5;124;43m\"\u001b[39;49m\u001b[43m,\u001b[49m\n\u001b[0;32m   1520\u001b[0m \u001b[43m        \u001b[49m\u001b[43m)\u001b[49m\n\u001b[0;32m   1521\u001b[0m \u001b[43m    \u001b[49m\u001b[43m)\u001b[49m\n",
      "File \u001b[1;32m~\\dev\\gh\\akielbowicz\\presentations\\.venv\\Lib\\site-packages\\ipywidgets\\widgets\\widget.py:701\u001b[0m, in \u001b[0;36mWidget.notify_change\u001b[1;34m(self, change)\u001b[0m\n\u001b[0;32m    698\u001b[0m     \u001b[38;5;28;01mif\u001b[39;00m name \u001b[38;5;129;01min\u001b[39;00m \u001b[38;5;28mself\u001b[39m\u001b[38;5;241m.\u001b[39mkeys \u001b[38;5;129;01mand\u001b[39;00m \u001b[38;5;28mself\u001b[39m\u001b[38;5;241m.\u001b[39m_should_send_property(name, \u001b[38;5;28mgetattr\u001b[39m(\u001b[38;5;28mself\u001b[39m, name)):\n\u001b[0;32m    699\u001b[0m         \u001b[38;5;66;03m# Send new state to front-end\u001b[39;00m\n\u001b[0;32m    700\u001b[0m         \u001b[38;5;28mself\u001b[39m\u001b[38;5;241m.\u001b[39msend_state(key\u001b[38;5;241m=\u001b[39mname)\n\u001b[1;32m--> 701\u001b[0m \u001b[38;5;28;43msuper\u001b[39;49m\u001b[43m(\u001b[49m\u001b[43m)\u001b[49m\u001b[38;5;241;43m.\u001b[39;49m\u001b[43mnotify_change\u001b[49m\u001b[43m(\u001b[49m\u001b[43mchange\u001b[49m\u001b[43m)\u001b[49m\n",
      "File \u001b[1;32m~\\dev\\gh\\akielbowicz\\presentations\\.venv\\Lib\\site-packages\\traitlets\\traitlets.py:1525\u001b[0m, in \u001b[0;36mHasTraits.notify_change\u001b[1;34m(self, change)\u001b[0m\n\u001b[0;32m   1523\u001b[0m \u001b[38;5;28;01mdef\u001b[39;00m \u001b[38;5;21mnotify_change\u001b[39m(\u001b[38;5;28mself\u001b[39m, change: Bunch) \u001b[38;5;241m-\u001b[39m\u001b[38;5;241m>\u001b[39m \u001b[38;5;28;01mNone\u001b[39;00m:\n\u001b[0;32m   1524\u001b[0m \u001b[38;5;250m    \u001b[39m\u001b[38;5;124;03m\"\"\"Notify observers of a change event\"\"\"\u001b[39;00m\n\u001b[1;32m-> 1525\u001b[0m     \u001b[38;5;28;01mreturn\u001b[39;00m \u001b[38;5;28;43mself\u001b[39;49m\u001b[38;5;241;43m.\u001b[39;49m\u001b[43m_notify_observers\u001b[49m\u001b[43m(\u001b[49m\u001b[43mchange\u001b[49m\u001b[43m)\u001b[49m\n",
      "File \u001b[1;32m~\\dev\\gh\\akielbowicz\\presentations\\.venv\\Lib\\site-packages\\traitlets\\traitlets.py:1568\u001b[0m, in \u001b[0;36mHasTraits._notify_observers\u001b[1;34m(self, event)\u001b[0m\n\u001b[0;32m   1565\u001b[0m \u001b[38;5;28;01melif\u001b[39;00m \u001b[38;5;28misinstance\u001b[39m(c, EventHandler) \u001b[38;5;129;01mand\u001b[39;00m c\u001b[38;5;241m.\u001b[39mname \u001b[38;5;129;01mis\u001b[39;00m \u001b[38;5;129;01mnot\u001b[39;00m \u001b[38;5;28;01mNone\u001b[39;00m:\n\u001b[0;32m   1566\u001b[0m     c \u001b[38;5;241m=\u001b[39m \u001b[38;5;28mgetattr\u001b[39m(\u001b[38;5;28mself\u001b[39m, c\u001b[38;5;241m.\u001b[39mname)\n\u001b[1;32m-> 1568\u001b[0m \u001b[43mc\u001b[49m\u001b[43m(\u001b[49m\u001b[43mevent\u001b[49m\u001b[43m)\u001b[49m\n",
      "Cell \u001b[1;32mIn[10], line 2\u001b[0m, in \u001b[0;36mintentar_encastrar\u001b[1;34m(cambio)\u001b[0m\n\u001b[0;32m      1\u001b[0m \u001b[38;5;28;01mdef\u001b[39;00m \u001b[38;5;21mintentar_encastrar\u001b[39m(cambio):\n\u001b[1;32m----> 2\u001b[0m     \u001b[38;5;28;01mraise\u001b[39;00m \u001b[38;5;167;01mValueError\u001b[39;00m(\u001b[38;5;124m'\u001b[39m\u001b[38;5;124mNo deberías hacer eso\u001b[39m\u001b[38;5;124m'\u001b[39m)\n",
      "\u001b[1;31mValueError\u001b[0m: No deberías hacer eso"
     ]
    }
   ],
   "source": [
    "def intentar_encastrar(cambio):\n",
    "    raise ValueError('No deberías hacer eso')\n",
    "    \n",
    "ruflete.observe(intentar_encastrar)\n",
    "ruflete.tamanio = 0\n",
    "ruflete"
   ]
  },
  {
   "cell_type": "code",
   "execution_count": 11,
   "metadata": {
    "slideshow": {
     "slide_type": "subslide"
    }
   },
   "outputs": [
    {
     "data": {
      "application/vnd.jupyter.widget-view+json": {
       "model_id": "2cebb87554b74f9a9052a86daf43f2ce",
       "version_major": 2,
       "version_minor": 0
      },
      "text/plain": [
       "Output(layout=Layout(border_bottom='1px solid black', border_left='1px solid black', border_right='1px solid b…"
      ]
     },
     "execution_count": 11,
     "metadata": {},
     "output_type": "execute_result"
    }
   ],
   "source": [
    "from ipywidgets import Output\n",
    "output = Output(layout={'border': '1px solid black'})\n",
    "\n",
    "@output.capture()\n",
    "def intentar_encastrar_otra_vez(cambio):\n",
    "    raise ValueError('No deberías hacer eso otra vez')\n",
    "    \n",
    "ruflete.observe(intentar_encastrar_otra_vez)\n",
    "output"
   ]
  },
  {
   "cell_type": "markdown",
   "metadata": {
    "slideshow": {
     "slide_type": "slide"
    }
   },
   "source": [
    "![hasta_ahora_todo_bien](imagenes/hasta_ahora_todo_bien_tarde_baby.png)"
   ]
  },
  {
   "cell_type": "markdown",
   "metadata": {
    "slideshow": {
     "slide_type": "subslide"
    }
   },
   "source": [
    "![siempre_me_preguntas_como](imagenes/miau_trio_05_siempre_me_preguntas_como.png)"
   ]
  },
  {
   "cell_type": "code",
   "execution_count": 12,
   "metadata": {
    "slideshow": {
     "slide_type": "subslide"
    }
   },
   "outputs": [],
   "source": [
    "from traitlets import Unicode, Bool, validate, TraitError\n",
    "from ipywidgets import DOMWidget, register\n",
    "\n",
    "\n",
    "@register\n",
    "class Cosito(DOMWidget):\n",
    "    _view_name = Unicode('CositoView').tag(sync=True)\n",
    "    _view_module = Unicode('cosito_widget').tag(sync=True)\n",
    "    _view_module_version = Unicode('0.1.0').tag(sync=True)"
   ]
  },
  {
   "cell_type": "markdown",
   "metadata": {
    "slideshow": {
     "slide_type": "subslide"
    }
   },
   "source": [
    "```javascript\n",
    "var CositoModel = widgets.DOMWidgetModel.extend({\n",
    "    defaults : function() { ... };\n",
    "});\n",
    "\n",
    "var CositoView = widgets.DOMWidgetView.extend({\n",
    "\n",
    "   render : function() {\n",
    "        this.el.appendChild(this.input);\n",
    "        this.model.on('change:value',this.value_changed,this);\n",
    "   };        \n",
    "});\n",
    "```"
   ]
  },
  {
   "cell_type": "markdown",
   "metadata": {
    "slideshow": {
     "slide_type": "subslide"
    }
   },
   "source": [
    "![melancolia](imagenes/la_melancolia_peripatetica.jpeg)"
   ]
  },
  {
   "cell_type": "markdown",
   "metadata": {
    "slideshow": {
     "slide_type": "subslide"
    }
   },
   "source": [
    "![](imagenes/backbone.png)"
   ]
  },
  {
   "cell_type": "markdown",
   "metadata": {
    "slideshow": {
     "slide_type": "fragment"
    }
   },
   "source": [
    "# https://github.com/jupyter-widgets/widget-ts-cookiecutter"
   ]
  },
  {
   "cell_type": "markdown",
   "metadata": {
    "slideshow": {
     "slide_type": "subslide"
    }
   },
   "source": [
    "![bueno_ahora_escucha_mi_llamado](imagenes/miau_trio_04_bueno_ahora_escucha_mi_llamado.png)"
   ]
  },
  {
   "cell_type": "markdown",
   "metadata": {
    "slideshow": {
     "slide_type": "subslide"
    }
   },
   "source": [
    "```javascript\n",
    "        this.model.on('change:value',this.value_changed,this);\n",
    "```        "
   ]
  },
  {
   "cell_type": "markdown",
   "metadata": {
    "slideshow": {
     "slide_type": "subslide"
    }
   },
   "source": [
    "![deja_de_chatearme](imagenes/miau_trio_07_deja_de_chatearme.png)"
   ]
  },
  {
   "cell_type": "markdown",
   "metadata": {
    "slideshow": {
     "slide_type": "subslide"
    }
   },
   "source": [
    "```javascript\n",
    "        this.listenTo(this.model,'change:value',this.value_changed);\n",
    "```"
   ]
  },
  {
   "cell_type": "markdown",
   "metadata": {
    "slideshow": {
     "slide_type": "slide"
    }
   },
   "source": [
    "![felicidad](imagenes/la_felicidad_peripateticas.jpeg)"
   ]
  },
  {
   "cell_type": "markdown",
   "metadata": {
    "slideshow": {
     "slide_type": "subslide"
    }
   },
   "source": [
    "```python\n",
    "class Reloj(DOMWidget):\n",
    "    value = Date(None, allow_none=True).tag(sync=True, **date_serialization)\n",
    "```"
   ]
  },
  {
   "cell_type": "markdown",
   "metadata": {
    "slideshow": {
     "slide_type": "subslide"
    }
   },
   "source": [
    "![chino](imagenes/miau_trio_12_chino.png)"
   ]
  },
  {
   "cell_type": "markdown",
   "metadata": {
    "slideshow": {
     "slide_type": "subslide"
    }
   },
   "source": [
    "## [Serialización entre python y javascript](https://ipywidgets.readthedocs.io/en/latest/examples/Widget%20Low%20Level.html#Serialization-of-widget-attributes)"
   ]
  },
  {
   "cell_type": "markdown",
   "metadata": {
    "slideshow": {
     "slide_type": "subslide"
    }
   },
   "source": [
    "![chino](imagenes/entendiendo_unicode.png)"
   ]
  },
  {
   "cell_type": "markdown",
   "metadata": {
    "slideshow": {
     "slide_type": "subslide"
    }
   },
   "source": [
    "![emoji](imagenes/miau_trio_11_emoji.png)"
   ]
  },
  {
   "cell_type": "markdown",
   "metadata": {
    "slideshow": {
     "slide_type": "subslide"
    }
   },
   "source": [
    "## [Traittypes](https://github.com/jupyter-widgets/traittypes)\n",
    "\n",
    "### Serializador de numpy y pandas"
   ]
  },
  {
   "cell_type": "markdown",
   "metadata": {
    "slideshow": {
     "slide_type": "slide"
    }
   },
   "source": [
    "# Cuando empezamos a tener varios widgets que interactuan"
   ]
  },
  {
   "cell_type": "code",
   "execution_count": 13,
   "metadata": {
    "slideshow": {
     "slide_type": "fragment"
    }
   },
   "outputs": [],
   "source": [
    "from ipywidgets import FloatSlider, Dropdown\n",
    "\n",
    "cosito = Cosito()\n",
    "precio   = FloatSlider(min=0,max=200)\n",
    "etiqueta = Dropdown(options=['Nuevo','Usado','Reparado'])\n",
    "\n",
    "def cambiar_precio(cambio):\n",
    "    cosito.precio = cambio['new']\n",
    "\n",
    "def actualizacion_de_estado(cambio):\n",
    "    if cambio['new'] == 'Usado':\n",
    "        cosito.precio *=  0.45\n",
    "        cosito.etiqueta = cambio['new']\n",
    "\n",
    "precio.observe(cambiar_precio)\n",
    "etiqueta.observe(actualizacion_de_estado,names='value')"
   ]
  },
  {
   "cell_type": "markdown",
   "metadata": {
    "slideshow": {
     "slide_type": "subslide"
    }
   },
   "source": [
    "![las_estaciones](imagenes/oh_mi_novia_las_estaciones.png)"
   ]
  },
  {
   "cell_type": "markdown",
   "metadata": {
    "slideshow": {
     "slide_type": "subslide"
    }
   },
   "source": [
    "![open_folk](imagenes/Open-Folk-Nsh.jpg)"
   ]
  },
  {
   "cell_type": "markdown",
   "metadata": {
    "slideshow": {
     "slide_type": "subslide"
    }
   },
   "source": [
    "# Ipywidgets [Issue 2296](https://github.com/jupyter-widgets/ipywidgets/issues/2296)"
   ]
  },
  {
   "cell_type": "code",
   "execution_count": 14,
   "metadata": {
    "slideshow": {
     "slide_type": "subslide"
    }
   },
   "outputs": [],
   "source": [
    "from traitlets import HasTraits, Float, observe, Unicode\n",
    "\n",
    "class CositoModelo(HasTraits):\n",
    "    \n",
    "    tamanio  = Float()\n",
    "    nombre   = Unicode()\n",
    "    precio   = Float()\n",
    "    etiqueta = Unicode()\n",
    "    \n",
    "    def recalcular_precio(self):\n",
    "       pass\n",
    "\n",
    "    @observe('tamanio')\n",
    "    def llamado(self, cambio):\n",
    "        pass\n",
    "        \n",
    "    def __repr__(self):\n",
    "        pass"
   ]
  },
  {
   "cell_type": "code",
   "execution_count": 15,
   "metadata": {
    "slideshow": {
     "slide_type": "subslide"
    }
   },
   "outputs": [],
   "source": [
    "import ipywidgets as widgets\n",
    "from traitlets import link\n",
    "from IPython.display import display\n",
    "\n",
    "class CositoVista:\n",
    "    def __init__(self, modelo):\n",
    "        self.model    = modelo\n",
    "        self.tipo     = widgets.Dropdown(options=[\"plastico\", \"metal\"])\n",
    "        self.etiqueta = widgets.Label('Original')\n",
    "        self.tamanio  = widgets.IntSlider()\n",
    "        self.precio   = widgets.FloatLogSlider()\n",
    "                \n",
    "        self.ipyview  = widgets.HBox([widgets.VBox([self.tipo, ]), \n",
    "                                      widgets.VBox([self.etiqueta, \n",
    "                                                    widgets.HBox([self.precio, self.tamanio])])])\n",
    " \n",
    "        link((modelo, 'tipo'), (self.tipo, 'value'))\n",
    "        link((modelo, 'etiqueta'), (self.etiqueta, 'value'))\n",
    "        link((modelo, 'precio'), (self.precio, 'value'))\n",
    "        link((modelo, 'tamanio'), (self.tamanio, 'value'))\n",
    "\n",
    "    def _ipython_display_(self):\n",
    "        display(self.ipyview)"
   ]
  },
  {
   "cell_type": "markdown",
   "metadata": {
    "slideshow": {
     "slide_type": "slide"
    }
   },
   "source": [
    "# @sashaKile"
   ]
  },
  {
   "cell_type": "markdown",
   "metadata": {
    "slideshow": {
     "slide_type": "fragment"
    }
   },
   "source": [
    "![redes](imagenes/voten_los_politicos_todo_es_fake.jpg)"
   ]
  },
  {
   "cell_type": "markdown",
   "metadata": {
    "slideshow": {
     "slide_type": "notes"
    }
   },
   "source": [
    "# Links\n",
    "\n",
    "https://nosonhorasweb.com.ar/wp-content/uploads/2019/06/Open-Folk-Nsh-69.jpg\n",
    "\n",
    "https://upload.wikimedia.org/wikipedia/commons/8/8f/Benito_Cerati_y_Charly_García.jpg \n",
    "\n",
    "https://posta.fm/tecla-cualquiera-90e4fb3ebd8a\n",
    "\n",
    "https://www.youtube.com/watch?v=QVJow3nwqSA\n",
    "\n",
    "https://www.youtube.com/watch?v=uhq0ZHpunB4\n",
    "\n",
    "https://www.youtube.com/watch?v=IZ7qVoO-l-E\n",
    "\n",
    "https://twitter.com/furorpodcast\n",
    "\n",
    "https://github.com/maartenbreddels/ipywebrtc\n",
    "\n",
    "https://github.com/jupyter-widgets/pythreejs\n",
    "\n",
    "https://github.com/jupyter-widgets/ipyleaflet\n",
    "\n",
    "https://github.com/maartenbreddels/ipyvolume\n",
    "\n",
    "https://github.com/martinRenou/ipycanvas\n",
    "\n",
    "https://github.com/JuanCab/AstroInteractives\n",
    "\n",
    "https://github.com/jupyter-widgets/tutorial\n",
    "\n",
    "http://www.centrofersrl.com/wp-content/uploads/2016/11/GRN.jpg"
   ]
  }
 ],
 "metadata": {
  "celltoolbar": "Slideshow",
  "kernelspec": {
   "display_name": "Python 3 (ipykernel)",
   "language": "python",
   "name": "python3"
  },
  "language_info": {
   "codemirror_mode": {
    "name": "ipython",
    "version": 3
   },
   "file_extension": ".py",
   "mimetype": "text/x-python",
   "name": "python",
   "nbconvert_exporter": "python",
   "pygments_lexer": "ipython3",
   "version": "3.12.1"
  }
 },
 "nbformat": 4,
 "nbformat_minor": 4
}
