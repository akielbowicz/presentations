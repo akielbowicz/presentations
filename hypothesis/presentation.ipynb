{
 "cells": [
  {
   "cell_type": "code",
   "execution_count": 1,
   "metadata": {
    "scrolled": true,
    "slideshow": {
     "slide_type": "skip"
    }
   },
   "outputs": [
    {
     "data": {
      "text/html": [
       "<link rel=\"stylesheet\" href=\"https://use.fontawesome.com/releases/v5.6.3/css/all.css\" integrity=\"sha384-UHRtZLI+pbxtHCWp1t77Bi1L4ZtiqrqD80Kn4Z8NTSRyMA2Fd33n5dQ8lWUE00s/\" crossorigin=\"anonymous\">\n"
      ],
      "text/plain": [
       "<IPython.core.display.HTML object>"
      ]
     },
     "metadata": {},
     "output_type": "display_data"
    }
   ],
   "source": [
    "%%html\n",
    "<link rel=\"stylesheet\" href=\"https://use.fontawesome.com/releases/v5.6.3/css/all.css\" integrity=\"sha384-UHRtZLI+pbxtHCWp1t77Bi1L4ZtiqrqD80Kn4Z8NTSRyMA2Fd33n5dQ8lWUE00s/\" crossorigin=\"anonymous\">"
   ]
  },
  {
   "cell_type": "markdown",
   "metadata": {
    "slideshow": {
     "slide_type": "slide"
    }
   },
   "source": [
    "# Property Based Testing with Hypothesis\n",
    "\n",
    "\n",
    "\n",
    "\n",
    "\n",
    "<i class=\"fas fa-calendar\" style=\"font-size:24px\"> June 25th 2019  </i>\n",
    "\n",
    "\n",
    "<i class=\"fas fa-map-marked\" style=\"font-size:24px\"> Buenos Aires, Argentina  </i>"
   ]
  },
  {
   "cell_type": "markdown",
   "metadata": {
    "slideshow": {
     "slide_type": "slide"
    }
   },
   "source": [
    "# Who Am I?\n",
    "\n",
    "<i class=\"fas fa-chalkboard-teacher\" style=\"font-size:28px\"> Augusto Kielbowicz  </i>\n",
    "\n",
    "\n",
    "<i class=\"fas fa-chart-bar\" style=\"font-size:28px\"> SEP 2018 </i>\n",
    "\n",
    "\n",
    "<i class=\"fas\" style=\"font-size:28px\"> $\\partial$ CIB Rates Derivatives </i>"
   ]
  },
  {
   "cell_type": "markdown",
   "metadata": {
    "slideshow": {
     "slide_type": "slide"
    }
   },
   "source": [
    "<img src=\"https://m.media-amazon.com/images/M/MV5BMjEwODk2MjM4OV5BMl5BanBnXkFtZTgwNjM4MTY0MDE@._V1_SY1000_CR0,0,666,1000_AL_.jpg\" style=\"height:700px;margin-left:auto;margin-right:auto;object-fit:contain;\">"
   ]
  },
  {
   "cell_type": "markdown",
   "metadata": {
    "slideshow": {
     "slide_type": "subslide"
    }
   },
   "source": [
    "<img src=\"https://m.media-amazon.com/images/M/MV5BYmQ3NDdjNzMtZWIyMC00OWRhLTgzNDYtZDlkMmE4YWY5YTEyXkEyXkFqcGdeQXVyNjc5Mjg0NjU@._V1_SY1000_SX1500_AL_.jpg\" style=\"width:80%;margin-left:auto;margin-right:auto;\">"
   ]
  },
  {
   "cell_type": "markdown",
   "metadata": {
    "slideshow": {
     "slide_type": "subslide"
    }
   },
   "source": [
    "<img src=\"https://m.media-amazon.com/images/M/MV5BNDkxNDgzNDM4N15BMl5BanBnXkFtZTgwMjYyNjY0NjM@._V1_SX1777_CR0,0,1777,999_AL_.jpg\"  style=\"width:80%;margin-left:auto;margin-right:auto;\">"
   ]
  },
  {
   "cell_type": "markdown",
   "metadata": {
    "slideshow": {
     "slide_type": "slide"
    }
   },
   "source": [
    "# Sooo ... What is property based testing?"
   ]
  },
  {
   "cell_type": "markdown",
   "metadata": {
    "slideshow": {
     "slide_type": "subslide"
    }
   },
   "source": [
    "<img src=\"https://m.media-amazon.com/images/M/MV5BMzYxZDk2OWEtOGU1OS00M2YyLTgxOTYtMDI5MTc0MjgxNTM5XkEyXkFqcGdeQXVyNjc3OTE4Nzk@._V1_.jpg\"  style=\"width:80%;margin-left:auto;margin-right:auto;\">"
   ]
  },
  {
   "cell_type": "markdown",
   "metadata": {
    "slideshow": {
     "slide_type": "subslide"
    }
   },
   "source": [
    "<img src=\"https://m.media-amazon.com/images/M/MV5BM2MyMTYxZDEtNzRhOS00YzdjLTgwZDUtNTMyYmVhY2QxZDMyXkEyXkFqcGdeQXVyNjc3OTE4Nzk@._V1_.jpg\"  style=\"width:80%;margin-left:auto;margin-right:auto;\">"
   ]
  },
  {
   "cell_type": "markdown",
   "metadata": {
    "slideshow": {
     "slide_type": "slide"
    }
   },
   "source": [
    "# A simple example\n",
    "\n",
    "##### \"The sum of a list of integers is greater than the largest element in the list\""
   ]
  },
  {
   "cell_type": "markdown",
   "metadata": {
    "slideshow": {
     "slide_type": "subslide"
    }
   },
   "source": [
    "```python\n",
    "def test_sum_greater_than_max_small_numbers():\n",
    "    xs = [1, 2, 3]\n",
    "    assert sum( xs ) > max( xs )\n",
    "    \n",
    "def test_sum_greater_than_max_big_numbers():\n",
    "    xs = [1000, 2000, 3000]\n",
    "    assert sum( xs ) > max( xs )    \n",
    "```\n",
    "\n",
    "<small> ( example extracted from <a href=\"https://github.com/Zac-HD/slides\" >Zac Hatfield-Dodds PyConAu 2018 slides</a> )</small>"
   ]
  },
  {
   "cell_type": "markdown",
   "metadata": {
    "slideshow": {
     "slide_type": "subslide"
    }
   },
   "source": [
    "```python\n",
    "import pytest\n",
    "\n",
    "@pytest.mark.parameterize('xs',[\n",
    "    [1, 2, 3], [1000, 2000, 3000]\n",
    "])\n",
    "def test_sum_greater_than_max(xs):\n",
    "    assert sum( xs ) > max( xs )  \n",
    "```\n",
    "\n",
    "<small> ( example extracted from <a href=\"https://github.com/Zac-HD/slides\" >Zac Hatfield-Dodds PyConAu 2018 slides</a> )</small>"
   ]
  },
  {
   "cell_type": "markdown",
   "metadata": {
    "slideshow": {
     "slide_type": "subslide"
    }
   },
   "source": [
    "```python\n",
    "from hypothesis import given\n",
    "from hypothesis.strategies import lists, integers \n",
    "\n",
    "@given(lists(integers()))\n",
    "def test_sum_greater_than_max(xs):\n",
    "    assert sum( xs ) > max( xs )  \n",
    "```\n",
    "\n",
    "<small> ( example extracted from <a href=\"https://github.com/Zac-HD/slides\" >Zac Hatfield-Dodds PyConAu 2018 slides</a> )</small>"
   ]
  },
  {
   "cell_type": "markdown",
   "metadata": {
    "slideshow": {
     "slide_type": "subslide"
    }
   },
   "source": [
    "```python\n",
    "from hypothesis import given\n",
    "from hypothesis.strategies import lists, integers \n",
    "\n",
    "@given(lists(integers()))\n",
    "def test_sum_greater_than_max(xs):\n",
    "    assert sum( xs ) > max( xs )      \n",
    "```"
   ]
  },
  {
   "cell_type": "markdown",
   "metadata": {
    "slideshow": {
     "slide_type": "fragment"
    }
   },
   "source": [
    "```python    \n",
    "Falsifying example: test_sum_greater_than_max(xs=[])\n",
    "Traceback (most recent call last):\n",
    "  ...\n",
    "    assert sum( xs ) > max( xs )\n",
    "ValueError: max() arg is an empty sequence\n",
    "```\n",
    "\n",
    "<small> ( example extracted from <a href=\"https://github.com/Zac-HD/slides\" >Zac Hatfield-Dodds PyConAu 2018 slides</a> )</small>"
   ]
  },
  {
   "cell_type": "markdown",
   "metadata": {
    "slideshow": {
     "slide_type": "subslide"
    }
   },
   "source": [
    "```python\n",
    "from hypothesis import given\n",
    "from hypothesis.strategies import lists, integers \n",
    "\n",
    "@given(lists(integers(), min_size=1))\n",
    "def test_sum_greater_than_max(xs):\n",
    "    assert sum( xs ) > max( xs )    \n",
    "```"
   ]
  },
  {
   "cell_type": "markdown",
   "metadata": {
    "slideshow": {
     "slide_type": "fragment"
    }
   },
   "source": [
    "```python\n",
    "Traceback (most recent call last):\n",
    "    ...\n",
    "    assert sum( xs ) > max( xs )\n",
    "AssertionError: assert 0 > 0\n",
    " +  where 0 = sum([0])\n",
    " +  and   0 = max([0])\n",
    "----- Hypothesis --------\n",
    "Falsifying example: test_sum_greater_than_max(xs=[0]) \n",
    "```\n",
    "\n",
    "<small> ( example extracted from <a href=\"https://github.com/Zac-HD/slides\" >Zac Hatfield-Dodds PyConAu 2018 slides</a> )</small>"
   ]
  },
  {
   "cell_type": "markdown",
   "metadata": {
    "slideshow": {
     "slide_type": "subslide"
    }
   },
   "source": [
    "```python\n",
    "from hypothesis import given\n",
    "from hypothesis.strategies import lists, integers \n",
    "\n",
    "@given(lists(integers(), min_size=1))\n",
    "def test_sum_greater_than_max(xs):\n",
    "    assert sum( xs ) >= max( xs ) \n",
    "```"
   ]
  },
  {
   "cell_type": "markdown",
   "metadata": {
    "slideshow": {
     "slide_type": "fragment"
    }
   },
   "source": [
    "```python\n",
    "Traceback (most recent call last):\n",
    "   ...\n",
    "    assert sum( xs ) >= max( xs )\n",
    "AssertionError: assert -1 >= 0\n",
    " +  where -1 = sum([0, -1])\n",
    " +  and   0 = max([0, -1])\n",
    "----- Hypothesis ----------\n",
    "Falsifying example: test_sum_greater_than_max(xs=[0, -1])\n",
    "```\n",
    "\n",
    "<small> ( example extracted from <a href=\"https://github.com/Zac-HD/slides\" >Zac Hatfield-Dodds PyConAu 2018 slides</a> )</small>"
   ]
  },
  {
   "cell_type": "markdown",
   "metadata": {
    "slideshow": {
     "slide_type": "subslide"
    }
   },
   "source": [
    "```python\n",
    "from hypothesis import given\n",
    "from hypothesis.strategies import lists, integers \n",
    "\n",
    "@given(lists(integers(min_value=0), min_size=1))\n",
    "def test_sum_greater_than_max(xs):\n",
    "    assert sum( xs ) >= max( xs ) \n",
    "```"
   ]
  },
  {
   "cell_type": "markdown",
   "metadata": {
    "slideshow": {
     "slide_type": "fragment"
    }
   },
   "source": [
    "```python\n",
    ".                                                                                                   [100%]\n",
    "\n",
    "=========== 1 passed in 0.19 seconds ========\n",
    "```\n",
    "\n",
    "<small> ( example extracted from <a href=\"https://github.com/Zac-HD/slides\" >Zac Hatfield-Dodds PyConAu 2018 slides</a> )</small>"
   ]
  },
  {
   "cell_type": "markdown",
   "metadata": {
    "slideshow": {
     "slide_type": "slide"
    }
   },
   "source": [
    "<img src=\"https://66.media.tumblr.com/tumblr_lztw2xSrIy1qf5rll.gif\" style=\"width:80%;margin-left:auto;margin-right:auto;\">"
   ]
  },
  {
   "cell_type": "markdown",
   "metadata": {
    "slideshow": {
     "slide_type": "slide"
    }
   },
   "source": [
    "- Define properties rather than specific scenarios"
   ]
  },
  {
   "cell_type": "markdown",
   "metadata": {
    "slideshow": {
     "slide_type": "fragment"
    }
   },
   "source": [
    "- Give the test the input and check that properties hold "
   ]
  },
  {
   "cell_type": "markdown",
   "metadata": {
    "slideshow": {
     "slide_type": "fragment"
    }
   },
   "source": [
    "- *Automatically generate random inputs"
   ]
  },
  {
   "cell_type": "markdown",
   "metadata": {
    "slideshow": {
     "slide_type": "slide"
    }
   },
   "source": [
    "# Hypothesis\n",
    "\n",
    "### [https://hypothesis.works/](https://hypothesis.works/)"
   ]
  },
  {
   "cell_type": "markdown",
   "metadata": {
    "slideshow": {
     "slide_type": "slide"
    }
   },
   "source": [
    "# Generators"
   ]
  },
  {
   "cell_type": "code",
   "execution_count": 2,
   "metadata": {
    "slideshow": {
     "slide_type": "fragment"
    }
   },
   "outputs": [],
   "source": [
    "from hypothesis import strategies\n",
    "# from hypothesis.strategies import ..."
   ]
  },
  {
   "cell_type": "markdown",
   "metadata": {
    "slideshow": {
     "slide_type": "subslide"
    }
   },
   "source": [
    "### Numeric\n",
    "\n",
    "```python\n",
    ">> strategies.integers().example() \n",
    "-20719\n",
    ">> strategies.floats().example()\n",
    "2.00001\n",
    ">> strategies.decimals().example()\n",
    "Decimal('NaN')\n",
    ">> strategies.complex_numbers().example()\n",
    "(5.835754834383092e+16-1.9j)\n",
    "```"
   ]
  },
  {
   "cell_type": "markdown",
   "metadata": {
    "slideshow": {
     "slide_type": "subslide"
    }
   },
   "source": [
    "### Collections\n",
    "\n",
    "```python\n",
    "lists( integers() ), tuples( booleans() ), \n",
    "dictionaries( text(), floats() ), \n",
    "sets( characters() )\n",
    "```"
   ]
  },
  {
   "cell_type": "markdown",
   "metadata": {
    "slideshow": {
     "slide_type": "subslide"
    }
   },
   "source": [
    "### More complex data types\n",
    "\n",
    "\n",
    "```python\n",
    "emails, functions, datetimes, timedeltas, nothing, just ....\n",
    "```\n",
    "\n",
    "### Specific strategies\n",
    "\n",
    "\n",
    "```python\n",
    "from_regex, from_types, sample_from, one_of ...\n",
    "```\n",
    "\n",
    "### Compound strategies\n",
    "```python\n",
    "builds, composite, defer, recursive ...\n",
    "```"
   ]
  },
  {
   "cell_type": "markdown",
   "metadata": {
    "slideshow": {
     "slide_type": "subslide"
    }
   },
   "source": [
    "### External libraries\n",
    "```python\n",
    "from hypothesis.extra.numpy import arrays\n",
    "from hypothesis.extra.pandas import data_frames, columns\n",
    "from hypothesis.extra.django import from_model\n",
    "```"
   ]
  },
  {
   "cell_type": "markdown",
   "metadata": {
    "slideshow": {
     "slide_type": "slide"
    }
   },
   "source": [
    "# Shrinking"
   ]
  },
  {
   "cell_type": "markdown",
   "metadata": {
    "slideshow": {
     "slide_type": "subslide"
    }
   },
   "source": [
    "```python\n",
    "@given(lists(integers(), min_size=1))\n",
    "def test_sum_greater_than_max(xs):\n",
    "    assert sum( xs ) >= max( xs )\n",
    "...\n",
    "Falsifying example: test_sum_greater_than_max(xs=[0, -1])\n",
    "```"
   ]
  },
  {
   "cell_type": "markdown",
   "metadata": {
    "slideshow": {
     "slide_type": "subslide"
    }
   },
   "source": [
    "```python\n",
    "[-999,100,8] X\n",
    "[-999,100]   X\n",
    "[-999,0]     X\n",
    "[0,0]        ✓ \n",
    "[-1,0]       X\n",
    "```"
   ]
  },
  {
   "cell_type": "markdown",
   "metadata": {
    "slideshow": {
     "slide_type": "slide"
    }
   },
   "source": [
    "<img src=\"https://m.media-amazon.com/images/M/MV5BNzkxNTA4NDI1MV5BMl5BanBnXkFtZTcwNDk4MTM5Mg@@._V1_.jpg\" style=\"width:80%;margin-left:auto;margin-right:auto;\">"
   ]
  },
  {
   "cell_type": "markdown",
   "metadata": {
    "slideshow": {
     "slide_type": "subslide"
    }
   },
   "source": [
    "# ''The core of properties is coming up with rules about a program that should always remain true.''\n",
    "\n",
    "                                                                    Fred Hebert"
   ]
  },
  {
   "cell_type": "markdown",
   "metadata": {
    "slideshow": {
     "slide_type": "subslide"
    }
   },
   "source": [
    "## Common properties patterns"
   ]
  },
  {
   "cell_type": "markdown",
   "metadata": {
    "slideshow": {
     "slide_type": "subslide"
    }
   },
   "source": [
    "### Smoke test\n",
    "\n",
    "```python\n",
    "@given(lists(integers()))\n",
    "def test_smoke_max( xs ):\n",
    "    max(xs)\n",
    "```\n",
    "\n",
    "#### *No assertions in the test!*"
   ]
  },
  {
   "cell_type": "markdown",
   "metadata": {
    "slideshow": {
     "slide_type": "subslide"
    }
   },
   "source": [
    "### Encode/Decode\n",
    "\n",
    "```python\n",
    "assert text == json.loads(json.dumps(text))\n",
    "```"
   ]
  },
  {
   "cell_type": "markdown",
   "metadata": {
    "slideshow": {
     "slide_type": "subslide"
    }
   },
   "source": [
    "### Invariants \n",
    "\n",
    "```python\n",
    "assert len( xs ) == len( reversed( xs ) )\n",
    "```\n",
    "\n",
    "### Idempotence\n",
    "\n",
    "```python\n",
    "assert set( xs ) == set( set( xs ) )\n",
    "```"
   ]
  },
  {
   "cell_type": "markdown",
   "metadata": {
    "slideshow": {
     "slide_type": "subslide"
    }
   },
   "source": [
    "### Test Oracle\n",
    "\n",
    "```python\n",
    "assert awesome_new_function(x) == old_slow_function(x)\n",
    "\n",
    "assert fancy_algorithm(x) == brute_force(x)\n",
    "\n",
    "assert eat_cookies(x, threads=10) == eat_cookies(x, threads=1)\n",
    "```"
   ]
  },
  {
   "cell_type": "markdown",
   "metadata": {
    "slideshow": {
     "slide_type": "slide"
    }
   },
   "source": [
    "<img src=\"https://m.media-amazon.com/images/M/MV5BMTg1NjIyOTQxMF5BMl5BanBnXkFtZTgwNTQ0NjQzNjE@._V1_SX1777_CR0,0,1777,999_AL_.jpg\" style=\"width:80%;margin-left:auto;margin-right:auto;\">"
   ]
  },
  {
   "cell_type": "markdown",
   "metadata": {
    "slideshow": {
     "slide_type": "subslide"
    }
   },
   "source": [
    "# Rule-based stateful testing"
   ]
  },
  {
   "cell_type": "markdown",
   "metadata": {
    "slideshow": {
     "slide_type": "fragment"
    }
   },
   "source": [
    "```python\n",
    "from hypothesis.stateful import RuleBasedStateMachine\n",
    "```"
   ]
  },
  {
   "cell_type": "markdown",
   "metadata": {
    "slideshow": {
     "slide_type": "subslide"
    }
   },
   "source": [
    "- Preconditions\n",
    "- Actions \n",
    "- Postconditions"
   ]
  },
  {
   "cell_type": "markdown",
   "metadata": {
    "slideshow": {
     "slide_type": "subslide"
    }
   },
   "source": [
    "```python\n",
    "class DatabaseComparison(RuleBasedStateMachine):\n",
    "    ...\n",
    "    keys = Bundle('keys')\n",
    "    values = Bundle('values')\n",
    "\n",
    "    @rule(target=keys, k=st.binary())\n",
    "    def add_key(self, k):\n",
    "        ...\n",
    "    @rule(target=values, v=st.binary())\n",
    "    def add_value(self, v):\n",
    "        ...\n",
    "    @rule(k=keys, v=values)\n",
    "    def save(self, k, v):\n",
    "        ...\n",
    "    @rule(k=keys, v=values)\n",
    "    def delete(self, k, v):\n",
    "        ...\n",
    "    @rule(k=keys)\n",
    "    def values_agree(self, k):\n",
    "        ...\n",
    "```\n",
    "\n",
    "<small><a href=\"https://hypothesis.readthedocs.io/en/latest/stateful.html\"> Example from Hypothesis Docs </a> </small>"
   ]
  },
  {
   "cell_type": "markdown",
   "metadata": {
    "slideshow": {
     "slide_type": "subslide"
    }
   },
   "source": [
    "```python\n",
    "AssertionError: assert set() == {b''}\n",
    "\n",
    "------------ Hypothesis ------------\n",
    "\n",
    "state = DatabaseComparison()\n",
    "var1 = state.add_key(k=b'')\n",
    "var2 = state.add_value(v=var1)\n",
    "state.save(k=var1, v=var2)\n",
    "state.delete(k=var1, v=var2)\n",
    "state.values_agree(k=var1)\n",
    "state.teardown()\n",
    "```\n",
    "\n",
    "<small><a href=\"https://hypothesis.readthedocs.io/en/latest/stateful.html\"> Example from Hypothesis Docs </a> </small>\n"
   ]
  },
  {
   "cell_type": "markdown",
   "metadata": {
    "slideshow": {
     "slide_type": "subslide"
    }
   },
   "source": [
    "<img src=\"https://m.media-amazon.com/images/M/MV5BMzI0NjAzNzkxN15BMl5BanBnXkFtZTcwNDE1NjE5Mw@@._V1_SY1000_CR0,0,1503,1000_AL_.jpg\" style=\"width:80%;margin-left:auto;margin-right:auto;\">"
   ]
  },
  {
   "cell_type": "markdown",
   "metadata": {
    "slideshow": {
     "slide_type": "slide"
    }
   },
   "source": [
    "# On summary\n",
    "\n",
    "|Example base testing | Property based testing |\n",
    "|:---:| :---: |\n",
    "|Focus on low level detail | Focus on high level requirements |\n",
    "|Tedious to test | Properties define behaviour |\n",
    "|Lots of repetition | Randomly generated input |\n",
    "|Painful to mantain |Failure case minimisation |"
   ]
  },
  {
   "cell_type": "markdown",
   "metadata": {
    "slideshow": {
     "slide_type": "slide"
    }
   },
   "source": [
    "# Some useful references of Property-based tests\n",
    "\n",
    "### [Experiences with QuickCheck: Testing the Hard Stuff and Staying Sane](  https://publications.lib.chalmers.se/records/fulltext/232550/local_232550.pdf )\n",
    "### https://propertesting.com/ \n",
    "<img src=\"https://propertesting.com/img/fhproper-sm.jpg\" width=\"200px\">\n",
    "\n",
    "### https://fsharpforfunandprofit.com/pbt/\n",
    "### [Tomasz Kowal - Introduction to stateful property based testing - ElixirConf EU 2019 (video)]( https://www.youtube.com/watch?v=q0wZzFUYCuM ) \n",
    "### [Escape from auto-manual testing with Hypothesis! - PyCon US 2019 (Tutorial)](https://pyvideo.org/pycon-us-2019/escape-from-auto-manual-testing-with-hypothesis.html) "
   ]
  },
  {
   "cell_type": "markdown",
   "metadata": {
    "slideshow": {
     "slide_type": "slide"
    }
   },
   "source": [
    "# Don't write tests, generate them! \n",
    "                     John Huges, QuickCheck author."
   ]
  },
  {
   "cell_type": "markdown",
   "metadata": {
    "slideshow": {
     "slide_type": "subslide"
    }
   },
   "source": [
    "<img src=\"https://m.media-amazon.com/images/M/MV5BMTc3ODMyMDgxMV5BMl5BanBnXkFtZTgwNDM4OTU1MTE@._V1_SY1000_CR0,0,1532,1000_AL_.jpg\" style=\"width:100%;margin-left:auto;margin-right:auto;\">"
   ]
  }
 ],
 "metadata": {
  "celltoolbar": "Slideshow",
  "kernelspec": {
   "display_name": "Python 3",
   "language": "python",
   "name": "python3"
  },
  "language_info": {
   "codemirror_mode": {
    "name": "ipython",
    "version": 3
   },
   "file_extension": ".py",
   "mimetype": "text/x-python",
   "name": "python",
   "nbconvert_exporter": "python",
   "pygments_lexer": "ipython3",
   "version": "3.7.3"
  }
 },
 "nbformat": 4,
 "nbformat_minor": 2
}
