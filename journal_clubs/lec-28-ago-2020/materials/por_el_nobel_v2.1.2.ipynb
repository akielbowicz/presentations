{
 "cells": [
  {
   "cell_type": "markdown",
   "metadata": {},
   "source": [
    "# Analisis super complejo (e importante) de la estructura del espacio tiempo"
   ]
  },
  {
   "cell_type": "code",
   "execution_count": 46,
   "metadata": {},
   "outputs": [],
   "source": [
    "import numpy as np\n",
    "import matplotlib.pyplot as plt"
   ]
  },
  {
   "cell_type": "code",
   "execution_count": 47,
   "metadata": {},
   "outputs": [],
   "source": [
    "t,x = np.loadtxt('a_2.txt')"
   ]
  },
  {
   "cell_type": "code",
   "execution_count": 48,
   "metadata": {},
   "outputs": [
    {
     "data": {
      "text/plain": [
       "[<matplotlib.lines.Line2D at 0x7f67ad5ed310>]"
      ]
     },
     "execution_count": 48,
     "metadata": {},
     "output_type": "execute_result"
    },
    {
     "data": {
      "image/png": "[encoded data removed]",
      "text/plain": [
       "<Figure size 432x288 with 1 Axes>"
      ]
     },
     "metadata": {
      "needs_background": "light"
     },
     "output_type": "display_data"
    }
   ],
   "source": [
    "plt.plot(t,x,'ok')"
   ]
  },
  {
   "cell_type": "code",
   "execution_count": 49,
   "metadata": {},
   "outputs": [],
   "source": [
    "def f(x,t,y):\n",
    "    return ( x[0] * t**2 + x[1] * t**4 + x[2] - y )   "
   ]
  },
  {
   "cell_type": "code",
   "execution_count": 50,
   "metadata": {},
   "outputs": [
    {
     "name": "stdout",
     "output_type": "stream",
     "text": [
      "   Iteration     Total nfev        Cost      Cost reduction    Step norm     Optimality   \n",
      "       0              1         7.5598e+01                                    4.39e+01    \n",
      "       1              2         6.2988e+01      1.26e+01       1.12e+00       2.65e+01    \n",
      "       2              3         5.9573e+01      3.41e+00       1.09e+00       3.64e+00    \n",
      "       3              4         5.9472e+01      1.01e-01       3.08e-01       1.34e-01    \n",
      "       4              5         5.9472e+01      1.52e-04       1.28e-02       3.80e-03    \n",
      "       5              6         5.9472e+01      1.19e-07       3.39e-04       1.05e-04    \n",
      "       6              7         5.9472e+01      8.89e-11       8.80e-06       2.92e-06    \n",
      "`ftol` termination condition is satisfied.\n",
      "Function evaluations 7, initial cost 7.5598e+01, final cost 5.9472e+01, first-order optimality 2.92e-06.\n"
     ]
    }
   ],
   "source": [
    "from scipy.optimize import least_squares\n",
    "x0 = np.array([0, 0, 0])\n",
    "res = least_squares(f, x0, args=(t,x), verbose=2, loss='cauchy', method='dogbox',ftol=1e-10)"
   ]
  },
  {
   "cell_type": "code",
   "execution_count": 51,
   "metadata": {},
   "outputs": [
    {
     "data": {
      "text/plain": [
       "array([0.560988  , 0.58023634, 0.15660014])"
      ]
     },
     "execution_count": 51,
     "metadata": {},
     "output_type": "execute_result"
    }
   ],
   "source": [
    "res.x"
   ]
  },
  {
   "cell_type": "code",
   "execution_count": 52,
   "metadata": {},
   "outputs": [],
   "source": [
    "y = res.x[0] * t**4 + res.x[1] * t**2 + res.x[2]"
   ]
  },
  {
   "cell_type": "code",
   "execution_count": 53,
   "metadata": {},
   "outputs": [
    {
     "data": {
      "text/plain": [
       "(-2.0, 2.0)"
      ]
     },
     "execution_count": 53,
     "metadata": {},
     "output_type": "execute_result"
    },
    {
     "data": {
      "image/png": "[encoded data removed]",
      "text/plain": [
       "<Figure size 432x288 with 1 Axes>"
      ]
     },
     "metadata": {
      "needs_background": "light"
     },
     "output_type": "display_data"
    }
   ],
   "source": [
    "plt.plot(t,x,'ok')\n",
    "plt.plot(t,y,'r')\n",
    "ax = plt.gca()\n",
    "ax.set_ylim(-2,2)"
   ]
  },
  {
   "cell_type": "markdown",
   "metadata": {},
   "source": [
    "Entonces tenemos que:\n",
    "\n",
    "- \n",
    "-\n",
    "-"
   ]
  },
  {
   "cell_type": "code",
   "execution_count": null,
   "metadata": {},
   "outputs": [],
   "source": [
    "# x = t**2 + 0.2 * t**4 + ERR"
   ]
  }
 ],
 "metadata": {
  "julynter-check-filtered-hashes": [
   "1349f165547cc716670ccde1bb390106b383ce19"
  ],
  "julynter-check-mode": "type",
  "julynter-check-report-i2": false,
  "julynter-check-requirements": "binder/environment.yml",
  "julynter-check-view": true,
  "julynter-results": {
   "filteredId": [
    {
     "cellId": 1,
     "hash": "1349f165547cc716670ccde1bb390106b383ce19",
     "reason": "Using a requirements file with pinned versions for all imported modules increases the reproducibility of the notebook.",
     "reportId": "i2",
     "reportType": "import",
     "suggestion": "Please consider adding them to guarantee the reproducibility.",
     "text": "Module numpy was imported by Cell 1, but it is not in the requirements file"
    },
    {
     "cellId": 1,
     "hash": "eed99ae50eb214a5d0afa90c527cac4a484b8031",
     "reason": "Using a requirements file with pinned versions for all imported modules increases the reproducibility of the notebook.",
     "reportId": "i2",
     "reportType": "import",
     "suggestion": "Please consider adding them to guarantee the reproducibility.",
     "text": "Module matplotlib was imported by Cell 1, but it is not in the requirements file"
    },
    {
     "cellId": 5,
     "hash": "2b49fd4b80c0ff33d6bbc6625aa5878190af2ed0",
     "reason": "Using a requirements file with pinned versions for all imported modules increases the reproducibility of the notebook.",
     "reportId": "i2",
     "reportType": "import",
     "suggestion": "Please consider adding them to guarantee the reproducibility.",
     "text": "Module scipy was imported by Cell 5, but it is not in the requirements file"
    }
   ],
   "filteredIndividual": [],
   "filteredRestart": [],
   "filteredType": [],
   "hash": "7ab6c7d37761fb102fe1c0a1218d7cba3536e596",
   "visible": [
    {
     "cellId": "group",
     "hash": "c0de46ba034d710c2b2406a37ee6816be9634aa0",
     "reason": "This groups other lint messages",
     "reportId": "group",
     "reportType": "hiddenstate",
     "suggestion": null,
     "text": "Hidden State"
    },
    {
     "cellId": 1,
     "hash": "6f23b212077ee1d106ac5d44294a79a869099f2b",
     "reason": "A skip in the execution count might indicate the presence of a hidden state caused by a cell that does not exist anymore. Hidden states might prevent cells from executing or producing the same results, hampering the reproducibility.",
     "reportId": "h4",
     "reportType": "hiddenstate",
     "suggestion": "Please consider re-running the notebook to guarantee the reproducibility.",
     "text": "Cell 1 skips the execution count"
    },
    {
     "cellId": "group",
     "hash": "19d3d3d153f22e318cbe061df9e685ba5165b0aa",
     "reason": "This groups other lint messages",
     "reportId": "group",
     "reportType": "confusenotebook",
     "suggestion": null,
     "text": "Confuse Notebook"
    },
    {
     "cellId": 10,
     "hash": "92286ba97b12b3541cf58cb5508d973c3361124d",
     "reason": "A markdown cell at the end of the notebook can conclude it, presenting a summary of the obtained results.",
     "reportId": "c5",
     "reportType": "confusenotebook",
     "suggestion": "Please consider adding a markdown cell to conclude the notebook.",
     "text": "The last cell of the notebook is not a markdown cell"
    },
    {
     "cellId": "group",
     "hash": "d6fbc9d2bdd580e18ed0bc5805dc26db323d6f5f",
     "reason": "This groups other lint messages",
     "reportId": "group",
     "reportType": "import",
     "suggestion": null,
     "text": "Import"
    },
    {
     "cellId": 5,
     "hash": "2939a8a78c4ad97dc7b5fc413ca7a393b0b93540",
     "reason": "Imports at the beginning of the notebook allow for a quick failure in the case of a non-installed dependency. It prevents users from stopping their executions for installing dependencies. Additionally, imports in the middle might reduce notebooks' readability by taking the attention from the logic to the import constructs.",
     "reportId": "i1",
     "reportType": "import",
     "suggestion": "Please consider moving the import to the first cell of the notebook.",
     "text": "Cell 5 has imports but it is not the first cell"
    }
   ]
  },
  "kernelspec": {
   "display_name": "Python 3",
   "language": "python",
   "name": "python3"
  },
  "language_info": {
   "codemirror_mode": {
    "name": "ipython",
    "version": 3
   },
   "file_extension": ".py",
   "mimetype": "text/x-python",
   "name": "python",
   "nbconvert_exporter": "python",
   "pygments_lexer": "ipython3",
   "version": "3.8.5"
  }
 },
 "nbformat": 4,
 "nbformat_minor": 4
}
