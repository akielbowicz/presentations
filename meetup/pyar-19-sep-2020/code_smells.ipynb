{
 "cells": [
  {
   "cell_type": "markdown",
   "metadata": {},
   "source": [
    "# Code Smells ... Y eso con que se come?"
   ]
  },
  {
   "cell_type": "markdown",
   "metadata": {},
   "source": [
    "*The only constant thing in Software is change*"
   ]
  },
  {
   "cell_type": "markdown",
   "metadata": {},
   "source": [
    "Disenio con Objetos ( Object Oriented Design )"
   ]
  },
  {
   "cell_type": "markdown",
   "metadata": {
    "slideshow": {
     "slide_type": "notes"
    }
   },
   "source": []
  },
  {
   "cell_type": "markdown",
   "metadata": {},
   "source": [
    "![](https://dwgyu36up6iuz.cloudfront.net/heru80fdn/image/upload/c_fill,d_placeholder_thescene.jpg,fl_progressive,g_center,h_700,q_80,w_4000/v1550780242/epicurious_title_4-levels-season-1.jpg)"
   ]
  },
  {
   "cell_type": "markdown",
   "metadata": {
    "slideshow": {
     "slide_type": "slide"
    }
   },
   "source": [
    "SOLID"
   ]
  },
  {
   "cell_type": "markdown",
   "metadata": {
    "slideshow": {
     "slide_type": "subslide"
    }
   },
   "source": [
    "S - Single Responsibility\n",
    "The methods in a class should be cohesive around a single purpose."
   ]
  },
  {
   "cell_type": "markdown",
   "metadata": {
    "slideshow": {
     "slide_type": "subslide"
    }
   },
   "source": [
    "O - Open-Closed\n",
    "Objects should be open for extension, but closed for modification."
   ]
  },
  {
   "cell_type": "markdown",
   "metadata": {
    "slideshow": {
     "slide_type": "subslide"
    }
   },
   "source": [
    "L - Liskov Substitution\n",
    "Subclasses should be substitutable for their superclasses."
   ]
  },
  {
   "cell_type": "markdown",
   "metadata": {
    "slideshow": {
     "slide_type": "subslide"
    }
   },
   "source": [
    "I - Interface Segregation\n",
    "Objects should not be forced to depend on methods they don’t use."
   ]
  },
  {
   "cell_type": "markdown",
   "metadata": {
    "slideshow": {
     "slide_type": "subslide"
    }
   },
   "source": [
    "D - Dependency Inversion\n",
    "Depend on abstractions, not on concretions."
   ]
  },
  {
   "cell_type": "markdown",
   "metadata": {
    "slideshow": {
     "slide_type": "slide"
    }
   },
   "source": [
    "Bla"
   ]
  },
  {
   "cell_type": "markdown",
   "metadata": {
    "slideshow": {
     "slide_type": "notes"
    }
   },
   "source": [
    "The \"open\" principle says that you should not conflate the process of moving code around, ofrefactoring, with the act of adding new features. You should instead separate these twooperations. When faced with a new requirement, first rearrange the existing code such that it’sopen to the new feature, and once that’s complete, then add the new code.The current Bottles class is not open to the \"6-packs\" requirement because adding new versevariants requires editing the conditional. Therefore, when faced with this new requirement,your first task is to refactor the existing code into a shape such that you can then implement thenew requirement by merely adding code. Unfortunately, it is quite likely that you do not knowhow to do this, and so are at a loss about how to approach the problem.Fortunately, you do not have to know everything in order to choose the right place to start. Whenfaced with this situation, be guided by the following flowchart"
   ]
  },
  {
   "cell_type": "markdown",
   "metadata": {},
   "source": []
  },
  {
   "cell_type": "markdown",
   "metadata": {},
   "source": [
    "[Refactoring, Improving the Design of Existing Code](https://martinfowler.com/books/refactoring.html)\n",
    "[99 Bottles of OOP](https://sandimetz.com/99bottles)\n",
    "[Refactoring Guru](https://refactoring.guru/refactoring/smells)\n",
    "[SmallTalk, Objects, and Design](https://www.goodreads.com/book/show/2015891.SmallTalk_Objects_and_Design)\n",
    "[Epicurious: 4 Levels of](https://www.epicurious.com/video/series/4-levels)"
   ]
  },
  {
   "cell_type": "code",
   "execution_count": null,
   "metadata": {},
   "outputs": [],
   "source": []
  },
  {
   "cell_type": "code",
   "execution_count": null,
   "metadata": {},
   "outputs": [],
   "source": []
  },
  {
   "cell_type": "code",
   "execution_count": null,
   "metadata": {},
   "outputs": [],
   "source": []
  }
 ],
 "metadata": {
  "celltoolbar": "Slideshow",
  "kernelspec": {
   "display_name": "Python 3",
   "language": "python",
   "name": "python3"
  },
  "language_info": {
   "codemirror_mode": {
    "name": "ipython",
    "version": 3
   },
   "file_extension": ".py",
   "mimetype": "text/x-python",
   "name": "python",
   "nbconvert_exporter": "python",
   "pygments_lexer": "ipython3",
   "version": "3.8.5"
  }
 },
 "nbformat": 4,
 "nbformat_minor": 4
}
