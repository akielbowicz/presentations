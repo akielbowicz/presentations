{
 "cells": [
  {
   "cell_type": "code",
   "execution_count": null,
   "metadata": {
    "slideshow": {
     "slide_type": "skip"
    }
   },
   "outputs": [],
   "source": [
    "%%html\n",
    "<link rel=\"stylesheet\" href=\"https://use.fontawesome.com/releases/v5.6.3/css/all.css\" integrity=\"sha384-UHRtZLI+pbxtHCWp1t77Bi1L4ZtiqrqD80Kn4Z8NTSRyMA2Fd33n5dQ8lWUE00s/\" crossorigin=\"anonymous\">"
   ]
  },
  {
   "cell_type": "markdown",
   "metadata": {
    "slideshow": {
     "slide_type": "slide"
    }
   },
   "source": [
    "# ¿*Code Smells*? y eso... ¿con qué se come?"
   ]
  },
  {
   "cell_type": "markdown",
   "metadata": {
    "slideshow": {
     "slide_type": "slide"
    }
   },
   "source": [
    "- 🥟 Entrada\n",
    "\n",
    "    - 🥖 ¿Cómo mejoro la calidad de mi código?\n",
    "    - 🧈 Diseño con Objetos\n",
    " \n",
    " \n",
    "- 🍽️ Plato principal \n",
    "    \n",
    "    - 🌶️ Problema\n",
    "    - 🍷  Cuatro Niveles de Código\n",
    "    - 🍝 Reconociendo *Code Smells*\n",
    "     \n",
    " \n",
    "- 🥄 Postre\n",
    "    \n",
    "    - ☕ Extendiendo el código\n",
    "    - 🍮 \n",
    "    \n",
    "    \n",
    "- 🥡 Para llevar"
   ]
  },
  {
   "cell_type": "markdown",
   "metadata": {
    "slideshow": {
     "slide_type": "slide"
    }
   },
   "source": [
    "![ENTRADA](https://assets.bonappetit.com/photos/5804fabfcf8577b803cad5e1/16:9/w_2560,c_limit/relish-tray-with-diy-eggs.jpg)"
   ]
  },
  {
   "cell_type": "markdown",
   "metadata": {
    "slideshow": {
     "slide_type": "slide"
    }
   },
   "source": [
    "# ¿Cómo mejoro la calidad de mi código?"
   ]
  },
  {
   "cell_type": "markdown",
   "metadata": {
    "slideshow": {
     "slide_type": "subslide"
    }
   },
   "source": [
    "# ¿Cómo ~~mejoro~~ juzgo la calidad de mi código?"
   ]
  },
  {
   "cell_type": "markdown",
   "metadata": {
    "slideshow": {
     "slide_type": "subslide"
    }
   },
   "source": [
    "### Estilo:\n",
    "\n",
    "    - PEP8"
   ]
  },
  {
   "cell_type": "markdown",
   "metadata": {
    "slideshow": {
     "slide_type": "subslide"
    }
   },
   "source": [
    "### Principios:"
   ]
  },
  {
   "cell_type": "markdown",
   "metadata": {
    "slideshow": {
     "slide_type": "fragment"
    }
   },
   "source": [
    "- **DRY** (*Don't Repeat Yourself* // No te repitas)"
   ]
  },
  {
   "cell_type": "markdown",
   "metadata": {
    "slideshow": {
     "slide_type": "fragment"
    }
   },
   "source": [
    "- **YAGNI** (*You aren't gonna need it*// No lo vas a usar)"
   ]
  },
  {
   "cell_type": "markdown",
   "metadata": {
    "slideshow": {
     "slide_type": "fragment"
    }
   },
   "source": [
    "- **GRASP** (*General Responsibility Assignment Software Patterns*//...)"
   ]
  },
  {
   "cell_type": "markdown",
   "metadata": {
    "slideshow": {
     "slide_type": "fragment"
    }
   },
   "source": [
    "- **SOLID** "
   ]
  },
  {
   "cell_type": "markdown",
   "metadata": {
    "slideshow": {
     "slide_type": "slide"
    }
   },
   "source": [
    "## Diseño con Objetos (*Object Oriented Design*)"
   ]
  },
  {
   "cell_type": "markdown",
   "metadata": {
    "slideshow": {
     "slide_type": "subslide"
    }
   },
   "source": [
    "## 'En Python todo es un Objeto'"
   ]
  },
  {
   "cell_type": "markdown",
   "metadata": {
    "slideshow": {
     "slide_type": "subslide"
    }
   },
   "source": [
    "![huevo_objeto](materiales/imagenes/objeto_huevo.jpg)"
   ]
  },
  {
   "cell_type": "markdown",
   "metadata": {
    "slideshow": {
     "slide_type": "subslide"
    }
   },
   "source": [
    "![homunculo](materiales/imagenes/humunculo_objeto.png)\n",
    "\n",
    "Homunculo, extraido de *Smalltalk, Objects and Design. Chamond Liu.*"
   ]
  },
  {
   "cell_type": "markdown",
   "metadata": {
    "slideshow": {
     "slide_type": "subslide"
    }
   },
   "source": [
    "# 👤"
   ]
  },
  {
   "cell_type": "code",
   "execution_count": null,
   "metadata": {
    "slideshow": {
     "slide_type": "fragment"
    }
   },
   "outputs": [],
   "source": [
    "'humunculo', 1, print"
   ]
  },
  {
   "cell_type": "markdown",
   "metadata": {
    "slideshow": {
     "slide_type": "fragment"
    }
   },
   "source": [
    "# 👤 🖃"
   ]
  },
  {
   "cell_type": "code",
   "execution_count": null,
   "metadata": {
    "slideshow": {
     "slide_type": "fragment"
    }
   },
   "outputs": [],
   "source": [
    "'humunculo'.upper()"
   ]
  },
  {
   "cell_type": "markdown",
   "metadata": {
    "slideshow": {
     "slide_type": "fragment"
    }
   },
   "source": [
    "# 👤 💌"
   ]
  },
  {
   "cell_type": "code",
   "execution_count": null,
   "metadata": {
    "slideshow": {
     "slide_type": "fragment"
    }
   },
   "outputs": [],
   "source": [
    "'humunculo'.split('u')"
   ]
  },
  {
   "cell_type": "markdown",
   "metadata": {
    "slideshow": {
     "slide_type": "subslide"
    }
   },
   "source": [
    "# 👤 📨 \n",
    "👤 💌 🖃 👤 ✉️ 🧧 👤"
   ]
  },
  {
   "cell_type": "markdown",
   "metadata": {
    "slideshow": {
     "slide_type": "subslide"
    }
   },
   "source": [
    "```\n",
    "Why objects matter\n",
    "\n",
    "When all the rhetoric is set aside -the rhetoric about reusability and productivity and so on- the salient charateristic of objects is that they reduce translation. That is, objects promote a common vocabulary: everyone, whether a software professional or not, has some intuitive understanding of what an object is. Thus we can understand one another more easil when we use objects to describe our thinking. Objects, then, promote mutual understanding -between users, analysts, executives, designers, programmers, testers... They reduce the effort of translating one persons'thoughts to another's, and therefore reduce misunderstandings as an idea passes from one person to the next.\n",
    "    As for reuse and productivity, they are nothing more that side effects of better understanding...\n",
    "\n",
    "\n",
    "Smaltalk, Objects and Design. Chamond Liu\n",
    "```\n",
    "\n",
    "\n",
    "    "
   ]
  },
  {
   "cell_type": "markdown",
   "metadata": {
    "slideshow": {
     "slide_type": "slide"
    }
   },
   "source": [
    "![Carbonara](https://assets.bonappetit.com/photos/5e46c93bc7bda40009794ace/16:9/w_2560,c_limit/0220-Traditional-Carbonara-Pasta.jpg)"
   ]
  },
  {
   "cell_type": "markdown",
   "metadata": {
    "slideshow": {
     "slide_type": "slide"
    }
   },
   "source": [
    "![Epicurious 4 Levels of](materiales/imagenes/epicurious_title_4-levels-season-1.jpg)"
   ]
  },
  {
   "cell_type": "markdown",
   "metadata": {
    "slideshow": {
     "slide_type": "fragment"
    }
   },
   "source": [
    "[Epicurious: 4 Levels of](https://www.epicurious.com/video/series/4-levels)"
   ]
  },
  {
   "cell_type": "markdown",
   "metadata": {
    "slideshow": {
     "slide_type": "slide"
    }
   },
   "source": [
    "# 🌶️ Problema"
   ]
  },
  {
   "cell_type": "markdown",
   "metadata": {
    "slideshow": {
     "slide_type": "subslide"
    }
   },
   "source": [
    "![huevo_frito](materiales/imagenes/huevo_frito.png)"
   ]
  },
  {
   "cell_type": "markdown",
   "metadata": {
    "slideshow": {
     "slide_type": "subslide"
    }
   },
   "source": [
    "![huevo_frito](materiales/imagenes/huevo_duro.jpg)"
   ]
  },
  {
   "cell_type": "markdown",
   "metadata": {
    "slideshow": {
     "slide_type": "subslide"
    }
   },
   "source": [
    "```\n",
    "Huevos a la carta\n",
    "-----------------\n",
    "\n",
    "Huevo duro $0.1\n",
    "Huevo frito $0.2\n",
    "```\n",
    "\n",
    "*Quiero que imprima la orden completa y el total*"
   ]
  },
  {
   "cell_type": "code",
   "execution_count": null,
   "metadata": {
    "slideshow": {
     "slide_type": "subslide"
    }
   },
   "outputs": [],
   "source": [
    "!cat ordenes.txt"
   ]
  },
  {
   "cell_type": "markdown",
   "metadata": {
    "slideshow": {
     "slide_type": "slide"
    }
   },
   "source": [
    "![Cuatro niveles de Codigo](materiales/imagenes/cuatro_niveles_de_codigo.svg)"
   ]
  },
  {
   "cell_type": "markdown",
   "metadata": {
    "slideshow": {
     "slide_type": "subslide"
    }
   },
   "source": [
    "#  🤔 Novate"
   ]
  },
  {
   "cell_type": "code",
   "execution_count": null,
   "metadata": {
    "slideshow": {
     "slide_type": "subslide"
    }
   },
   "outputs": [],
   "source": [
    "from soluciones.chef_nivel_uno import solucion \n",
    "solucion.ejecutar()"
   ]
  },
  {
   "cell_type": "markdown",
   "metadata": {
    "slideshow": {
     "slide_type": "subslide"
    }
   },
   "source": [
    "# 👩🏽‍💻 Preparade "
   ]
  },
  {
   "cell_type": "code",
   "execution_count": null,
   "metadata": {
    "slideshow": {
     "slide_type": "subslide"
    }
   },
   "outputs": [],
   "source": [
    "from soluciones.chef_nivel_dos.solucion import CocinarHuevos\n",
    "CocinarHuevos().ejecutar()"
   ]
  },
  {
   "cell_type": "markdown",
   "metadata": {
    "slideshow": {
     "slide_type": "subslide"
    }
   },
   "source": [
    "# 🤨 Experte"
   ]
  },
  {
   "cell_type": "code",
   "execution_count": null,
   "metadata": {
    "slideshow": {
     "slide_type": "subslide"
    }
   },
   "outputs": [],
   "source": [
    "from soluciones.chef_nivel_tres.solucion import CocinarHuevos\n",
    "CocinarHuevos().ejecutar()"
   ]
  },
  {
   "cell_type": "markdown",
   "metadata": {
    "slideshow": {
     "slide_type": "slide"
    }
   },
   "source": [
    "# ✨ 👩🏽‍🏫 ✨ "
   ]
  },
  {
   "cell_type": "code",
   "execution_count": null,
   "metadata": {
    "slideshow": {
     "slide_type": "subslide"
    }
   },
   "outputs": [],
   "source": [
    "!tree soluciones/"
   ]
  },
  {
   "cell_type": "code",
   "execution_count": null,
   "metadata": {
    "slideshow": {
     "slide_type": "subslide"
    }
   },
   "outputs": [],
   "source": [
    "%load soluciones/chef_nivel_uno/solucion.py"
   ]
  },
  {
   "cell_type": "code",
   "execution_count": null,
   "metadata": {
    "slideshow": {
     "slide_type": "subslide"
    }
   },
   "outputs": [],
   "source": [
    "%load soluciones/chef_nivel_dos/solucion.py"
   ]
  },
  {
   "cell_type": "markdown",
   "metadata": {
    "slideshow": {
     "slide_type": "subslide"
    }
   },
   "source": [
    "![Patrones](materiales/imagenes/patrones_de_disenio.png)\n",
    "\n",
    "**Patrones de Diseño**"
   ]
  },
  {
   "cell_type": "code",
   "execution_count": null,
   "metadata": {
    "slideshow": {
     "slide_type": "subslide"
    }
   },
   "outputs": [],
   "source": [
    "%load soluciones/chef_nivel_dos/test.py"
   ]
  },
  {
   "cell_type": "code",
   "execution_count": null,
   "metadata": {
    "slideshow": {
     "slide_type": "subslide"
    }
   },
   "outputs": [],
   "source": [
    "%load soluciones/chef_nivel_tres/solucion.py"
   ]
  },
  {
   "cell_type": "markdown",
   "metadata": {
    "slideshow": {
     "slide_type": "slide"
    }
   },
   "source": [
    "![omelet](materiales/imagenes/omelet.png)"
   ]
  },
  {
   "cell_type": "markdown",
   "metadata": {
    "slideshow": {
     "slide_type": "subslide"
    }
   },
   "source": [
    "# Nuevo requerimiento\n",
    "\n",
    "Preparar omelet, que cuesta $0.5 y lleva dos huevos"
   ]
  },
  {
   "cell_type": "code",
   "execution_count": null,
   "metadata": {
    "slideshow": {
     "slide_type": "subslide"
    }
   },
   "outputs": [],
   "source": [
    "!cat nuevas_ordenes.csv"
   ]
  },
  {
   "cell_type": "markdown",
   "metadata": {
    "slideshow": {
     "slide_type": "subslide"
    }
   },
   "source": [
    "### Open-Closed  (O en S**O**LID)\n",
    "\n",
    "Los objetos deben estar abiertos para ser extendidos pero cerrados para ser modificados.\n",
    "\n",
    "*Objects should be open for extension, but closed for modification.*"
   ]
  },
  {
   "cell_type": "markdown",
   "metadata": {
    "slideshow": {
     "slide_type": "notes"
    }
   },
   "source": [
    "Que implica el O/C principle\n",
    "Como hacerlo Abierto para el extension"
   ]
  },
  {
   "cell_type": "markdown",
   "metadata": {
    "slideshow": {
     "slide_type": "notes"
    }
   },
   "source": [
    "The \"open\" principle says that you should not conflate the process of moving code around, of refactoring, with the act of adding new features. You should instead separate these two operations. When faced with a new requirement, first rearrange the existing code such that it’s open to the new feature, and once that’s complete, then add the new code."
   ]
  },
  {
   "cell_type": "markdown",
   "metadata": {
    "slideshow": {
     "slide_type": "subslide"
    }
   },
   "source": [
    "![FlowChart](materiales/imagenes/diagrama_codigo_abierto_cerrado.png)\n",
    "Imagen adaptada de 99 Bottles of OOP"
   ]
  },
  {
   "cell_type": "markdown",
   "metadata": {
    "slideshow": {
     "slide_type": "notes"
    }
   },
   "source": [
    "As per the above flowchart, first ask yourself if the existing code is already open to the new requirement. If so, your job is simply to write the new code.If not, next ask if you know how to alter the existing code to make it open to the newrequirement. This case is also straightforward. If so, make the alteration, and then write the newcode.However, the sad truth is that the answer to both of those questions is often \"no.\" The existingcode isn’t open to the new requirement, and you have no idea how to make it so. At this point\"code smells\" come to the rescue. If you can identify smells in code, you isolate flaws and correctthem one by one."
   ]
  },
  {
   "cell_type": "markdown",
   "metadata": {
    "slideshow": {
     "slide_type": "slide"
    }
   },
   "source": [
    "```\n",
    "Refactoring is the process of changing a software system in such a way that it does  not  alter  the  external  behavior  of  the  code  yet improves  its  internal structure.\n",
    "```\n",
    "\n",
    "Martin Fowler, Refactoring"
   ]
  },
  {
   "cell_type": "markdown",
   "metadata": {
    "slideshow": {
     "slide_type": "notes"
    }
   },
   "source": [
    "The \"open\" principle says that you should not conflate the process of moving code around, ofrefactoring, with the act of adding new features. You should instead separate these twooperations. When faced with a new requirement, first rearrange the existing code such that it’sopen to the new feature, and once that’s complete, then add the new code.The current Bottles class is not open to the \"6-packs\" requirement because adding new versevariants requires editing the conditional. Therefore, when faced with this new requirement,your first task is to refactor the existing code into a shape such that you can then implement thenew requirement by merely adding code. Unfortunately, it is quite likely that you do not knowhow to do this, and so are at a loss about how to approach the problem.Fortunately, you do not have to know everything in order to choose the right place to start. Whenfaced with this situation, be guided by the following flowchart"
   ]
  },
  {
   "cell_type": "markdown",
   "metadata": {
    "slideshow": {
     "slide_type": "slide"
    }
   },
   "source": [
    "# Code Smells"
   ]
  },
  {
   "cell_type": "markdown",
   "metadata": {
    "slideshow": {
     "slide_type": "subslide"
    }
   },
   "source": [
    "```\n",
    "Alternative Classes with Different Interfaces \n",
    "Comments \n",
    "Data Class \n",
    "Data Clumps \n",
    "Divergent Change \n",
    "Duplicated Code \n",
    "Feature Envy \n",
    "Global Data \n",
    "Insider Trading \n",
    "Large Class \n",
    "Lazy Element\n",
    "Long Function \n",
    "Long Parameter List \n",
    "Loops \n",
    "Message Chains \n",
    "Middle Man \n",
    "Mutable Data \n",
    "Mysterious Name \n",
    "Primitive Obsession\n",
    "Refused Bequest \n",
    "Repeated Switches \n",
    "Shotgun Surgery \n",
    "Speculative Generality \n",
    "Temporary Field \n",
    "```"
   ]
  },
  {
   "cell_type": "markdown",
   "metadata": {
    "slideshow": {
     "slide_type": "subslide"
    }
   },
   "source": [
    "### Flocking Rules\n",
    "\n",
    "1. Select the things that are most alike.\n",
    "2. Find the smallest difference between them.\n",
    "3. Make the simplest change that will remove that difference."
   ]
  },
  {
   "cell_type": "code",
   "execution_count": 1,
   "metadata": {
    "slideshow": {
     "slide_type": "slide"
    }
   },
   "outputs": [
    {
     "name": "stdout",
     "output_type": "stream",
     "text": [
      "\u001b[1m============================= test session starts ==============================\u001b[0m\n",
      "platform linux -- Python 3.8.5, pytest-6.0.1, py-1.9.0, pluggy-0.13.1\n",
      "rootdir: /home/sasha/code/presentations/meetup/pyar-19-sep-2020\n",
      "plugins: hypothesis-5.26.0\n",
      "collected 1 item                                                               \u001b[0m\n",
      "\n",
      "soluciones/chef_nivel_dos/test.py \u001b[32m.\u001b[0m\u001b[32m                                      [100%]\u001b[0m\n",
      "\n",
      "\u001b[32m============================== \u001b[32m\u001b[1m1 passed\u001b[0m\u001b[32m in 0.08s\u001b[0m\u001b[32m ===============================\u001b[0m\n"
     ]
    }
   ],
   "source": [
    "!pytest soluciones/chef_nivel_dos/test.py"
   ]
  },
  {
   "cell_type": "code",
   "execution_count": null,
   "metadata": {
    "slideshow": {
     "slide_type": "subslide"
    }
   },
   "outputs": [],
   "source": [
    "%load soluciones/chef_nivel_dos/solucion.py"
   ]
  },
  {
   "cell_type": "markdown",
   "metadata": {
    "slideshow": {
     "slide_type": "slide"
    }
   },
   "source": [
    "![FLAN](https://assets.bonappetit.com/photos/5a05d34cba9fd6568203c83e/16:9/w_2560,c_limit/flan-with-grapefruit.jpg)"
   ]
  },
  {
   "cell_type": "markdown",
   "metadata": {},
   "source": []
  },
  {
   "cell_type": "markdown",
   "metadata": {
    "slideshow": {
     "slide_type": "slide"
    }
   },
   "source": [
    "<i class=\"fab fa-twitter\" title=\"twitter\"></i> sashaKile"
   ]
  },
  {
   "cell_type": "markdown",
   "metadata": {
    "slideshow": {
     "slide_type": "slide"
    }
   },
   "source": [
    "![provecho](materiales/imagenes/provecho.png)"
   ]
  },
  {
   "cell_type": "markdown",
   "metadata": {
    "slideshow": {
     "slide_type": "slide"
    }
   },
   "source": [
    "# 🥡 Ordenes para llevar"
   ]
  },
  {
   "cell_type": "markdown",
   "metadata": {
    "slideshow": {
     "slide_type": "subslide"
    }
   },
   "source": [
    "[Refactoring, Improving the Design of Existing Code](https://martinfowler.com/books/refactoring.html)\n",
    "\n",
    "[99 Bottles of OOP](https://sandimetz.com/99bottles)\n",
    "\n",
    "[SmallTalk, Objects, and Design](https://www.goodreads.com/book/show/2015891.SmallTalk_Objects_and_Design)\n",
    "\n",
    "[Refactoring Guru](https://refactoring.guru/refactoring/smells)\n",
    "\n",
    "[Martin Fowler Refactoring Catalog](https://refactoring.com/catalog/)"
   ]
  },
  {
   "cell_type": "markdown",
   "metadata": {},
   "source": [
    "## Lo que esta charla quizo ser y no fue\n",
    "\n",
    "### Charla por Katrina Owen\n",
    "\n",
    "[Succession](https://www.youtube.com/watch?v=59YClXmkCVM)\n",
    "\n",
    "\n",
    "### Charlas por Sandi Metz:\n",
    "\n",
    "[Nothing is Something](https://www.youtube.com/watch?v=29MAL8pJImQ)\n",
    "\n",
    "[SOLID Object-Oriented Design](https://www.youtube.com/watch?v=v-2yFMzxqwU)\n",
    "\n",
    "[Polly want a message](https://www.youtube.com/watch?v=XXi_FBrZQiU)\n",
    "\n",
    "[Get a Whiff of This](https://www.youtube.com/watch?v=PJjHfa5yxlU)\n",
    "\n",
    "[The Magic Tricks of Testing](https://www.youtube.com/watch?v=URSWYvyc42M)\n"
   ]
  },
  {
   "cell_type": "markdown",
   "metadata": {
    "slideshow": {
     "slide_type": "subslide"
    }
   },
   "source": [
    "[Epicurious: 4 Levels of](https://www.epicurious.com/video/series/4-levels)\n",
    "\n",
    "https://www.bonappetit.com/recipe/relish-tray-with-diy-eggs\n",
    "\n",
    "https://www.bonappetit.com/recipe/traditional-carbonara\n",
    "\n",
    "https://www.bonappetit.com/recipe/flan-with-grapefruit\n",
    "\n",
    "https://www.bonappetit.com/video/watch/12-types-12-types-of-eggs-examined-and-cooked\n",
    "\n",
    "https://www.bonappetit.com/video/watch/every-way-to-cook-an-egg-59-methods\n",
    "\n",
    "https://laizquierdadiario.com/IMG/arton136910.jpg"
   ]
  }
 ],
 "metadata": {
  "celltoolbar": "Slideshow",
  "kernelspec": {
   "display_name": "Python 3",
   "language": "python",
   "name": "python3"
  },
  "language_info": {
   "codemirror_mode": {
    "name": "ipython",
    "version": 3
   },
   "file_extension": ".py",
   "mimetype": "text/x-python",
   "name": "python",
   "nbconvert_exporter": "python",
   "pygments_lexer": "ipython3",
   "version": "3.8.5"
  }
 },
 "nbformat": 4,
 "nbformat_minor": 4
}
