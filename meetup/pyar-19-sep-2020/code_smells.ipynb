{
 "cells": [
  {
   "cell_type": "markdown",
   "metadata": {},
   "source": [
    "# Code Smells ... Y eso con que se come?"
   ]
  },
  {
   "cell_type": "markdown",
   "metadata": {},
   "source": [
    "*The only constant thing in Software is change*"
   ]
  },
  {
   "cell_type": "markdown",
   "metadata": {},
   "source": [
    "Disenio con Objetos ( Object Oriented Design )"
   ]
  },
  {
   "cell_type": "markdown",
   "metadata": {},
   "source": [
    "![](https://dwgyu36up6iuz.cloudfront.net/heru80fdn/image/upload/c_fill,d_placeholder_thescene.jpg,fl_progressive,g_center,h_700,q_80,w_4000/v1550780242/epicurious_title_4-levels-season-1.jpg)"
   ]
  },
  {
   "cell_type": "markdown",
   "metadata": {},
   "source": []
  },
  {
   "cell_type": "markdown",
   "metadata": {},
   "source": []
  },
  {
   "cell_type": "markdown",
   "metadata": {},
   "source": []
  },
  {
   "cell_type": "markdown",
   "metadata": {},
   "source": []
  },
  {
   "cell_type": "markdown",
   "metadata": {},
   "source": [
    "[Refactoring, Improving the Design of Existing Code](https://martinfowler.com/books/refactoring.html)\n",
    "[99 Bottles of OOP](https://sandimetz.com/99bottles)\n",
    "[Refactoring Guru](https://refactoring.guru/refactoring/smells)\n",
    "[SmallTalk, Objects, and Design](https://www.goodreads.com/book/show/2015891.SmallTalk_Objects_and_Design)\n",
    "[Epicurious: 4 Levels of](https://www.epicurious.com/video/series/4-levels)"
   ]
  },
  {
   "cell_type": "code",
   "execution_count": null,
   "metadata": {},
   "outputs": [],
   "source": []
  },
  {
   "cell_type": "code",
   "execution_count": null,
   "metadata": {},
   "outputs": [],
   "source": []
  },
  {
   "cell_type": "code",
   "execution_count": null,
   "metadata": {},
   "outputs": [],
   "source": []
  }
 ],
 "metadata": {
  "kernelspec": {
   "display_name": "Python 3",
   "language": "python",
   "name": "python3"
  },
  "language_info": {
   "codemirror_mode": {
    "name": "ipython",
    "version": 3
   },
   "file_extension": ".py",
   "mimetype": "text/x-python",
   "name": "python",
   "nbconvert_exporter": "python",
   "pygments_lexer": "ipython3",
   "version": "3.8.5"
  }
 },
 "nbformat": 4,
 "nbformat_minor": 4
}
