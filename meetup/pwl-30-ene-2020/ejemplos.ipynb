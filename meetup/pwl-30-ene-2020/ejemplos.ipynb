{
 "cells": [
  {
   "cell_type": "code",
   "execution_count": 17,
   "metadata": {},
   "outputs": [],
   "source": [
    "from sympy import init_printing\n",
    "init_printing(use_latex=True)\n",
    "\n",
    "import sympy\n",
    "from sympy.physics.quantum import Bra, Ket, Dagger, Operator\n",
    "from sympy import expand, Eq, Symbol, simplify, exp, sin, symbols, Matrix,Function\n",
    "from sympy.physics.quantum.constants import hbar"
   ]
  },
  {
   "cell_type": "code",
   "execution_count": 62,
   "metadata": {},
   "outputs": [
    {
     "data": {
      "text/latex": [
       "$\\displaystyle \\hbar$"
      ],
      "text/plain": [
       "ℏ"
      ]
     },
     "execution_count": 62,
     "metadata": {},
     "output_type": "execute_result"
    }
   ],
   "source": [
    "s,y = Bra('phi'), Ket('psi')\n",
    "alpha, beta = symbols('alpha beta', complex=True)\n",
    "A = Operator('A')\n",
    "hbar"
   ]
  },
  {
   "cell_type": "code",
   "execution_count": 67,
   "metadata": {},
   "outputs": [
    {
     "name": "stdout",
     "output_type": "stream",
     "text": [
      "{\\left|\\Psi\\right\\rangle }\n",
      "{\\left\\langle \\Psi\\right|}\n",
      "{\\left|\\phi_{n}\\right\\rangle }\n",
      "{\\left\\langle \\phi_{n}\\right|}\n"
     ]
    }
   ],
   "source": [
    "alpha.is_complex\n",
    "print(sympy.latex(Ket('Psi')))\n",
    "print(sympy.latex(Bra('Psi')))\n",
    "print(sympy.latex(Ket('phi_n')))\n",
    "print(sympy.latex(Bra('phi_n')))"
   ]
  },
  {
   "cell_type": "code",
   "execution_count": 34,
   "metadata": {},
   "outputs": [
    {
     "data": {
      "text/latex": [
       "$\\displaystyle \\left[\\begin{matrix}1 & -1\\\\3 & 4\\\\0 & 2\\end{matrix}\\right]$"
      ],
      "text/plain": [
       "⎡1  -1⎤\n",
       "⎢     ⎥\n",
       "⎢3  4 ⎥\n",
       "⎢     ⎥\n",
       "⎣0  2 ⎦"
      ]
     },
     "execution_count": 34,
     "metadata": {},
     "output_type": "execute_result"
    }
   ],
   "source": [
    "x, y, z, t = symbols('x y z t')\n",
    "k, m, n = symbols('k m n', integer=True)\n",
    "f, g, h = symbols('f g h', cls=Function)\n",
    "\n",
    "Matrix([[1, -1], [3, 4], [0, 2]])"
   ]
  },
  {
   "cell_type": "code",
   "execution_count": 22,
   "metadata": {},
   "outputs": [
    {
     "name": "stdout",
     "output_type": "stream",
     "text": [
      "$A {\\left\\langle \\phi\\right|}$\n"
     ]
    }
   ],
   "source": [
    "print(sympy.latex(A*s,mode='inline'  "
   ]
  },
  {
   "cell_type": "code",
   "execution_count": 1,
   "metadata": {},
   "outputs": [
    {
     "data": {
      "text/latex": [
       "$\\displaystyle {\\left|b\\right\\rangle }{\\left\\langle k\\right|} + {\\left|k\\right\\rangle }{\\left\\langle b\\right|}$"
      ],
      "text/plain": [
       "|b><k| + |k><b|"
      ]
     },
     "execution_count": 1,
     "metadata": {},
     "output_type": "execute_result"
    }
   ],
   "source": [
    "from sympy.physics.quantum import Ket, Bra, OuterProduct, Dagger, InnerProduct\n",
    "from sympy.physics.quantum import Operator\n",
    "\n",
    "k = Ket('k')\n",
    "b = Bra('b')\n",
    "op = OuterProduct(k, b)\n",
    "op + Dagger(op)"
   ]
  },
  {
   "cell_type": "code",
   "execution_count": 5,
   "metadata": {},
   "outputs": [
    {
     "data": {
      "text/latex": [
       "$\\displaystyle \\left\\langle k \\right. {\\left|k\\right\\rangle }$"
      ],
      "text/plain": [
       "<k|k>"
      ]
     },
     "execution_count": 5,
     "metadata": {},
     "output_type": "execute_result"
    }
   ],
   "source": [
    "InnerProduct(k.dual,k).doit()"
   ]
  },
  {
   "cell_type": "code",
   "execution_count": 39,
   "metadata": {},
   "outputs": [
    {
     "data": {
      "text/latex": [
       "$\\displaystyle 0$"
      ],
      "text/plain": [
       "0"
      ]
     },
     "execution_count": 39,
     "metadata": {},
     "output_type": "execute_result"
    }
   ],
   "source": [
    "from sympy.physics.quantum.qubit import Qubit\n",
    "a= Qubit(0,0,0)\n",
    "u= Qubit('0101')\n",
    "( Dagger(u)*a ).doit()\n"
   ]
  },
  {
   "cell_type": "code",
   "execution_count": 42,
   "metadata": {},
   "outputs": [
    {
     "data": {
      "text/latex": [
       "$\\displaystyle \\left[\\begin{matrix}1\\\\0\\\\0\\\\0\\\\0\\\\0\\\\0\\\\0\\end{matrix}\\right]$"
      ],
      "text/plain": [
       "⎡1⎤\n",
       "⎢ ⎥\n",
       "⎢0⎥\n",
       "⎢ ⎥\n",
       "⎢0⎥\n",
       "⎢ ⎥\n",
       "⎢0⎥\n",
       "⎢ ⎥\n",
       "⎢0⎥\n",
       "⎢ ⎥\n",
       "⎢0⎥\n",
       "⎢ ⎥\n",
       "⎢0⎥\n",
       "⎢ ⎥\n",
       "⎣0⎦"
      ]
     },
     "execution_count": 42,
     "metadata": {},
     "output_type": "execute_result"
    }
   ],
   "source": [
    "from sympy.physics.quantum.represent import represent\n",
    "represent(a)"
   ]
  },
  {
   "cell_type": "code",
   "execution_count": 50,
   "metadata": {},
   "outputs": [],
   "source": [
    "from sympy.physics.quantum.qubit import matrix_to_density "
   ]
  },
  {
   "cell_type": "code",
   "execution_count": 48,
   "metadata": {},
   "outputs": [],
   "source": [
    "d = matrix_to_density(Matrix([[0,1],[1,2]]))"
   ]
  },
  {
   "cell_type": "code",
   "execution_count": 51,
   "metadata": {},
   "outputs": [],
   "source": [
    "from sympy.physics.quantum.density import Density\n",
    "from sympy.physics.quantum.qubit import Qubit\n",
    "D = Density([Qubit('00'),0.5],[Qubit('11'),0.5])"
   ]
  },
  {
   "cell_type": "code",
   "execution_count": 55,
   "metadata": {},
   "outputs": [
    {
     "name": "stdout",
     "output_type": "stream",
     "text": [
      "\\rho\\left(\\left( {\\left|00\\right\\rangle }, \\  0.5\\right),\\left( {\\left|11\\right\\rangle }, \\  0.5\\right)\\right)\n"
     ]
    }
   ],
   "source": [
    "print(sympy.latex(D))"
   ]
  },
  {
   "cell_type": "code",
   "execution_count": 58,
   "metadata": {},
   "outputs": [
    {
     "data": {
      "text/latex": [
       "$\\displaystyle \\left[\\begin{matrix}0.5 & 0 & 0 & 0\\\\0 & 0 & 0 & 0\\\\0 & 0 & 0 & 0\\\\0 & 0 & 0 & 0.5\\end{matrix}\\right]$"
      ],
      "text/plain": [
       "⎡0.5  0  0   0 ⎤\n",
       "⎢              ⎥\n",
       "⎢ 0   0  0   0 ⎥\n",
       "⎢              ⎥\n",
       "⎢ 0   0  0   0 ⎥\n",
       "⎢              ⎥\n",
       "⎣ 0   0  0  0.5⎦"
      ]
     },
     "execution_count": 58,
     "metadata": {},
     "output_type": "execute_result"
    }
   ],
   "source": [
    "represent(D)"
   ]
  },
  {
   "cell_type": "code",
   "execution_count": 60,
   "metadata": {},
   "outputs": [
    {
     "data": {
      "text/latex": [
       "$\\displaystyle 0.5 {\\left|00\\right\\rangle }{\\left\\langle 00\\right|} + 0.5 {\\left|11\\right\\rangle }{\\left\\langle 11\\right|}$"
      ],
      "text/plain": [
       "0.5⋅❘00⟩⟨00❘ + 0.5⋅❘11⟩⟨11❘"
      ]
     },
     "execution_count": 60,
     "metadata": {},
     "output_type": "execute_result"
    }
   ],
   "source": [
    "D.doit()"
   ]
  },
  {
   "cell_type": "code",
   "execution_count": null,
   "metadata": {},
   "outputs": [],
   "source": []
  },
  {
   "cell_type": "code",
   "execution_count": null,
   "metadata": {},
   "outputs": [],
   "source": []
  },
  {
   "cell_type": "code",
   "execution_count": null,
   "metadata": {},
   "outputs": [],
   "source": []
  },
  {
   "cell_type": "code",
   "execution_count": null,
   "metadata": {},
   "outputs": [],
   "source": []
  },
  {
   "cell_type": "code",
   "execution_count": null,
   "metadata": {},
   "outputs": [],
   "source": []
  },
  {
   "cell_type": "markdown",
   "metadata": {},
   "source": [
    "https://digitalcommons.calpoly.edu/cgi/viewcontent.cgi?article=1038&context=physsp"
   ]
  },
  {
   "cell_type": "code",
   "execution_count": 1,
   "metadata": {},
   "outputs": [],
   "source": [
    "from IPython.display import IFrame"
   ]
  },
  {
   "cell_type": "code",
   "execution_count": 2,
   "metadata": {},
   "outputs": [
    {
     "data": {
      "text/html": [
       "\n",
       "        <iframe\n",
       "            width=\"600px\"\n",
       "            height=\"400px\"\n",
       "            src=\"https://phet.colorado.edu/sims/html/wave-interference/latest/wave-interference_en.html\"\n",
       "            frameborder=\"0\"\n",
       "            allowfullscreen\n",
       "        ></iframe>\n",
       "        "
      ],
      "text/plain": [
       "<IPython.lib.display.IFrame at 0x7f03bc026af0>"
      ]
     },
     "execution_count": 2,
     "metadata": {},
     "output_type": "execute_result"
    }
   ],
   "source": [
    "IFrame(src='https://phet.colorado.edu/sims/html/wave-interference/latest/wave-interference_en.html',\n",
    "       width='600px',\n",
    "    height='400px')"
   ]
  },
  {
   "cell_type": "code",
   "execution_count": 4,
   "metadata": {},
   "outputs": [
    {
     "data": {
      "text/html": [
       "\n",
       "        <iframe\n",
       "            width=\"600px\"\n",
       "            height=\"400px\"\n",
       "            src=\"https://phet.colorado.edu/sims/html/rutherford-scattering/latest/rutherford-scattering_en.html\"\n",
       "            frameborder=\"0\"\n",
       "            allowfullscreen\n",
       "        ></iframe>\n",
       "        "
      ],
      "text/plain": [
       "<IPython.lib.display.IFrame at 0x7f03bc026520>"
      ]
     },
     "execution_count": 4,
     "metadata": {},
     "output_type": "execute_result"
    }
   ],
   "source": [
    "IFrame(src='https://phet.colorado.edu/sims/html/rutherford-scattering/latest/rutherford-scattering_en.html',\n",
    "       width='600px',\n",
    "    height='400px')"
   ]
  },
  {
   "cell_type": "code",
   "execution_count": 5,
   "metadata": {},
   "outputs": [
    {
     "data": {
      "text/html": [
       "\n",
       "        <iframe\n",
       "            width=\"600px\"\n",
       "            height=\"400px\"\n",
       "            src=\"https://phet.colorado.edu/sims/html/blackbody-spectrum/latest/blackbody-spectrum_en.html\"\n",
       "            frameborder=\"0\"\n",
       "            allowfullscreen\n",
       "        ></iframe>\n",
       "        "
      ],
      "text/plain": [
       "<IPython.lib.display.IFrame at 0x7f03bc026490>"
      ]
     },
     "execution_count": 5,
     "metadata": {},
     "output_type": "execute_result"
    }
   ],
   "source": [
    "IFrame(src='https://phet.colorado.edu/sims/html/blackbody-spectrum/latest/blackbody-spectrum_en.html',\n",
    "       width='600px',\n",
    "    height='400px')"
   ]
  },
  {
   "cell_type": "code",
   "execution_count": 16,
   "metadata": {},
   "outputs": [
    {
     "ename": "NameError",
     "evalue": "name 'IFrame' is not defined",
     "output_type": "error",
     "traceback": [
      "\u001b[0;31m-------------------------------------------------------------------------\u001b[0m",
      "\u001b[0;31mNameError\u001b[0m                               Traceback (most recent call last)",
      "\u001b[0;32m<ipython-input-16-4e39dd109313>\u001b[0m in \u001b[0;36m<module>\u001b[0;34m\u001b[0m\n\u001b[0;32m----> 1\u001b[0;31m IFrame(src='https://phet.colorado.edu/sims/html/wave-interference/latest/wave-interference_en.html',\n\u001b[0m\u001b[1;32m      2\u001b[0m        \u001b[0mwidth\u001b[0m\u001b[0;34m=\u001b[0m\u001b[0;34m'600px'\u001b[0m\u001b[0;34m,\u001b[0m\u001b[0;34m\u001b[0m\u001b[0;34m\u001b[0m\u001b[0m\n\u001b[1;32m      3\u001b[0m     height='400px')\n",
      "\u001b[0;31mNameError\u001b[0m: name 'IFrame' is not defined"
     ]
    }
   ],
   "source": [
    "IFrame(src='https://phet.colorado.edu/sims/html/wave-interference/latest/wave-interference_en.html',\n",
    "       width='600px',\n",
    "    height='400px')"
   ]
  },
  {
   "cell_type": "code",
   "execution_count": 6,
   "metadata": {},
   "outputs": [],
   "source": [
    "from IPython.display import Image,HTML"
   ]
  },
  {
   "cell_type": "code",
   "execution_count": 21,
   "metadata": {},
   "outputs": [
    {
     "data": {
      "text/html": [
       "<div style=\"position: relative; width: 300px; height: 197px;\"><a href=\"https://phet.colorado.edu/sims/photoelectric/photoelectric_en.jar\" style=\"text-decoration: none;\"><img src=\"https://phet.colorado.edu/sims/photoelectric/photoelectric-600.png\" alt=\"Photoelectric Effect\" style=\"border: none;\" width=\"300\" height=\"197\"/><div style=\"position: absolute; width: 200px; height: 80px; left: 50px; top: 58px; background-color: #FFF; opacity: 0.6; filter: alpha(opacity = 60);\"></div><table style=\"position: absolute; width: 200px; height: 80px; left: 50px; top: 58px;\"><tr><td style=\"text-align: center; color: #000; font-size: 24px; font-family: Arial,sans-serif;\">Click to Run</td></tr></table></a></div>\n",
       "    "
      ],
      "text/plain": [
       "<IPython.core.display.HTML object>"
      ]
     },
     "execution_count": 21,
     "metadata": {},
     "output_type": "execute_result"
    }
   ],
   "source": [
    "HTML(\n",
    "    '''<div style=\"position: relative; width: 300px; height: 197px;\"><a href=\"https://phet.colorado.edu/sims/photoelectric/photoelectric_en.jar\" style=\"text-decoration: none;\"><img src=\"https://phet.colorado.edu/sims/photoelectric/photoelectric-600.png\" alt=\"Photoelectric Effect\" style=\"border: none;\" width=\"300\" height=\"197\"/><div style=\"position: absolute; width: 200px; height: 80px; left: 50px; top: 58px; background-color: #FFF; opacity: 0.6; filter: alpha(opacity = 60);\"></div><table style=\"position: absolute; width: 200px; height: 80px; left: 50px; top: 58px;\"><tr><td style=\"text-align: center; color: #000; font-size: 24px; font-family: Arial,sans-serif;\">Click to Run</td></tr></table></a></div>\n",
    "    ''')"
   ]
  },
  {
   "cell_type": "code",
   "execution_count": null,
   "metadata": {},
   "outputs": [],
   "source": [
    "{\n",
    "'de Broglie':'https://cdn.britannica.com/s:1500x700,q:85/09/21109-004-2172F5F5/Louis-Victor-Broglie-1958.jpg',\n",
    "'Rutherford':'https://cdn.britannica.com/43/102243-050-15D49DEF/Ernest-Rutherford.jpg',\n",
    "'Rosen':'https://upload.wikimedia.org/wikipedia/en/d/d7/NathanRosen.jpg', \n",
    "'Podolsky':'https://www.ias.edu/sites/default/files/styles/basic_scholar/public/images/scholars/Boris.jpg', \n",
    "'Bohr':'https://cdn.britannica.com/s:300x1000/14/21114-004-FA0334F4/Niels-Bohr.jpg', \n",
    "'Bell':'https://upload.wikimedia.org/wikipedia/en/a/a5/JohnStewartBell.jpg', \n",
    "'Einstein':'https://cdn.britannica.com/09/75509-050-86D8CBBF/Albert-Einstein.jpg', \n",
    "'Plank':'https://cdn.britannica.com/s:300x1000/73/20973-050-F6EEBFF1/Max-Planck.jpg', \n",
    "'Heisenberg':'https://cdn.britannica.com/67/43167-004-A4FAD96F/Werner-Heisenberg.jpg', \n",
    "'Jordan':'https://upload.wikimedia.org/wikipedia/commons/a/a6/Pascual_Jordan_1920s.jpg', \n",
    "'Born':'https://cdn.britannica.com/24/13124-004-E329BF69/Max-Born.jpg', \n",
    "'Dirac':'https://cdn.britannica.com/66/91766-004-CE5A2E61/PAM-Dirac.jpg', \n",
    "'Pauli':'https://cdn.britannica.com/80/20980-004-2BC7E745/Wolfgang-Pauli-1945.jpg', \n",
    "'Stern':'https://cdn.britannica.com/06/134706-050-755B4B38/Otto-Stern-presentation-Nobel-Prizes-New-York-1943.jpg',\n",
    "'Gerlach':'https://upload.wikimedia.org/wikipedia/en/9/9e/Walther_Gerlach.jpg',\n",
    "'Wien':'https://cdn.britannica.com/47/8747-004-A1104E40/Wien.jpg'\n",
    "'Kramers':'https://upload.wikimedia.org/wikipedia/commons/b/b4/Kramers_1928.jpg',\n",
    "'Sommerfeld':'https://upload.wikimedia.org/wikipedia/commons/7/74/Sommerfeld1897.gif',\n",
    "'Wilson':'https://upload.wikimedia.org/wikipedia/commons/thumb/c/c9/William_Wilson_Academic.jpg/517px-William_Wilson_Academic.jpg'\n",
    "}\n",
    "\n",
    "{'Stern-Gerlach':'https://plato.stanford.edu/entries/physics-experiment/figure13.jpg'}"
   ]
  },
  {
   "cell_type": "markdown",
   "metadata": {},
   "source": [
    "$${\\displaystyle B_{\\nu }(T)={\\frac {2\\nu ^{2}k_{\\mathrm {B} }T}{c^{2}}}}$$\n",
    "$${\\displaystyle B_{\\nu }(T)={\\frac {2\\nu ^{2}k_{\\mathrm {B} }T}{c^{2}}}}$$"
   ]
  },
  {
   "cell_type": "code",
   "execution_count": 1,
   "metadata": {},
   "outputs": [],
   "source": [
    "from sympy.parsing.latex import parse_latex"
   ]
  },
  {
   "cell_type": "code",
   "execution_count": 12,
   "metadata": {},
   "outputs": [],
   "source": [
    "p=parse_latex(r\"\\frac {2 \\nu^{2} k_{b} T}{c^{2}}\")"
   ]
  },
  {
   "cell_type": "code",
   "execution_count": 23,
   "metadata": {},
   "outputs": [
    {
     "data": {
      "text/plain": [
       "'(2*(nu**2*(T*k_{b})))/c**2'"
      ]
     },
     "execution_count": 23,
     "metadata": {},
     "output_type": "execute_result"
    }
   ],
   "source": [
    "str(p)"
   ]
  },
  {
   "cell_type": "code",
   "execution_count": 16,
   "metadata": {},
   "outputs": [
    {
     "name": "stdout",
     "output_type": "stream",
     "text": [
      "Collecting package metadata (current_repodata.json): done\n",
      "Solving environment: done\n",
      "\n",
      "\n",
      "==> WARNING: A newer version of conda exists. <==\n",
      "  current version: 4.7.12\n",
      "  latest version: 4.8.1\n",
      "\n",
      "Please update conda by running\n",
      "\n",
      "    $ conda update -n base -c defaults conda\n",
      "\n",
      "\n",
      "\n",
      "# All requested packages already installed.\n",
      "\n"
     ]
    }
   ],
   "source": [
    "!conda install --channel=conda-forge antlr-python-runtime --name=presentations -y"
   ]
  },
  {
   "cell_type": "code",
   "execution_count": 24,
   "metadata": {},
   "outputs": [
    {
     "data": {
      "text/plain": [
       "'Schrödinger, E. (1926). Über das Verhältnis der Heisenberg-Born-Jordanschen Quantenmechanik zu der meinem. Annalen Der Physik, 384(8), 734–756. doi:10.1002/andp.19263840804'"
      ]
     },
     "execution_count": 24,
     "metadata": {},
     "output_type": "execute_result"
    }
   ],
   "source": [
    "\"Born, M., Heisenberg, W., & Jordan, P. (1926). Zur Quantenmechanik. II. Zeitschrift F�r Physik, 35(8-9), 557–615. doi:10.1007/bf01379806\"\n",
    "\"Born, M., & Jordan, P. (1925). Zur Quantenmechanik. Zeitschrift F�r Physik, 34(1), 858–888. doi:10.1007/bf01328531\"\n",
    "\n",
    "\"Heisenberg, W. (1925). �ber quantentheoretische Umdeutung kinematischer und mechanischer Beziehungen. Zeitschrift F�r Physik, 33(1), 879–893. doi:10.1007/bf01328377 \"\n",
    "\n",
    "\"Schrödinger, E. (1926). Quantisierung als Eigenwertproblem. Annalen Der Physik, 386(18), 109–139. doi:10.1002/andp.19263861802\"\n",
    "\"Schrödinger, E. (1926). Quantisierung als Eigenwertproblem. Annalen Der Physik, 384(6), 489–527. doi:10.1002/andp.19263840602\"\n",
    "\"Schrödinger, E. (1926). Quantisierung als Eigenwertproblem. Annalen Der Physik, 385(13), 437–490. doi:10.1002/andp.19263851302\"\n",
    "\"Schrödinger, E. (1926). Quantisierung als Eigenwertproblem. Annalen Der Physik, 384(4), 361–376. doi:10.1002/andp.19263840404\"\n",
    "\"Schrödinger, E. (1926). Über das Verhältnis der Heisenberg-Born-Jordanschen Quantenmechanik zu der meinem. Annalen Der Physik, 384(8), 734–756. doi:10.1002/andp.19263840804\" "
   ]
  },
  {
   "cell_type": "code",
   "execution_count": 7,
   "metadata": {},
   "outputs": [
    {
     "data": {
      "text/html": [
       "<img src=\"\" width=\"400\" height=\"400\"/>"
      ],
      "text/plain": [
       "<IPython.core.display.Image object>"
      ]
     },
     "execution_count": 7,
     "metadata": {},
     "output_type": "execute_result"
    }
   ],
   "source": [
    "Image(url='',width=400,height=400)"
   ]
  },
  {
   "cell_type": "code",
   "execution_count": 1,
   "metadata": {
    "slideshow": {
     "slide_type": "slide"
    }
   },
   "outputs": [],
   "source": [
    "import utils"
   ]
  },
  {
   "cell_type": "code",
   "execution_count": 2,
   "metadata": {
    "slideshow": {
     "slide_type": "slide"
    }
   },
   "outputs": [
    {
     "data": {
      "text/html": [
       "<img src=\"https://upload.wikimedia.org/wikipedia/commons/b/b4/Kramers_1928.jpg\" width=\"200\" height=\"200\"/>"
      ],
      "text/plain": [
       "<utils.Photo object>"
      ]
     },
     "metadata": {},
     "output_type": "display_data"
    },
    {
     "data": {
      "text/html": [
       "<img src=\"https://cdn.britannica.com/s:300x1000/14/21114-004-FA0334F4/Niels-Bohr.jpg\" width=\"200\" height=\"200\"/>"
      ],
      "text/plain": [
       "<utils.Photo object>"
      ]
     },
     "metadata": {},
     "output_type": "display_data"
    }
   ],
   "source": [
    "utils.display( utils.Photo('Kramers'),utils.Photo('Bohr') )"
   ]
  },
  {
   "cell_type": "code",
   "execution_count": 4,
   "metadata": {
    "slideshow": {
     "slide_type": "subslide"
    }
   },
   "outputs": [],
   "source": [
    "import ipywidgets as widgets"
   ]
  },
  {
   "cell_type": "code",
   "execution_count": 6,
   "metadata": {
    "slideshow": {
     "slide_type": "subslide"
    }
   },
   "outputs": [
    {
     "data": {
      "application/vnd.jupyter.widget-view+json": {
       "model_id": "c2def01090944c31afe42dc34cb19cfd",
       "version_major": 2,
       "version_minor": 0
      },
      "text/plain": [
       "Image(value=b'')"
      ]
     },
     "metadata": {},
     "output_type": "display_data"
    }
   ],
   "source": [
    "widgets.Image(url=utils.photo_links['Wien'])"
   ]
  },
  {
   "cell_type": "code",
   "execution_count": null,
   "metadata": {},
   "outputs": [],
   "source": []
  }
 ],
 "metadata": {
  "celltoolbar": "Slideshow",
  "kernelspec": {
   "display_name": "Python 3",
   "language": "python",
   "name": "python3"
  },
  "language_info": {
   "codemirror_mode": {
    "name": "ipython",
    "version": 3
   },
   "file_extension": ".py",
   "mimetype": "text/x-python",
   "name": "python",
   "nbconvert_exporter": "python",
   "pygments_lexer": "ipython3",
   "version": "3.8.0"
  }
 },
 "nbformat": 4,
 "nbformat_minor": 4
}
