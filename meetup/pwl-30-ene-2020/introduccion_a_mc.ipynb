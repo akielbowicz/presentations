{
 "cells": [
  {
   "cell_type": "markdown",
   "metadata": {
    "slideshow": {
     "slide_type": "slide"
    }
   },
   "source": [
    "# Advertencia"
   ]
  },
  {
   "cell_type": "code",
   "execution_count": 1,
   "metadata": {
    "slideshow": {
     "slide_type": "skip"
    }
   },
   "outputs": [],
   "source": [
    "import utils"
   ]
  },
  {
   "cell_type": "markdown",
   "metadata": {
    "slideshow": {
     "slide_type": "slide"
    }
   },
   "source": [
    "# Parte I\n",
    "\n",
    "### El origen de la Mecánica Cuántica"
   ]
  },
  {
   "cell_type": "markdown",
   "metadata": {
    "slideshow": {
     "slide_type": "slide"
    }
   },
   "source": [
    "## Episodio I : Old quantum mechanics"
   ]
  },
  {
   "cell_type": "markdown",
   "metadata": {
    "slideshow": {
     "slide_type": "slide"
    }
   },
   "source": [
    "### Radiación del Cuerpo Negro y cuantización de la energía"
   ]
  },
  {
   "cell_type": "markdown",
   "metadata": {
    "slideshow": {
     "slide_type": "slide"
    }
   },
   "source": [
    "![](https://upload.wikimedia.org/wikipedia/commons/1/19/Black_body.svg)"
   ]
  },
  {
   "cell_type": "code",
   "execution_count": 2,
   "metadata": {
    "slideshow": {
     "slide_type": "slide"
    }
   },
   "outputs": [
    {
     "data": {
      "text/html": [
       "<img src=\"https://cdn.britannica.com/47/8747-004-A1104E40/Wien.jpg\" width=\"200\" height=\"200\"/>"
      ],
      "text/plain": [
       "<utils.Photo object>"
      ]
     },
     "execution_count": 2,
     "metadata": {},
     "output_type": "execute_result"
    }
   ],
   "source": [
    "utils.Photo('Wien')"
   ]
  },
  {
   "cell_type": "markdown",
   "metadata": {
    "slideshow": {
     "slide_type": "subslide"
    }
   },
   "source": [
    "$${\\displaystyle B_{\\nu }(T)\\approx {\\frac {2h\\nu ^{3}}{c^{2}}}e^{-{\\frac {h\\nu }{k_{\\mathrm {B} }T}}}}$$"
   ]
  },
  {
   "cell_type": "code",
   "execution_count": 3,
   "metadata": {
    "slideshow": {
     "slide_type": "slide"
    }
   },
   "outputs": [
    {
     "data": {
      "text/html": [
       "<img src=\"https://cdn.britannica.com/s:300x1000/73/20973-050-F6EEBFF1/Max-Planck.jpg\" width=\"200\" height=\"200\"/>"
      ],
      "text/plain": [
       "<utils.Photo object>"
      ]
     },
     "execution_count": 3,
     "metadata": {},
     "output_type": "execute_result"
    }
   ],
   "source": [
    "utils.Photo('Plank')"
   ]
  },
  {
   "cell_type": "markdown",
   "metadata": {
    "slideshow": {
     "slide_type": "subslide"
    }
   },
   "source": [
    "![](https://upload.wikimedia.org/wikipedia/commons/1/18/Mplwp_blackbody_nu_planck-wien-rj_5800K.svg)"
   ]
  },
  {
   "cell_type": "markdown",
   "metadata": {
    "slideshow": {
     "slide_type": "subslide"
    }
   },
   "source": [
    "$${\\displaystyle B_{\\nu }(\\nu ,T)={\\frac {2h\\nu ^{3}}{c^{2}}}{\\frac {1}{e^{\\frac {h\\nu }{k_{\\mathrm {B} }T}}-1}}}$$"
   ]
  },
  {
   "cell_type": "markdown",
   "metadata": {
    "slideshow": {
     "slide_type": "subslide"
    }
   },
   "source": [
    "$${\\displaystyle B_{\\nu }(T)={\\frac {2\\nu ^{2}k_{\\mathrm {B} }T}{c^{2}}}}$$"
   ]
  },
  {
   "cell_type": "markdown",
   "metadata": {
    "slideshow": {
     "slide_type": "slide"
    }
   },
   "source": [
    "![](https://media2.giphy.com/media/12CWaR2xae1LLa/giphy.gif)"
   ]
  },
  {
   "cell_type": "markdown",
   "metadata": {
    "slideshow": {
     "slide_type": "fragment"
    }
   },
   "source": [
    "### Efecto Fotoeléctrico"
   ]
  },
  {
   "cell_type": "code",
   "execution_count": 4,
   "metadata": {
    "slideshow": {
     "slide_type": "fragment"
    }
   },
   "outputs": [
    {
     "data": {
      "text/html": [
       "<img src=\"https://cdn.britannica.com/09/75509-050-86D8CBBF/Albert-Einstein.jpg\" width=\"200\" height=\"200\"/>"
      ],
      "text/plain": [
       "<utils.Photo object>"
      ]
     },
     "execution_count": 4,
     "metadata": {},
     "output_type": "execute_result"
    }
   ],
   "source": [
    "utils.Photo('Einstein')"
   ]
  },
  {
   "cell_type": "markdown",
   "metadata": {
    "slideshow": {
     "slide_type": "subslide"
    }
   },
   "source": [
    "![](https://i.ytimg.com/vi/n28mmVeKNhs/maxresdefault.jpg)"
   ]
  },
  {
   "cell_type": "markdown",
   "metadata": {
    "slideshow": {
     "slide_type": "slide"
    }
   },
   "source": [
    "![](http://3.bp.blogspot.com/-JRndd4JJMS0/VvJH737DUBI/AAAAAAAAB74/l-HFmZMubRwsSiV90Hwzzf1PlLjgQMDBQ/s1600/spec_proper_orientation.gif)"
   ]
  },
  {
   "cell_type": "code",
   "execution_count": 5,
   "metadata": {
    "slideshow": {
     "slide_type": "slide"
    }
   },
   "outputs": [
    {
     "data": {
      "text/html": [
       "<img src=\"https://cdn.britannica.com/43/102243-050-15D49DEF/Ernest-Rutherford.jpg\" width=\"200\" height=\"200\"/>"
      ],
      "text/plain": [
       "<utils.Photo object>"
      ]
     },
     "execution_count": 5,
     "metadata": {},
     "output_type": "execute_result"
    }
   ],
   "source": [
    "utils.Photo('Rutherford')"
   ]
  },
  {
   "cell_type": "markdown",
   "metadata": {
    "slideshow": {
     "slide_type": "fragment"
    }
   },
   "source": [
    "![](https://external-content.duckduckgo.com/iu/?u=https%3A%2F%2Fqph.fs.quoracdn.net%2Fmain-qimg-f28c70f2b44bef49c688d851ade47f04-c&f=1&nofb=1)"
   ]
  },
  {
   "cell_type": "markdown",
   "metadata": {
    "slideshow": {
     "slide_type": "slide"
    }
   },
   "source": [
    "### Espectro Atómico (Bohr, DeBroglie, Sommerfeld, Kramer)"
   ]
  },
  {
   "cell_type": "code",
   "execution_count": 6,
   "metadata": {
    "slideshow": {
     "slide_type": "subslide"
    }
   },
   "outputs": [
    {
     "data": {
      "text/html": [
       "<img src=\"https://cdn.britannica.com/s:300x1000/14/21114-004-FA0334F4/Niels-Bohr.jpg\" width=\"200\" height=\"200\"/>"
      ],
      "text/plain": [
       "<utils.Photo object>"
      ]
     },
     "execution_count": 6,
     "metadata": {},
     "output_type": "execute_result"
    }
   ],
   "source": [
    "utils.Photo('Bohr')"
   ]
  },
  {
   "cell_type": "code",
   "execution_count": 7,
   "metadata": {
    "slideshow": {
     "slide_type": "subslide"
    }
   },
   "outputs": [
    {
     "data": {
      "text/html": [
       "<img src=\"https://cdn.britannica.com/s:1500x700,q:85/09/21109-004-2172F5F5/Louis-Victor-Broglie-1958.jpg\" width=\"200\" height=\"200\"/>"
      ],
      "text/plain": [
       "<utils.Photo object>"
      ]
     },
     "execution_count": 7,
     "metadata": {},
     "output_type": "execute_result"
    }
   ],
   "source": [
    "utils.Photo('de Broglie')"
   ]
  },
  {
   "cell_type": "markdown",
   "metadata": {
    "slideshow": {
     "slide_type": "fragment"
    }
   },
   "source": [
    "$$ E=n\\hbar \\omega \\, $$\n",
    "$$ \\int p\\,dx=\\hbar \\int k\\,dx=2\\pi \\hbar n $$"
   ]
  },
  {
   "cell_type": "code",
   "execution_count": 8,
   "metadata": {
    "slideshow": {
     "slide_type": "subslide"
    }
   },
   "outputs": [
    {
     "data": {
      "text/html": [
       "<img src=\"https://upload.wikimedia.org/wikipedia/commons/7/74/Sommerfeld1897.gif\" width=\"200\" height=\"200\"/>"
      ],
      "text/plain": [
       "<utils.Photo object>"
      ]
     },
     "execution_count": 8,
     "metadata": {},
     "output_type": "execute_result"
    }
   ],
   "source": [
    "utils.Photo('Sommerfeld')"
   ]
  },
  {
   "cell_type": "markdown",
   "metadata": {
    "slideshow": {
     "slide_type": "fragment"
    }
   },
   "source": [
    "$$ \\oint \\limits _{H(p,q)=E}p_{i}\\,dq_{i}=n_{i}h $$"
   ]
  },
  {
   "cell_type": "code",
   "execution_count": 9,
   "metadata": {
    "slideshow": {
     "slide_type": "subslide"
    }
   },
   "outputs": [
    {
     "data": {
      "text/html": [
       "<img src=\"https://upload.wikimedia.org/wikipedia/commons/b/b4/Kramers_1928.jpg\" width=\"200\" height=\"200\"/>"
      ],
      "text/plain": [
       "<utils.Photo object>"
      ]
     },
     "execution_count": 9,
     "metadata": {},
     "output_type": "execute_result"
    }
   ],
   "source": [
    "utils.Photo('Kramers')"
   ]
  },
  {
   "cell_type": "markdown",
   "metadata": {
    "slideshow": {
     "slide_type": "fragment"
    }
   },
   "source": [
    "$$ X_{n}(t)=\\sum _{k=-\\infty }^{\\infty }e^{ik\\omega t}X_{n;k} $$"
   ]
  },
  {
   "cell_type": "markdown",
   "metadata": {
    "slideshow": {
     "slide_type": "slide"
    }
   },
   "source": [
    "### Momento angular de los electrones / Spin (Stern-Gerlach)"
   ]
  },
  {
   "cell_type": "code",
   "execution_count": 10,
   "metadata": {
    "slideshow": {
     "slide_type": "subslide"
    }
   },
   "outputs": [
    {
     "data": {
      "text/html": [
       "<img src=\"https://cdn.britannica.com/06/134706-050-755B4B38/Otto-Stern-presentation-Nobel-Prizes-New-York-1943.jpg\" width=\"200\" height=\"200\"/>"
      ],
      "text/plain": [
       "<utils.Photo object>"
      ]
     },
     "execution_count": 10,
     "metadata": {},
     "output_type": "execute_result"
    }
   ],
   "source": [
    "utils.Photo('Stern')"
   ]
  },
  {
   "cell_type": "code",
   "execution_count": 12,
   "metadata": {
    "slideshow": {
     "slide_type": "subslide"
    }
   },
   "outputs": [
    {
     "data": {
      "text/html": [
       "<img src=\"https://upload.wikimedia.org/wikipedia/en/9/9e/Walther_Gerlach.jpg\" width=\"200\" height=\"200\"/>"
      ],
      "text/plain": [
       "<utils.Photo object>"
      ]
     },
     "execution_count": 12,
     "metadata": {},
     "output_type": "execute_result"
    }
   ],
   "source": [
    "utils.Photo('Gerlach')"
   ]
  },
  {
   "cell_type": "markdown",
   "metadata": {
    "slideshow": {
     "slide_type": "subslide"
    }
   },
   "source": [
    "![](http://hyperphysics.phy-astr.gsu.edu/hbase/quantum/imgqua/steger.png)"
   ]
  },
  {
   "cell_type": "markdown",
   "metadata": {
    "slideshow": {
     "slide_type": "subslide"
    }
   },
   "source": [
    "![](https://plato.stanford.edu/entries/physics-experiment/figure13.jpg)"
   ]
  },
  {
   "cell_type": "markdown",
   "metadata": {
    "slideshow": {
     "slide_type": "fragment"
    }
   },
   "source": [
    "#### Simulación y comparación del modelo clásico y cuántico del momento mágnetico de un átomo\n",
    "https://nbviewer.jupyter.org/github/qutip/qutip-notebooks/blob/master/examples/stern-gerlach-tutorial.ipynb"
   ]
  },
  {
   "cell_type": "markdown",
   "metadata": {
    "slideshow": {
     "slide_type": "slide"
    }
   },
   "source": [
    "## Episodio II\n",
    "\n",
    "### Modelos matemáticos de la MC"
   ]
  },
  {
   "cell_type": "code",
   "execution_count": 13,
   "metadata": {
    "slideshow": {
     "slide_type": "slide"
    }
   },
   "outputs": [
    {
     "data": {
      "text/html": [
       "<img src=\"https://cdn.britannica.com/67/43167-004-A4FAD96F/Werner-Heisenberg.jpg\" width=\"200\" height=\"200\"/>"
      ],
      "text/plain": [
       "<utils.Photo object>"
      ]
     },
     "execution_count": 13,
     "metadata": {},
     "output_type": "execute_result"
    }
   ],
   "source": [
    "utils.Photo('Heisenberg')"
   ]
  },
  {
   "cell_type": "markdown",
   "metadata": {
    "slideshow": {
     "slide_type": "subslide"
    }
   },
   "source": [
    "### Mecánica matricial de Heisenberg \n",
    "    \n",
    "$$X_{{nm}}(t)=e^{{2\\pi i(E_{n}-E_{m})t/h}}X_{{nm}}(0)$$"
   ]
  },
  {
   "cell_type": "markdown",
   "metadata": {
    "slideshow": {
     "slide_type": "fragment"
    }
   },
   "source": [
    "$$ {\\sqrt  {2}}X(0)={\\sqrt  {{\\frac  {h}{2\\pi }}}}\\;{\\begin{bmatrix}0&{\\sqrt  {1}}&0&0&0&\\cdots \\\\{\\sqrt  {1}}&0&{\\sqrt  {2}}&0&0&\\cdots \\\\0&{\\sqrt  {2}}&0&{\\sqrt  {3}}&0&\\cdots \\\\0&0&{\\sqrt  {3}}&0&{\\sqrt  {4}}&\\cdots \\\\\\vdots &\\vdots &\\vdots &\\vdots &\\vdots &\\ddots \\\\\\end{bmatrix}} $$"
   ]
  },
  {
   "cell_type": "code",
   "execution_count": 14,
   "metadata": {
    "slideshow": {
     "slide_type": "subslide"
    }
   },
   "outputs": [
    {
     "data": {
      "text/html": [
       "<img src=\"https://cdn.britannica.com/24/13124-004-E329BF69/Max-Born.jpg\" width=\"200\" height=\"200\"/>"
      ],
      "text/plain": [
       "<utils.Photo object>"
      ]
     },
     "execution_count": 14,
     "metadata": {},
     "output_type": "execute_result"
    }
   ],
   "source": [
    "utils.Photo('Born')"
   ]
  },
  {
   "cell_type": "code",
   "execution_count": 15,
   "metadata": {
    "slideshow": {
     "slide_type": "subslide"
    }
   },
   "outputs": [
    {
     "data": {
      "text/html": [
       "<img src=\"https://upload.wikimedia.org/wikipedia/commons/a/a6/Pascual_Jordan_1920s.jpg\" width=\"200\" height=\"200\"/>"
      ],
      "text/plain": [
       "<utils.Photo object>"
      ]
     },
     "execution_count": 15,
     "metadata": {},
     "output_type": "execute_result"
    }
   ],
   "source": [
    "utils.Photo('Jordan')"
   ]
  },
  {
   "cell_type": "markdown",
   "metadata": {
    "slideshow": {
     "slide_type": "slide"
    }
   },
   "source": [
    "$$ (XP)_{{mn}}=\\sum _{{k=0}}^{\\infty }X_{{mk}}P_{{kn}} $$"
   ]
  },
  {
   "cell_type": "markdown",
   "metadata": {
    "slideshow": {
     "slide_type": "subslide"
    }
   },
   "source": [
    "$$ \\sum _{k}(X_{{nk}}P_{{km}}-P_{{nk}}X_{{km}})={ih \\over 2\\pi }~\\delta _{{nm}} $$"
   ]
  },
  {
   "cell_type": "markdown",
   "metadata": {
    "slideshow": {
     "slide_type": "slide"
    }
   },
   "source": [
    "$$ \\frac{dA}{dt} = {i \\over \\hbar } [ H  , A ]  + \\frac{\\partial A}{\\partial t} $$"
   ]
  },
  {
   "cell_type": "code",
   "execution_count": 14,
   "metadata": {
    "slideshow": {
     "slide_type": "subslide"
    }
   },
   "outputs": [
    {
     "data": {
      "text/html": [
       "<img src=\"https://cdn.britannica.com/24/13124-004-E329BF69/Max-Born.jpg\" width=\"200\" height=\"200\"/>"
      ],
      "text/plain": [
       "<utils.Photo object>"
      ]
     },
     "execution_count": 14,
     "metadata": {},
     "output_type": "execute_result"
    }
   ],
   "source": [
    "utils.Photo('Born')"
   ]
  },
  {
   "cell_type": "markdown",
   "metadata": {
    "slideshow": {
     "slide_type": "subslide"
    }
   },
   "source": [
    "### Mecánica ondulatoria de Schrodinger"
   ]
  },
  {
   "cell_type": "markdown",
   "metadata": {
    "slideshow": {
     "slide_type": "fragment"
    }
   },
   "source": [
    "$$i{\\partial \\over \\partial t}\\psi _{t}(x)=\\left[-{1 \\over 2m}{\\partial ^{2} \\over \\partial x^{2}}+V(x)\\right]\\psi _{t}(x)$$"
   ]
  },
  {
   "cell_type": "code",
   "execution_count": null,
   "metadata": {
    "slideshow": {
     "slide_type": "fragment"
    }
   },
   "outputs": [],
   "source": []
  },
  {
   "cell_type": "markdown",
   "metadata": {
    "slideshow": {
     "slide_type": "slide"
    }
   },
   "source": [
    "### Formalización y notación de Bra-Ket"
   ]
  },
  {
   "cell_type": "code",
   "execution_count": 16,
   "metadata": {
    "slideshow": {
     "slide_type": "subslide"
    }
   },
   "outputs": [
    {
     "data": {
      "text/html": [
       "<img src=\"https://cdn.britannica.com/66/91766-004-CE5A2E61/PAM-Dirac.jpg\" width=\"200\" height=\"200\"/>"
      ],
      "text/plain": [
       "<utils.Photo object>"
      ]
     },
     "execution_count": 16,
     "metadata": {},
     "output_type": "execute_result"
    }
   ],
   "source": [
    "utils.Photo('Dirac')"
   ]
  },
  {
   "cell_type": "code",
   "execution_count": 14,
   "metadata": {
    "slideshow": {
     "slide_type": "subslide"
    }
   },
   "outputs": [
    {
     "data": {
      "text/html": [
       "<img src=\"https://cdn.britannica.com/24/13124-004-E329BF69/Max-Born.jpg\" width=\"200\" height=\"200\"/>"
      ],
      "text/plain": [
       "<utils.Photo object>"
      ]
     },
     "execution_count": 14,
     "metadata": {},
     "output_type": "execute_result"
    }
   ],
   "source": [
    "utils.Photo('von Neumann')"
   ]
  },
  {
   "cell_type": "markdown",
   "metadata": {
    "slideshow": {
     "slide_type": "slide"
    }
   },
   "source": [
    "$$ |\\psi\\rangle $$\n",
    "\n",
    "$${\\displaystyle \\Psi (\\mathbf {r} )\\ {\\stackrel {\\text{def}}{=}}\\ \\langle \\mathbf {r} |\\Psi \\rangle }$$"
   ]
  },
  {
   "cell_type": "markdown",
   "metadata": {
    "slideshow": {
     "slide_type": "slide"
    }
   },
   "source": [
    "![](https://upload.wikimedia.org/wikipedia/commons/6/6e/Solvay_conference_1927.jpg)"
   ]
  },
  {
   "cell_type": "markdown",
   "metadata": {
    "slideshow": {
     "slide_type": "slide"
    }
   },
   "source": [
    "# Parte II"
   ]
  },
  {
   "cell_type": "markdown",
   "metadata": {
    "slideshow": {
     "slide_type": "fragment"
    }
   },
   "source": [
    "## Introducción a la matemática de la MC"
   ]
  },
  {
   "cell_type": "markdown",
   "metadata": {
    "slideshow": {
     "slide_type": "slide"
    }
   },
   "source": [
    "    A Hilbert space H is a real or complex inner product space that is also a complete metric space with respect to the distance function induced by the inner product"
   ]
  },
  {
   "cell_type": "markdown",
   "metadata": {
    "slideshow": {
     "slide_type": "slide"
    }
   },
   "source": [
    "![fleabag_what](https://image.tmdb.org/t/p/original/95bYYYGZbSxBR0FFjiEKJXF7GDB.jpg)"
   ]
  },
  {
   "cell_type": "markdown",
   "metadata": {
    "slideshow": {
     "slide_type": "slide"
    }
   },
   "source": [
    "### A little Aaronson time"
   ]
  },
  {
   "cell_type": "markdown",
   "metadata": {
    "slideshow": {
     "slide_type": "subslide"
    }
   },
   "source": [
    "# QM = Prob + \"-\""
   ]
  },
  {
   "cell_type": "markdown",
   "metadata": {
    "slideshow": {
     "slide_type": "fragment"
    }
   },
   "source": [
    "# Probabilidad\n",
    "\n",
    "Sea un conjunto de eventos posibles $\\Omega$\n",
    "\n",
    "$$f(x)\\in [0,1]{\\mbox{ para todo }}x\\in \\Omega$$\n",
    "$$\\sum _{x\\in \\Omega }f(x)=1 $$"
   ]
  },
  {
   "cell_type": "code",
   "execution_count": 40,
   "metadata": {
    "slideshow": {
     "slide_type": "slide"
    }
   },
   "outputs": [],
   "source": [
    "from sympy import Matrix, init_printing\n",
    "init_printing(use_latex=True)"
   ]
  },
  {
   "cell_type": "code",
   "execution_count": 42,
   "metadata": {
    "slideshow": {
     "slide_type": "fragment"
    }
   },
   "outputs": [
    {
     "data": {
      "text/latex": [
       "$\\displaystyle \\left( \\left[\\begin{matrix}0.5\\\\0.5\\end{matrix}\\right], \\  \\left[\\begin{matrix}0.333333333333333\\\\0.666666666666667\\end{matrix}\\right], \\  \\left[\\begin{matrix}0.99\\\\0.01\\end{matrix}\\right]\\right)$"
      ],
      "text/plain": [
       "⎛⎡0.5⎤  ⎡0.333333333333333⎤  ⎡0.99⎤⎞\n",
       "⎜⎢   ⎥, ⎢                 ⎥, ⎢    ⎥⎟\n",
       "⎝⎣0.5⎦  ⎣0.666666666666667⎦  ⎣0.01⎦⎠"
      ]
     },
     "execution_count": 42,
     "metadata": {},
     "output_type": "execute_result"
    }
   ],
   "source": [
    "Ma, Mb, Mc = Matrix([[1/2,1/2],[1/2,1/2]]), Matrix([[1/3,1/5],[2/3,4/5]]), Matrix([[99/100,0],[1/100,1]])\n",
    "s = Matrix([[1],[0]])\n",
    "Ma*s, Mb*s, Mc*s"
   ]
  },
  {
   "cell_type": "code",
   "execution_count": 38,
   "metadata": {
    "slideshow": {
     "slide_type": "fragment"
    }
   },
   "outputs": [
    {
     "data": {
      "text/latex": [
       "$\\displaystyle \\left[\\begin{matrix}0.230769230769232\\\\0.769230769230774\\end{matrix}\\right]$"
      ],
      "text/plain": [
       "⎡0.230769230769232⎤\n",
       "⎢                 ⎥\n",
       "⎣0.769230769230774⎦"
      ]
     },
     "execution_count": 38,
     "metadata": {},
     "output_type": "execute_result"
    }
   ],
   "source": [
    "Mb**200 * s"
   ]
  },
  {
   "cell_type": "markdown",
   "metadata": {
    "slideshow": {
     "slide_type": "slide"
    }
   },
   "source": [
    "# ¿Qué obtendríamos si en vez de la Norma 1 imponemos la condición de normalización con la Norma 2?"
   ]
  },
  {
   "cell_type": "markdown",
   "metadata": {
    "slideshow": {
     "slide_type": "fragment"
    }
   },
   "source": [
    "$$f(x)\\in \\mathbb {C} {\\mbox{ para todo }}x\\in \\Omega$$\n",
    "$$\\sum _{x\\in \\Omega }\\overline {f(x)}* f(x) =1 $$"
   ]
  },
  {
   "cell_type": "code",
   "execution_count": 2,
   "metadata": {
    "slideshow": {
     "slide_type": "slide"
    }
   },
   "outputs": [],
   "source": [
    "from sympy import sqrt, symbols, Symbol, init_printing\n",
    "from sympy.physics.quantum import Bra, Ket, Dagger, Operator"
   ]
  },
  {
   "cell_type": "markdown",
   "metadata": {
    "slideshow": {
     "slide_type": "slide"
    }
   },
   "source": [
    "## Postulados de la MC"
   ]
  },
  {
   "cell_type": "markdown",
   "metadata": {
    "slideshow": {
     "slide_type": "slide"
    }
   },
   "source": [
    "## Postulado 1\n",
    "\n",
    "El estado de todo sistema físico está representado por un vector (de norma unidad) en un espacio de Hilbert $\\mathcal{H}$ "
   ]
  },
  {
   "cell_type": "code",
   "execution_count": 3,
   "metadata": {
    "slideshow": {
     "slide_type": "subslide"
    }
   },
   "outputs": [
    {
     "data": {
      "text/latex": [
       "$\\displaystyle \\alpha {\\left|\\psi\\right\\rangle } + \\beta {\\left|\\phi\\right\\rangle }$"
      ],
      "text/plain": [
       "alpha*|psi> + beta*|phi>"
      ]
     },
     "execution_count": 3,
     "metadata": {},
     "output_type": "execute_result"
    }
   ],
   "source": [
    "a, b = symbols('alpha beta',complex=True)\n",
    "psi, phi = Ket('psi'),Ket('phi')\n",
    "\n",
    "estado = a * psi + b * phi\n",
    "estado"
   ]
  },
  {
   "cell_type": "code",
   "execution_count": 4,
   "metadata": {
    "slideshow": {
     "slide_type": "fragment"
    }
   },
   "outputs": [
    {
     "data": {
      "text/latex": [
       "$\\displaystyle \\overline{\\alpha} {\\left\\langle \\psi\\right|} + \\overline{\\beta} {\\left\\langle \\phi\\right|}$"
      ],
      "text/plain": [
       "conjugate(alpha)*<psi| + conjugate(beta)*<phi|"
      ]
     },
     "execution_count": 4,
     "metadata": {},
     "output_type": "execute_result"
    }
   ],
   "source": [
    "Dagger(estado)"
   ]
  },
  {
   "cell_type": "code",
   "execution_count": 6,
   "metadata": {
    "slideshow": {
     "slide_type": "fragment"
    }
   },
   "outputs": [
    {
     "data": {
      "text/latex": [
       "$\\displaystyle \\left(\\overline{\\alpha} {\\left\\langle \\psi\\right|} + \\overline{\\beta} {\\left\\langle \\phi\\right|}\\right) \\left(\\alpha {\\left|\\psi\\right\\rangle } + \\beta {\\left|\\phi\\right\\rangle }\\right)$"
      ],
      "text/plain": [
       "(conjugate(alpha)*<psi| + conjugate(beta)*<phi|)*(alpha*|psi> + beta*|phi>)"
      ]
     },
     "execution_count": 6,
     "metadata": {},
     "output_type": "execute_result"
    }
   ],
   "source": [
    "( Dagger(estado) * estado ).doit()"
   ]
  },
  {
   "cell_type": "markdown",
   "metadata": {
    "slideshow": {
     "slide_type": "slide"
    }
   },
   "source": [
    "## Postulado 2\n",
    "\n",
    "Todas las propiedades observables de un sistema físico se prepresentan por un operador lineal hermítico que actúa sobre $\\mathcal{H}$"
   ]
  },
  {
   "cell_type": "code",
   "execution_count": null,
   "metadata": {},
   "outputs": [],
   "source": []
  },
  {
   "cell_type": "markdown",
   "metadata": {
    "slideshow": {
     "slide_type": "slide"
    }
   },
   "source": [
    "## Postulado 3\n",
    "\n",
    "Los resultados posibles de la medición de cualquier observable $A$ son sus autovalores $a_n$"
   ]
  },
  {
   "cell_type": "code",
   "execution_count": null,
   "metadata": {
    "slideshow": {
     "slide_type": "fragment"
    }
   },
   "outputs": [],
   "source": []
  },
  {
   "cell_type": "markdown",
   "metadata": {
    "slideshow": {
     "slide_type": "slide"
    }
   },
   "source": [
    "## Postulado 4 ( Regla de Born )\n",
    "\n",
    "\n",
    "\n",
    "Si el estado de un sistema es $\\left|\\Psi\\right\\rangle$, la probabilidad de obtener el resultado $a_n$ en la medición del observable $A$ es siempre\n",
    "\n",
    "$$ Prob\\left(a_n | \\left|\\Psi\\right\\rangle \\right) = \\left\\langle \\Psi\\right| P_n \\left|\\Psi\\right\\rangle $$\n",
    "\n",
    "donde $P_n$ es el proyector asociado al autovalor $a_n$. Si $A$ es no degenerado entonce $P_n = {\\left|\\phi_{n}\\right\\rangle }{\\left\\langle \\phi_{n}\\right|}$ y la probabilidad resulta ser $$Prob\\left( a_n | \\left|\\Psi\\right\\rangle \\right) = \\left|  \\left\\langle \\phi_{n} |\\Psi\\right\\rangle \\right|^2$$"
   ]
  },
  {
   "cell_type": "code",
   "execution_count": null,
   "metadata": {
    "slideshow": {
     "slide_type": "fragment"
    }
   },
   "outputs": [],
   "source": []
  },
  {
   "cell_type": "markdown",
   "metadata": {
    "slideshow": {
     "slide_type": "slide"
    }
   },
   "source": [
    "## Postulado 5 ( Postulado de proyección o colapso )\n",
    "\n",
    "Si el estado de un sistema es ${\\left|\\Psi\\right\\rangle }$ y medimos el observable $A$ y detectamos el autovalor $a_n$, entonces el estado del sistema después \n",
    "de la medición es la proyección de ${\\left|\\Psi\\right\\rangle }$ sobre el subespacio asociado al autovalor $a_n$\n"
   ]
  },
  {
   "cell_type": "code",
   "execution_count": null,
   "metadata": {
    "slideshow": {
     "slide_type": "slide"
    }
   },
   "outputs": [],
   "source": []
  },
  {
   "cell_type": "code",
   "execution_count": null,
   "metadata": {
    "slideshow": {
     "slide_type": "subslide"
    }
   },
   "outputs": [],
   "source": []
  },
  {
   "cell_type": "code",
   "execution_count": null,
   "metadata": {
    "slideshow": {
     "slide_type": "subslide"
    }
   },
   "outputs": [],
   "source": []
  },
  {
   "cell_type": "code",
   "execution_count": null,
   "metadata": {
    "slideshow": {
     "slide_type": "subslide"
    }
   },
   "outputs": [],
   "source": []
  },
  {
   "cell_type": "markdown",
   "metadata": {
    "slideshow": {
     "slide_type": "slide"
    }
   },
   "source": [
    "# Parte III\n",
    "\n",
    "## Sistemas compuestos"
   ]
  },
  {
   "cell_type": "code",
   "execution_count": 16,
   "metadata": {
    "slideshow": {
     "slide_type": "subslide"
    }
   },
   "outputs": [],
   "source": [
    "from sympy.physics.quantum import TensorProduct"
   ]
  },
  {
   "cell_type": "code",
   "execution_count": 19,
   "metadata": {
    "slideshow": {
     "slide_type": "subslide"
    }
   },
   "outputs": [],
   "source": [
    "j,k,l = Ket('j'), Ket('k'), Ket('l')\n",
    "A, B = Operator('A'), Operator('B')"
   ]
  },
  {
   "cell_type": "code",
   "execution_count": 23,
   "metadata": {
    "slideshow": {
     "slide_type": "subslide"
    }
   },
   "outputs": [
    {
     "data": {
      "text/latex": [
       "$\\displaystyle {{\\left|j\\right\\rangle }}\\otimes {{\\left|k\\right\\rangle }}$"
      ],
      "text/plain": [
       "❘j⟩⨂ ❘k⟩"
      ]
     },
     "execution_count": 23,
     "metadata": {},
     "output_type": "execute_result"
    }
   ],
   "source": [
    "jk = TensorProduct(j,k)\n",
    "jk"
   ]
  },
  {
   "cell_type": "markdown",
   "metadata": {
    "slideshow": {
     "slide_type": "slide"
    }
   },
   "source": [
    "## Partículas idénticas "
   ]
  },
  {
   "cell_type": "markdown",
   "metadata": {
    "slideshow": {
     "slide_type": "slide"
    }
   },
   "source": [
    "## Paradoja de EPR\n",
    "\n",
    "$$|\\Phi ^{+}\\rangle ={\\frac  {1}{{\\sqrt  {2}}}}(|0\\rangle _{A}\\otimes |0\\rangle _{B}+|1\\rangle _{A}\\otimes |1\\rangle _{B})$$"
   ]
  },
  {
   "cell_type": "code",
   "execution_count": 15,
   "metadata": {
    "slideshow": {
     "slide_type": "slide"
    }
   },
   "outputs": [],
   "source": [
    "from sympy.physics.quantum.qubit import Qubit"
   ]
  },
  {
   "cell_type": "code",
   "execution_count": 25,
   "metadata": {
    "slideshow": {
     "slide_type": "slide"
    }
   },
   "outputs": [
    {
     "data": {
      "text/latex": [
       "$\\displaystyle \\frac{\\sqrt{2} \\left({\\left|00\\right\\rangle } + {\\left|11\\right\\rangle }\\right)}{2}$"
      ],
      "text/plain": [
       "√2⋅(❘00⟩ + ❘11⟩)\n",
       "────────────────\n",
       "       2        "
      ]
     },
     "execution_count": 25,
     "metadata": {},
     "output_type": "execute_result"
    }
   ],
   "source": [
    "( Qubit('00') + Qubit('11') )/sqrt(2)"
   ]
  },
  {
   "cell_type": "markdown",
   "metadata": {
    "slideshow": {
     "slide_type": "slide"
    }
   },
   "source": [
    "## Desigualdad de Bell"
   ]
  },
  {
   "cell_type": "markdown",
   "metadata": {
    "slideshow": {
     "slide_type": "subslide"
    }
   },
   "source": [
    "Ejemplo de [Teleportación](https://hub.gke.mybinder.org/user/sympy-quantum_notebooks-alf8r713/notebooks/notebooks/teleportation.ipynb)"
   ]
  }
 ],
 "metadata": {
  "celltoolbar": "Slideshow",
  "kernelspec": {
   "display_name": "Python 3",
   "language": "python",
   "name": "python3"
  },
  "language_info": {
   "codemirror_mode": {
    "name": "ipython",
    "version": 3
   },
   "file_extension": ".py",
   "mimetype": "text/x-python",
   "name": "python",
   "nbconvert_exporter": "python",
   "pygments_lexer": "ipython3",
   "version": "3.8.0"
  }
 },
 "nbformat": 4,
 "nbformat_minor": 4
}
