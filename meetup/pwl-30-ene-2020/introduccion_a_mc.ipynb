{
 "cells": [
  {
   "cell_type": "markdown",
   "metadata": {},
   "source": [
    "# Advertencia\n",
    "\n",
    "Liberacion de responsabilidades"
   ]
  },
  {
   "cell_type": "markdown",
   "metadata": {},
   "source": [
    "# Parte I\n",
    "\n",
    "### El origen de la Mecánica Cuántica"
   ]
  },
  {
   "cell_type": "markdown",
   "metadata": {},
   "source": [
    "## Episodio I : Old quantum mechanics"
   ]
  },
  {
   "cell_type": "markdown",
   "metadata": {},
   "source": [
    "### Radiación del Cuerpo Negro y cuantización de la energía"
   ]
  },
  {
   "cell_type": "markdown",
   "metadata": {},
   "source": [
    "![](https://upload.wikimedia.org/wikipedia/commons/a/a2/Wiens_law.svg)\n",
    "\n",
    "![](https://upload.wikimedia.org/wikipedia/commons/1/18/Mplwp_blackbody_nu_planck-wien-rj_5800K.svg)\n",
    "\n",
    "![](https://upload.wikimedia.org/wikipedia/commons/1/19/Black_body.svg)"
   ]
  },
  {
   "cell_type": "markdown",
   "metadata": {},
   "source": [
    "### Efecto Fotoeléctrico"
   ]
  },
  {
   "cell_type": "markdown",
   "metadata": {},
   "source": [
    "### Espectro Atómico (Bohr, DeBroglie, Sommerfeld, Kramer)"
   ]
  },
  {
   "cell_type": "markdown",
   "metadata": {},
   "source": [
    "### Momento angular de los electrones / Spin (Stern-Gerlach)"
   ]
  },
  {
   "cell_type": "markdown",
   "metadata": {},
   "source": [
    "## Episodio II: Modelos matemáticos de la MC"
   ]
  },
  {
   "cell_type": "markdown",
   "metadata": {},
   "source": [
    "### Mecánica matricial de Heisenberg\n",
    "    \n",
    "$${ dA\\over dt} = i( H A - A H ) $$ . \n",
    "\n",
    "![](https://wikimedia.org/api/rest_v1/media/math/render/svg/430a9afbdc6ad2375afcf3ce8f0fd2fafebd7530)\n",
    "\n",
    "![](https://wikimedia.org/api/rest_v1/media/math/render/svg/ba09ac56c80f50b23d89d7fe64fde2e65614afd8)\n",
    "\n",
    "![](https://wikimedia.org/api/rest_v1/media/math/render/svg/c9bf439b3a5357720fb58674a2c6a9dd6be79328)\n",
    "\n",
    "![](https://wikimedia.org/api/rest_v1/media/math/render/svg/343292136796758e06b5fa789ee083e3cd9fc3c5)"
   ]
  },
  {
   "cell_type": "markdown",
   "metadata": {},
   "source": [
    "### Mecánica ondulatoria de Schrodinger\n",
    "\n",
    "$$i{\\partial \\over \\partial t}\\psi _{t}(x)=\\left[-{1 \\over 2m}{\\partial ^{2} \\over \\partial x^{2}}+V(x)\\right]\\psi _{t}(x)\\,.$$"
   ]
  },
  {
   "cell_type": "markdown",
   "metadata": {},
   "source": [
    "### Formalización y notación de Dirac"
   ]
  },
  {
   "cell_type": "code",
   "execution_count": 3,
   "metadata": {},
   "outputs": [],
   "source": [
    "from sympy import sqrt, symbols, Symbol, init_printing\n",
    "from sympy.physics.quantum import Bra, Ket, Dagger, Operator\n",
    "init_printing(use_latex=True)"
   ]
  },
  {
   "cell_type": "code",
   "execution_count": 4,
   "metadata": {},
   "outputs": [
    {
     "data": {
      "text/latex": [
       "$\\displaystyle \\alpha$"
      ],
      "text/plain": [
       "α"
      ]
     },
     "execution_count": 4,
     "metadata": {},
     "output_type": "execute_result"
    }
   ],
   "source": [
    "alpha = Symbol('alpha')\n",
    "alpha"
   ]
  },
  {
   "cell_type": "code",
   "execution_count": 6,
   "metadata": {},
   "outputs": [
    {
     "data": {
      "text/latex": [
       "$\\displaystyle {\\left|\\phi\\right\\rangle }$"
      ],
      "text/plain": [
       "❘φ⟩"
      ]
     },
     "execution_count": 6,
     "metadata": {},
     "output_type": "execute_result"
    }
   ],
   "source": [
    "phi = Ket('phi')\n",
    "phi"
   ]
  },
  {
   "cell_type": "markdown",
   "metadata": {},
   "source": [
    "# Introducción a la matemática de la MC / Postulados de la MC"
   ]
  },
  {
   "cell_type": "markdown",
   "metadata": {},
   "source": []
  },
  {
   "cell_type": "code",
   "execution_count": null,
   "metadata": {},
   "outputs": [],
   "source": []
  },
  {
   "cell_type": "code",
   "execution_count": null,
   "metadata": {},
   "outputs": [],
   "source": []
  },
  {
   "cell_type": "code",
   "execution_count": null,
   "metadata": {},
   "outputs": [],
   "source": []
  },
  {
   "cell_type": "code",
   "execution_count": null,
   "metadata": {},
   "outputs": [],
   "source": []
  },
  {
   "cell_type": "markdown",
   "metadata": {},
   "source": [
    "## Postulado 1\n",
    "\n",
    "El estado de todo sistema físico está representado por un vector (de norma unidad) en un espacio de Hilbert $\\mathcal{H}$ "
   ]
  },
  {
   "cell_type": "markdown",
   "metadata": {},
   "source": [
    "## Postulado 2\n",
    "\n",
    "Todas las propiedades observables de un sistema físico se prepresentan por un operador lineal hermítico que actúa sobre $\\mathcal{H}$"
   ]
  },
  {
   "cell_type": "markdown",
   "metadata": {},
   "source": [
    "## Postulado 3\n",
    "\n",
    "Los resultados posibles de la medición de cualquier observable $A$ son sus autovalores $a_n$"
   ]
  },
  {
   "cell_type": "markdown",
   "metadata": {},
   "source": [
    "## Postulado 4 ( Regla de Born )\n",
    "\n",
    "\n",
    "\n",
    "Si el estado de un sistema es $\\left|\\Psi\\right\\rangle$, la probabilidad de obtener el resultado $a_n$ en la medición del observable $A$ es siempre\n",
    "\n",
    "$$ Prob\\left(a_n | \\left|\\Psi\\right\\rangle \\right) = \\left\\langle \\Psi\\right| P_n \\left|\\Psi\\right\\rangle $$\n",
    "\n",
    "donde $P_n$ es el proyector asociado al autovalor $a_n$. Si $A$ es no degenerado entonce $P_n = {\\left|\\phi_{n}\\right\\rangle }{\\left\\langle \\phi_{n}\\right|}$ y la probabilidad resulta ser $$Prob\\left( a_n | \\left|\\Psi\\right\\rangle \\right) = \\left|  \\left\\langle \\phi_{n} |\\Psi\\right\\rangle \\right|^2$$"
   ]
  },
  {
   "cell_type": "markdown",
   "metadata": {},
   "source": [
    "## Postulado 5 ( Postulado de proyección o colapso )\n",
    "\n",
    "Si el estado de un sistema es ${\\left|\\Psi\\right\\rangle }$ y medimos el observable $A$ y detectamos el autovalor $a_n$, entonces el estado del sistema después \n",
    "de la medición es la proyección de ${\\left|\\Psi\\right\\rangle }$ sobre el subespacio asociado al autovalor $a_n$\n"
   ]
  },
  {
   "cell_type": "code",
   "execution_count": null,
   "metadata": {},
   "outputs": [],
   "source": []
  },
  {
   "cell_type": "code",
   "execution_count": null,
   "metadata": {},
   "outputs": [],
   "source": []
  },
  {
   "cell_type": "code",
   "execution_count": null,
   "metadata": {},
   "outputs": [],
   "source": []
  },
  {
   "cell_type": "markdown",
   "metadata": {},
   "source": [
    "- Estados\n",
    "- Operadores y Observables\n",
    "- Conmutador\n",
    "- Evolución de un sistema"
   ]
  },
  {
   "cell_type": "markdown",
   "metadata": {},
   "source": [
    "Tópicos extra/ MC moderna/ Información Cuántica:\n",
    "- Paradoja de EPR\n",
    "- Desigualdad de Bell\n",
    "- Decoherencia"
   ]
  },
  {
   "cell_type": "code",
   "execution_count": null,
   "metadata": {},
   "outputs": [],
   "source": []
  },
  {
   "cell_type": "code",
   "execution_count": null,
   "metadata": {},
   "outputs": [],
   "source": []
  },
  {
   "cell_type": "code",
   "execution_count": null,
   "metadata": {},
   "outputs": [],
   "source": []
  },
  {
   "cell_type": "code",
   "execution_count": null,
   "metadata": {},
   "outputs": [],
   "source": []
  },
  {
   "cell_type": "code",
   "execution_count": null,
   "metadata": {},
   "outputs": [],
   "source": []
  },
  {
   "cell_type": "code",
   "execution_count": null,
   "metadata": {},
   "outputs": [],
   "source": []
  },
  {
   "cell_type": "code",
   "execution_count": null,
   "metadata": {},
   "outputs": [],
   "source": []
  },
  {
   "cell_type": "code",
   "execution_count": null,
   "metadata": {},
   "outputs": [],
   "source": []
  },
  {
   "cell_type": "code",
   "execution_count": null,
   "metadata": {},
   "outputs": [],
   "source": []
  },
  {
   "cell_type": "code",
   "execution_count": null,
   "metadata": {},
   "outputs": [],
   "source": []
  },
  {
   "cell_type": "code",
   "execution_count": null,
   "metadata": {},
   "outputs": [],
   "source": []
  },
  {
   "cell_type": "code",
   "execution_count": null,
   "metadata": {},
   "outputs": [],
   "source": []
  },
  {
   "cell_type": "code",
   "execution_count": null,
   "metadata": {},
   "outputs": [],
   "source": []
  },
  {
   "cell_type": "code",
   "execution_count": null,
   "metadata": {},
   "outputs": [],
   "source": []
  },
  {
   "cell_type": "code",
   "execution_count": null,
   "metadata": {},
   "outputs": [],
   "source": []
  }
 ],
 "metadata": {
  "kernelspec": {
   "display_name": "Python 3",
   "language": "python",
   "name": "python3"
  },
  "language_info": {
   "codemirror_mode": {
    "name": "ipython",
    "version": 3
   },
   "file_extension": ".py",
   "mimetype": "text/x-python",
   "name": "python",
   "nbconvert_exporter": "python",
   "pygments_lexer": "ipython3",
   "version": "3.8.0"
  }
 },
 "nbformat": 4,
 "nbformat_minor": 4
}
