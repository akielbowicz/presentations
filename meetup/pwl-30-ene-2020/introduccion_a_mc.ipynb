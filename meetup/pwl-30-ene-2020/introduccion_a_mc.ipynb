{
 "cells": [
  {
   "cell_type": "markdown",
   "metadata": {},
   "source": [
    "# Advertencia\n",
    "\n",
    "Liberacion de responsabilidades"
   ]
  },
  {
   "cell_type": "markdown",
   "metadata": {},
   "source": [
    "Radiacion el Cuerpo Negro y cuantizacion de la energía\n",
    "\n",
    "Efecto Fotoeléctrico\n",
    "\n",
    "Espectro Atómico (Bohr, DeBroglie)\n",
    "\n",
    "Momento angular de los electrones/Spin (Stern-Gerlach)"
   ]
  },
  {
   "cell_type": "markdown",
   "metadata": {},
   "source": [
    "$\\require{enclose}\\require{physics}$\n",
    "$$\\enclose{circle}[mathcolor=\"red\"]{x}\n",
    "\\enclose{circle}[mathcolor=\"red\"]{\\color{black}{x}}\n",
    "\\enclose{circle,box}{x}\n",
    "\\enclose{circle}{\\enclose{box}{x}}$$\n",
    "\n",
    "$$\\rho\\left(\\left( {\\left|00\\right\\rangle }, \\  0.5\\right),\\left( {\\left|11\\right\\rangle }, \\  0.5\\right)\\right)$$\n",
    "\n",
    "$$\\bra{asado}$$"
   ]
  },
  {
   "cell_type": "markdown",
   "metadata": {},
   "source": [
    "Primeros modelos matemáticos\n",
    "\n",
    "- Mecánica ondulatoria de Schrodinger\n",
    "- Mecánica matricial de Heisenberg\n",
    "- Formalización y formulación de Dirac"
   ]
  },
  {
   "cell_type": "markdown",
   "metadata": {},
   "source": [
    "Introducción a la matemática de la MC/ Postulados de la MC"
   ]
  },
  {
   "cell_type": "markdown",
   "metadata": {},
   "source": [
    "## Postulado 1\n",
    "\n",
    "El estado de todo sistema físico está representado por un vector (de norma unidad) en un espacio de Hilbert $\\mathcal{H}$ "
   ]
  },
  {
   "cell_type": "markdown",
   "metadata": {},
   "source": [
    "## Postulado 2\n",
    "\n",
    "Todas las propiedades observables de un sistema físico se prepresentan por un operador lineal hermítico que actúa sobre $\\mathcal{H}$"
   ]
  },
  {
   "cell_type": "markdown",
   "metadata": {},
   "source": [
    "## Postulado 3\n",
    "\n",
    "Los resultados posibles de la medición de cualquier observable $A$ son sus autovalores $a_n$"
   ]
  },
  {
   "cell_type": "markdown",
   "metadata": {},
   "source": [
    "## Postulado 4 ( Regla de Born )\n",
    "\n",
    "\n",
    "\n",
    "Si el estado de un sistema es $\\left|\\Psi\\right\\rangle$, la probabilidad de obtener el resultado $a_n$ en la medición del observable $A$ es siempre\n",
    "\n",
    "$$ Prob\\left(a_n | \\left|\\Psi\\right\\rangle \\right) = \\left\\langle \\Psi\\right| P_n \\left|\\Psi\\right\\rangle $$\n",
    "\n",
    "donde $P_n$ es el proyector asociado al autovalor $a_n$. Si $A$ es no degenerado entonce $P_n = {\\left|\\phi_{n}\\right\\rangle }{\\left\\langle \\phi_{n}\\right|}$ y la probabilidad resulta ser $$Prob\\left( a_n | \\left|\\Psi\\right\\rangle \\right) = \\left|  \\left\\langle \\phi_{n} |\\Psi\\right\\rangle \\right|^2$$"
   ]
  },
  {
   "cell_type": "markdown",
   "metadata": {},
   "source": [
    "## Postulado 5 ( Postulado de proyección o colapso )\n",
    "\n",
    "Si el estado de un sistema es ${\\left|\\Psi\\right\\rangle }$ y medimos el observable $A$ y detectamos el autovalor $a_n$, entonces el estado del sistema después \n",
    "de la medición es la proyección de ${\\left|\\Psi\\right\\rangle }$ sobre el subespacio asociado al autovalor $a_n$\n"
   ]
  },
  {
   "cell_type": "code",
   "execution_count": null,
   "metadata": {},
   "outputs": [],
   "source": []
  },
  {
   "cell_type": "code",
   "execution_count": null,
   "metadata": {},
   "outputs": [],
   "source": []
  },
  {
   "cell_type": "code",
   "execution_count": null,
   "metadata": {},
   "outputs": [],
   "source": []
  },
  {
   "cell_type": "markdown",
   "metadata": {},
   "source": [
    "- Estados\n",
    "- Operadores y Observables\n",
    "- Conmutador\n",
    "- Evolución de un sistema"
   ]
  },
  {
   "cell_type": "markdown",
   "metadata": {},
   "source": [
    "Tópicos extra/ MC moderna/ Información Cuántica:\n",
    "- Paradoja de EPR\n",
    "- Desigualdad de Bell\n",
    "- Decoherencia"
   ]
  },
  {
   "cell_type": "code",
   "execution_count": null,
   "metadata": {},
   "outputs": [],
   "source": []
  },
  {
   "cell_type": "code",
   "execution_count": null,
   "metadata": {},
   "outputs": [],
   "source": []
  },
  {
   "cell_type": "code",
   "execution_count": null,
   "metadata": {},
   "outputs": [],
   "source": []
  },
  {
   "cell_type": "code",
   "execution_count": null,
   "metadata": {},
   "outputs": [],
   "source": []
  },
  {
   "cell_type": "code",
   "execution_count": null,
   "metadata": {},
   "outputs": [],
   "source": []
  },
  {
   "cell_type": "code",
   "execution_count": null,
   "metadata": {},
   "outputs": [],
   "source": []
  },
  {
   "cell_type": "code",
   "execution_count": null,
   "metadata": {},
   "outputs": [],
   "source": []
  },
  {
   "cell_type": "code",
   "execution_count": null,
   "metadata": {},
   "outputs": [],
   "source": []
  },
  {
   "cell_type": "code",
   "execution_count": null,
   "metadata": {},
   "outputs": [],
   "source": []
  },
  {
   "cell_type": "code",
   "execution_count": null,
   "metadata": {},
   "outputs": [],
   "source": []
  },
  {
   "cell_type": "code",
   "execution_count": null,
   "metadata": {},
   "outputs": [],
   "source": []
  },
  {
   "cell_type": "code",
   "execution_count": null,
   "metadata": {},
   "outputs": [],
   "source": []
  },
  {
   "cell_type": "code",
   "execution_count": null,
   "metadata": {},
   "outputs": [],
   "source": []
  },
  {
   "cell_type": "code",
   "execution_count": null,
   "metadata": {},
   "outputs": [],
   "source": []
  },
  {
   "cell_type": "code",
   "execution_count": null,
   "metadata": {},
   "outputs": [],
   "source": []
  }
 ],
 "metadata": {
  "kernelspec": {
   "display_name": "Python 3",
   "language": "python",
   "name": "python3"
  },
  "language_info": {
   "codemirror_mode": {
    "name": "ipython",
    "version": 3
   },
   "file_extension": ".py",
   "mimetype": "text/x-python",
   "name": "python",
   "nbconvert_exporter": "python",
   "pygments_lexer": "ipython3",
   "version": "3.8.0"
  }
 },
 "nbformat": 4,
 "nbformat_minor": 4
}
