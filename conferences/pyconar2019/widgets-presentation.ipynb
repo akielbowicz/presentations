{
 "cells": [
  {
   "cell_type": "markdown",
   "metadata": {
    "slideshow": {
     "slide_type": "notes"
    }
   },
   "source": [
    "Outline\n",
    "=======\n",
    "\n",
    "\n",
    "\n",
    "Intro\n",
    "-----\n",
    "\n",
    "- Que es un widget\n",
    "- Historia de la ferreteria\n",
    "- Por que son importantes los widgets\n",
    "    - gifs widgets\n",
    "\n",
    "- Representacion https://www.youtube.com/watch?v=4q_-iWqJSfk\n",
    "    - Rock Paper Scissor Lizard Spock\n",
    "\n",
    "El enfoque de la charla es dar una explicacion a varios conceptos utilizados por los widgets\n",
    "que no son tan usuales en la programacion con python.\n",
    "\n",
    "Como funciona\n",
    "-------------\n",
    "\n",
    "\n",
    "- Atributos\n",
    "    - Traitlets\n",
    "    \n",
    "- Eventos\n",
    "    https://ipywidgets.readthedocs.io/en/latest/examples/Widget%20Events.html#Traitlet-events\n",
    "    https://ipywidgets.readthedocs.io/en/latest/examples/Widget%20Events.html#Registering-callbacks-to-trait-changes-in-the-kernel \n",
    "    - Callbacks \n",
    "    \n",
    "- Vincular atributos\n",
    "    \n",
    "    - Comunicacion entre \n",
    "    \n",
    "- Descomposicion en Modelo y Vista\n",
    "\n",
    "- Caveats\n",
    "   \n",
    "   - Estilo https://ipywidgets.readthedocs.io/en/latest/examples/Widget%20Styling.html\n",
    "   - serializacion https://github.com/jupyter-widgets/traittypes https://ipywidgets.readthedocs.io/en/latest/examples/Widget%20Low%20Level.html#Serialization-of-widget-attributes\n",
    "    - debugging https://ipywidgets.readthedocs.io/en/latest/examples/Output%20Widget.html#Debugging-errors-in-callbacks-with-the-output-widget  \n",
    "    \n",
    "- Mi cosito\n",
    "   \n",
    "   - https://ipywidgets.readthedocs.io/en/latest/examples/Widget%20Custom.html\n",
    "   - https://ipywidgets.readthedocs.io/en/latest/examples/Widget%20Low%20Level.html\n",
    "    \n",
    "- Muchos widgets\n",
    "\n",
    "    https://github.com/jupyter-widgets/ipywidgets/issues/2296\n",
    "    https://nosonhorasweb.com.ar/wp-content/uploads/2019/06/Open-Folk-Nsh-69.jpg\n"
   ]
  },
  {
   "cell_type": "markdown",
   "metadata": {},
   "source": [
    "El objetivo de la charla es entender la estructura de los widgets y cómo funcionan dentro de los notebooks para poder implementar widgets propios. Vamos a ver en superficialmente como es la arquitectura de los widgets y cómo se maneja el comportamiento de los mismos. También veremos cuales son los protocolos que exponen los widgets, cómo utilizarlos y un par de consideraciones a tener en cuenta. Haremos un recorrido rápido por los widgets predefinidos y para finalizar recorreremos el desarrollo de un widget desde cero."
   ]
  },
  {
   "cell_type": "code",
   "execution_count": null,
   "metadata": {
    "slideshow": {
     "slide_type": "notes"
    }
   },
   "outputs": [],
   "source": [
    "# Inicio de la presentacion"
   ]
  },
  {
   "cell_type": "markdown",
   "metadata": {
    "slideshow": {
     "slide_type": "slide"
    }
   },
   "source": [
    "# ¿Cómo funcionan los Widgets de Jupyter?"
   ]
  },
  {
   "cell_type": "markdown",
   "metadata": {
    "slideshow": {
     "slide_type": "slide"
    }
   },
   "source": [
    "- # [¿Qué es un Widget?](#¿Qué-es-un-Widget?)\n",
    "- # [¿Cómo funciona un **ipywidget**?](¿Cómo-funciona-un-ipywidget?)\n",
    "- # ¿Qué tengo que tener en cuenta al implementar uno?"
   ]
  },
  {
   "cell_type": "markdown",
   "metadata": {
    "slideshow": {
     "slide_type": "slide"
    }
   },
   "source": [
    "# ¿Qué es un Widget?"
   ]
  },
  {
   "cell_type": "markdown",
   "metadata": {},
   "source": [
    "Historia de la ferreteria"
   ]
  },
  {
   "cell_type": "markdown",
   "metadata": {},
   "source": [
    "https://upload.wikimedia.org/wikipedia/commons/8/8f/Benito_Cerati_y_Charly_García.jpg "
   ]
  },
  {
   "cell_type": "markdown",
   "metadata": {},
   "source": [
    "https://pbs.twimg.com/media/EJmvpSFWsAA_6qz.jpg:large"
   ]
  },
  {
   "cell_type": "markdown",
   "metadata": {},
   "source": [
    "https://posta.fm/tecla-cualquiera-90e4fb3ebd8a"
   ]
  },
  {
   "cell_type": "markdown",
   "metadata": {},
   "source": [
    "https://www.youtube.com/watch?v=QVJow3nwqSA"
   ]
  },
  {
   "cell_type": "markdown",
   "metadata": {},
   "source": [
    "https://www.youtube.com/watch?v=uhq0ZHpunB4"
   ]
  },
  {
   "cell_type": "markdown",
   "metadata": {},
   "source": [
    "https://www.youtube.com/watch?v=IZ7qVoO-l-E"
   ]
  },
  {
   "cell_type": "markdown",
   "metadata": {},
   "source": [
    "https://twitter.com/furorpodcast\n",
    "\n",
    "https://github.com/maartenbreddels/ipywebrtc\n",
    "\n",
    "https://github.com/jupyter-widgets/pythreejs\n",
    "\n",
    "https://github.com/jupyter-widgets/ipyleaflet\n",
    "\n",
    "https://github.com/maartenbreddels/ipyvolume\n",
    "\n",
    "https://github.com/martinRenou/ipycanvas\n",
    "\n",
    "https://github.com/JuanCab/AstroInteractives\n",
    "\n",
    "https://github.com/jupyter-widgets/tutorial"
   ]
  },
  {
   "cell_type": "code",
   "execution_count": null,
   "metadata": {},
   "outputs": [],
   "source": []
  },
  {
   "cell_type": "code",
   "execution_count": null,
   "metadata": {},
   "outputs": [],
   "source": []
  },
  {
   "cell_type": "code",
   "execution_count": null,
   "metadata": {},
   "outputs": [],
   "source": []
  },
  {
   "cell_type": "code",
   "execution_count": null,
   "metadata": {},
   "outputs": [],
   "source": []
  },
  {
   "cell_type": "code",
   "execution_count": null,
   "metadata": {},
   "outputs": [],
   "source": []
  },
  {
   "cell_type": "code",
   "execution_count": null,
   "metadata": {},
   "outputs": [],
   "source": []
  },
  {
   "cell_type": "code",
   "execution_count": null,
   "metadata": {},
   "outputs": [],
   "source": []
  },
  {
   "cell_type": "code",
   "execution_count": null,
   "metadata": {},
   "outputs": [],
   "source": []
  },
  {
   "cell_type": "code",
   "execution_count": null,
   "metadata": {},
   "outputs": [],
   "source": []
  },
  {
   "cell_type": "code",
   "execution_count": null,
   "metadata": {},
   "outputs": [],
   "source": []
  },
  {
   "cell_type": "code",
   "execution_count": null,
   "metadata": {},
   "outputs": [],
   "source": []
  },
  {
   "cell_type": "code",
   "execution_count": null,
   "metadata": {},
   "outputs": [],
   "source": []
  },
  {
   "cell_type": "code",
   "execution_count": null,
   "metadata": {},
   "outputs": [],
   "source": []
  },
  {
   "cell_type": "code",
   "execution_count": null,
   "metadata": {},
   "outputs": [],
   "source": []
  },
  {
   "cell_type": "code",
   "execution_count": null,
   "metadata": {},
   "outputs": [],
   "source": []
  },
  {
   "cell_type": "code",
   "execution_count": null,
   "metadata": {},
   "outputs": [],
   "source": []
  },
  {
   "cell_type": "code",
   "execution_count": null,
   "metadata": {},
   "outputs": [],
   "source": []
  },
  {
   "cell_type": "code",
   "execution_count": null,
   "metadata": {},
   "outputs": [],
   "source": []
  },
  {
   "cell_type": "code",
   "execution_count": null,
   "metadata": {},
   "outputs": [],
   "source": []
  },
  {
   "cell_type": "code",
   "execution_count": null,
   "metadata": {},
   "outputs": [],
   "source": []
  },
  {
   "cell_type": "code",
   "execution_count": null,
   "metadata": {},
   "outputs": [],
   "source": []
  },
  {
   "cell_type": "code",
   "execution_count": null,
   "metadata": {},
   "outputs": [],
   "source": []
  },
  {
   "cell_type": "code",
   "execution_count": null,
   "metadata": {},
   "outputs": [],
   "source": []
  },
  {
   "cell_type": "code",
   "execution_count": null,
   "metadata": {},
   "outputs": [],
   "source": []
  },
  {
   "cell_type": "code",
   "execution_count": null,
   "metadata": {},
   "outputs": [],
   "source": []
  },
  {
   "cell_type": "code",
   "execution_count": null,
   "metadata": {
    "slideshow": {
     "slide_type": "skip"
    }
   },
   "outputs": [],
   "source": [
    "icons = [ 'fa-hand-spock-o',\n",
    "    'fa-hand-o-left',\n",
    "    'fa-hand-grab-o',\n",
    "    'fa-hand-paper-o',\n",
    "    'fa-hand-lizard-o',\n",
    "    'fa-hand-scissors-o',\n",
    "    'fa-thumbs-o-up',\n",
    "    'fa-times-circle',\n",
    "    'fa-check-circle',\n",
    "    'fa-hand-peace-o' ]\n",
    "\n",
    "html = '<i class=\"fa {icon}\" style=\"font-size:{size}px;color:{color}\"></i>'"
   ]
  },
  {
   "cell_type": "code",
   "execution_count": null,
   "metadata": {
    "slideshow": {
     "slide_type": "skip"
    }
   },
   "outputs": [],
   "source": [
    "# import ipywidgets as widgets\n",
    "from ipywidgets import Button,Text, HBox, HTML, IntSlider, Color,VBox\n",
    "from random import choice\n",
    "boton = Button()\n",
    "color = Text()\n",
    "i = Text('fa-hand-peace-o')\n",
    "icono = HTML(html.format(icon='fa-hand-peace-o',size=12,color='black'))\n",
    "slider = IntSlider(48)\n",
    "\n",
    "def cambiar_icono(change):\n",
    "    i.value = choice(icons)\n",
    "    icono.value = html.format(icon=i.value,size=slider.value,color=color.value)\n",
    "\n",
    "def cambiar(change):\n",
    "    icono.value = html.format(icon=i.value,size=slider.value,color=color.value)\n",
    "    \n",
    "boton.on_click(cambiar_icono)    \n",
    "slider.observe(cambiar)\n",
    "color.observe(cambiar)\n",
    "w = VBox([ HBox([boton,color,icono]),\n",
    "       slider ] )\n",
    "# w\n",
    "# Most unusable machine"
   ]
  },
  {
   "cell_type": "code",
   "execution_count": null,
   "metadata": {
    "slideshow": {
     "slide_type": "slide"
    }
   },
   "outputs": [],
   "source": [
    "w"
   ]
  },
  {
   "cell_type": "markdown",
   "metadata": {
    "slideshow": {
     "slide_type": "subslide"
    }
   },
   "source": [
    "## **Los ipywidgets son elementos HTML que permiten agregar interactividad a un Jupyter notebook.**\n",
    "\n",
    "\n",
    "*Widgets are eventful python objects that have a representation in the browser, often as a control like a slider, textbox, etc.*[2](https://ipywidgets.readthedocs.io/en/latest/examples/Widget%20Basics.html#What-are-widgets?)\n",
    "\n",
    "*\"ipywidgets are interactive HTML widgets for Jupyter notebooks and the IPython kernel.\"*[(1)](https://github.com/jupyter-widgets/ipywidgets/blob/master/README.md)"
   ]
  },
  {
   "cell_type": "markdown",
   "metadata": {},
   "source": [
    "# ¿Cómo funciona un **ipywidget**?"
   ]
  },
  {
   "cell_type": "code",
   "execution_count": null,
   "metadata": {
    "slideshow": {
     "slide_type": "slide"
    }
   },
   "outputs": [],
   "source": [
    "# import ipywidgets as widgets\n",
    "from ipywidgets import Button,Text, HBox, HTML, IntSlider, Color,VBox\n",
    "from random import choice\n",
    "boton = Button()\n",
    "color = Text()\n",
    "i = Text('fa-hand-peace-o')\n",
    "icono = HTML(html.format(icon='fa-hand-peace-o',size=12,color='black'))\n",
    "slider = IntSlider(48)\n",
    "\n",
    "def cambiar_icono(change):\n",
    "    i.value = choice(icons)\n",
    "    icono.value = html.format(icon=i.value,size=slider.value,color=color.value)\n",
    "\n",
    "def cambiar(change):\n",
    "    icono.value = html.format(icon=i.value,size=slider.value,color=color.value)\n",
    "    \n",
    "boton.on_click(cambiar_icono)    \n",
    "slider.observe(cambiar)\n",
    "color.observe(cambiar)\n",
    "w = VBox([ HBox([boton,color,icono]),\n",
    "       slider ] )\n",
    "# w\n",
    "# Most unusable machine"
   ]
  },
  {
   "cell_type": "code",
   "execution_count": null,
   "metadata": {
    "slideshow": {
     "slide_type": "slide"
    }
   },
   "outputs": [],
   "source": []
  },
  {
   "cell_type": "markdown",
   "metadata": {
    "slideshow": {
     "slide_type": "slide"
    }
   },
   "source": [
    "![](https://backbonejs.org/docs/images/backbone.png)"
   ]
  },
  {
   "cell_type": "markdown",
   "metadata": {},
   "source": [
    " el view.el\n",
    "All views have a DOM element at all times (the el property), whether they've already been inserted into the page or not. In this fashion, views can be rendered at any time, and inserted into the DOM all at once, in order to get high-performance UI rendering with as few reflows and repaints as possible.\n",
    "\n",
    "this.el can be resolved from a DOM selector string or an Element; otherwise it will be created from the view's tagName, className, id and attributes properties. If none are set, this.el is an empty div, which is often just fine. An el reference may also be passed in to the view's constructor. \n",
    "\n",
    "http://nicholasjohnson.com/backbone-book/\n",
    "https://www.toptal.com/backbone-js/top-8-common-backbone-js-developer-mistakes\n",
    "\n",
    "http://ricostacruz.com/backbone-patterns/mixins.html"
   ]
  },
  {
   "cell_type": "code",
   "execution_count": null,
   "metadata": {},
   "outputs": [],
   "source": [
    "# Phosphore JS"
   ]
  },
  {
   "cell_type": "code",
   "execution_count": null,
   "metadata": {
    "slideshow": {
     "slide_type": "slide"
    }
   },
   "outputs": [],
   "source": [
    "icono.value"
   ]
  },
  {
   "cell_type": "code",
   "execution_count": null,
   "metadata": {
    "slideshow": {
     "slide_type": "-"
    }
   },
   "outputs": [],
   "source": [
    "%psource widgets.widgets"
   ]
  },
  {
   "cell_type": "code",
   "execution_count": null,
   "metadata": {},
   "outputs": [],
   "source": [
    "#https://www.w3schools.com/icons/fontawesome_icons_hand.asp\n",
    "HBox([\n",
    "    HTML('<i class=\"fa fa-hand-spock-o\" style=\"font-size:48px;color:red\"></i>'),\n",
    "    HTML('<i class=\"fa fa-hand-o-left\" style=\"font-size:48px;color:red\"></i>'),\n",
    "    HTML('<i class=\"fa fa-hand-grab-o\" style=\"font-size:48px;color:red\"></i>'),\n",
    "    HTML('<i class=\"fa fa-hand-paper-o\" style=\"font-size:48px;color:red\"></i>'),\n",
    "    HTML('<i class=\"fa fa-hand-lizard-o\" style=\"font-size:48px;color:red\"></i>'),\n",
    "    HTML('<i class=\"fa fa-hand-scissors-o\" style=\"font-size:48px;color:red\"></i>'),\n",
    "    HTML('<i class=\"fa fa-thumbs-o-up\" style=\"font-size:48px;color:red\"></i>'),\n",
    "    HTML('<i class=\"fa fa-times-circle\" style=\"font-size:48px;color:red\"></i>'),\n",
    "    HTML('<i class=\"fa fa-check-circle\" style=\"font-size:48px;color:red\"></i>'),\n",
    "    HTML('<i class=\"fa fa-hand-peace-o\" style=\"font-size:48px;color:red\"></i>')\n",
    "    ])"
   ]
  },
  {
   "cell_type": "code",
   "execution_count": null,
   "metadata": {},
   "outputs": [],
   "source": [
    "HTML('<i class=\"fa fa-hand-peace-o\" style=\"font-size:48px;color:red\"></i>')"
   ]
  },
  {
   "cell_type": "code",
   "execution_count": null,
   "metadata": {},
   "outputs": [],
   "source": [
    "incrementar(None)\n",
    "'\\N{WHITE RIGHT POINTING BACKHAND INDEX}'\n",
    "'\\N{BLACK RIGHT POINTING INDEX}'\n",
    "'\\N{Black Large Circle}'\n",
    "'\\N{Heavy Large Circle}'\n",
    "'\\N{WHITE LEFT POINTING BACKHAND INDEX}'"
   ]
  },
  {
   "cell_type": "markdown",
   "metadata": {},
   "source": [
    "# ¿Cómo funciona un **ipywidget**?"
   ]
  },
  {
   "cell_type": "markdown",
   "metadata": {
    "slideshow": {
     "slide_type": "slide"
    }
   },
   "source": [
    "![](https://raw.githubusercontent.com/jupyter-widgets/ipywidgets/master/docs/source/examples/images/WidgetModelView.png)\n",
    "*ipywidgets docs*"
   ]
  },
  {
   "cell_type": "markdown",
   "metadata": {},
   "source": [
    "Objetos con estado ( stateful )\n",
    "\n",
    "\n",
    "Objetos escuchando eventos ( eventful )"
   ]
  },
  {
   "cell_type": "markdown",
   "metadata": {},
   "source": [
    "¿Cómo se consiguen esas características?\n",
    "\n",
    "Atributos / validate"
   ]
  },
  {
   "cell_type": "code",
   "execution_count": null,
   "metadata": {},
   "outputs": [],
   "source": [
    "from traitlets import Unicode, Int, HasTraits\n",
    "\n",
    "\n",
    "\n",
    "out = widgets.Output(layout={'border': '1px solid black'})\n",
    "out"
   ]
  },
  {
   "cell_type": "markdown",
   "metadata": {
    "slideshow": {
     "slide_type": "slide"
    }
   },
   "source": [
    "@sashaKile"
   ]
  },
  {
   "cell_type": "markdown",
   "metadata": {},
   "source": [
    "register\n",
    "\n",
    "Stateful ( estado )\n",
    "\n",
    "Eventos \n",
    "\n",
    "Separacion View-Model\n",
    "\n",
    "Serializacion\n",
    "\n",
    "Debugging\n",
    "\n",
    "widget-cookie-cutter\n",
    "\n",
    "Implementacion en el FrontEnd"
   ]
  },
  {
   "cell_type": "markdown",
   "metadata": {},
   "source": [
    "# JupyterLab\n",
    "\n",
    "Disclaimer: Para desarrollar los widgets para jlab hay que desarrollarlos como una extension"
   ]
  },
  {
   "cell_type": "markdown",
   "metadata": {},
   "source": []
  },
  {
   "cell_type": "markdown",
   "metadata": {},
   "source": []
  },
  {
   "cell_type": "markdown",
   "metadata": {},
   "source": []
  },
  {
   "cell_type": "markdown",
   "metadata": {},
   "source": []
  },
  {
   "cell_type": "markdown",
   "metadata": {},
   "source": []
  },
  {
   "cell_type": "markdown",
   "metadata": {},
   "source": []
  },
  {
   "cell_type": "markdown",
   "metadata": {},
   "source": []
  },
  {
   "cell_type": "markdown",
   "metadata": {},
   "source": []
  },
  {
   "cell_type": "markdown",
   "metadata": {},
   "source": []
  },
  {
   "cell_type": "code",
   "execution_count": null,
   "metadata": {},
   "outputs": [],
   "source": [
    "import ipywidgets as widgets\n",
    "# from ipywidgets import validate\n",
    "from traitlets import Unicode,Bool, validate"
   ]
  },
  {
   "cell_type": "code",
   "execution_count": null,
   "metadata": {},
   "outputs": [],
   "source": [
    "class Bob(widgets.DOMWidget):\n",
    "    _view_name = Unicode('BobView').tag(sync=True)\n",
    "    _view_module = Unicode('bob_widget').tag(sync=True)\n",
    "    _view_module_version = Unicode('0.1.0').tag(sync=True)\n",
    "#     _model_name = Unicode('bob_widget').tag(sync=True)\n",
    "#     _model_module = Unicode('bob_widget').tag(sync=True)\n",
    "\n",
    "    # Attributes\n",
    "    value = Unicode('example@example.com', help=\"The email value.\").tag(sync=True)\n",
    "    disabled = Bool(False, help=\"Enable or disable user changes.\").tag(sync=True)\n",
    "\n",
    "     # Basic validator for the email value\n",
    "    @validate('value')\n",
    "    def _valid_value(self, proposal):\n",
    "        if proposal['value'].count(\"@\") != 1:\n",
    "            raise TraitError('Invalid email value: it must contain an \"@\" character')\n",
    "        if proposal['value'].count(\".\") == 0:\n",
    "            raise TraitError('Invalid email value: it must contain at least one \".\" character')\n",
    "        return proposal['value']"
   ]
  },
  {
   "cell_type": "code",
   "execution_count": null,
   "metadata": {},
   "outputs": [],
   "source": [
    "%%javascript\n",
    "require.undef('bob_widget');\n",
    "define('bob_widget', [\"@jupyter-widgets/base\"], function(widgets) {\n",
    "\n",
    "    var BobView = widgets.DOMWidgetView.extend({\n",
    "\n",
    "        \n",
    "       render: function() {\n",
    "            this.input = document.createElement('input');\n",
    "            this.input.type = 'email';\n",
    "            this.input.value = this.model.get('value');\n",
    "            this.input.disabled =  this.model.get('disabled');;\n",
    "\n",
    "            this.el.appendChild(this.input);\n",
    "           \n",
    "            this.model.on('change:value',this.value_changed,this);\n",
    "            this.model.on('change:disabled', this.disabled_changed, this);\n",
    "       },        \n",
    "        \n",
    "        value_changed: function() {\n",
    "            this.input.value = this.model.get('value');\n",
    "        },\n",
    "        \n",
    "          disabled_changed: function() {\n",
    "            this.input.disabled = this.model.get('disabled');\n",
    "        },\n",
    "        \n",
    "    });\n",
    "\n",
    "    return {\n",
    "        BobView: BobView\n",
    "    }\n",
    "    \n",
    "    \n",
    "});"
   ]
  },
  {
   "cell_type": "code",
   "execution_count": null,
   "metadata": {},
   "outputs": [],
   "source": [
    "b = Bob(value='geen@feel.com',disabled=False)\n",
    "b"
   ]
  },
  {
   "cell_type": "code",
   "execution_count": null,
   "metadata": {},
   "outputs": [],
   "source": [
    "b.value = 'a@.d'"
   ]
  },
  {
   "cell_type": "code",
   "execution_count": null,
   "metadata": {},
   "outputs": [],
   "source": [
    "b"
   ]
  },
  {
   "cell_type": "code",
   "execution_count": null,
   "metadata": {},
   "outputs": [],
   "source": [
    "widgets.HBox((b,)*6)"
   ]
  },
  {
   "cell_type": "code",
   "execution_count": null,
   "metadata": {},
   "outputs": [],
   "source": [
    "from ipywidgets import DOMWidget\n",
    "from traitlets import  Int\n",
    "class MyWidget(DOMWidget):\n",
    "    _view_module = Unicode('mywidget').tag(sync=True)\n",
    "    _view_module_version = Unicode('0.1.0').tag(sync=True)\n",
    "    _view_name = Unicode('MyWidgetView').tag(sync=True)\n",
    "    count = Int().tag(sync=True)"
   ]
  },
  {
   "cell_type": "code",
   "execution_count": null,
   "metadata": {},
   "outputs": [],
   "source": [
    "%%javascript\n",
    "define('mywidget', ['@jupyter-widgets/base'], function(widgets) {\n",
    "    var MyWidgetView = widgets.DOMWidgetView.extend({\n",
    "        render: function() {\n",
    "            MyWidgetView.__super__.render.apply(this, arguments);\n",
    "            this._count_changed();\n",
    "            this.listenTo(this.model, 'change:count', this._count_changed, this);\n",
    "        },\n",
    "\n",
    "        _count_changed: function() {\n",
    "            var old_value = this.model.previous('count');\n",
    "            var new_value = this.model.get('count');\n",
    "            this.el.textContent = String(old_value) + ' -> ' + String(new_value);\n",
    "        }\n",
    "    });\n",
    "\n",
    "    return {\n",
    "        MyWidgetView: MyWidgetView\n",
    "    }\n",
    "});"
   ]
  },
  {
   "cell_type": "code",
   "execution_count": null,
   "metadata": {},
   "outputs": [],
   "source": [
    "m=MyWidget()\n",
    "m"
   ]
  },
  {
   "cell_type": "code",
   "execution_count": null,
   "metadata": {},
   "outputs": [],
   "source": [
    "m.count = 1"
   ]
  },
  {
   "cell_type": "code",
   "execution_count": null,
   "metadata": {},
   "outputs": [],
   "source": []
  }
 ],
 "metadata": {
  "celltoolbar": "Slideshow",
  "kernelspec": {
   "display_name": "Python 3",
   "language": "python",
   "name": "python3"
  },
  "language_info": {
   "codemirror_mode": {
    "name": "ipython",
    "version": 3
   },
   "file_extension": ".py",
   "mimetype": "text/x-python",
   "name": "python",
   "nbconvert_exporter": "python",
   "pygments_lexer": "ipython3",
   "version": "3.8.0"
  }
 },
 "nbformat": 4,
 "nbformat_minor": 4
}
