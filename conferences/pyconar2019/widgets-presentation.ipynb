{
 "cells": [
  {
   "cell_type": "markdown",
   "metadata": {
    "slideshow": {
     "slide_type": "slide"
    }
   },
   "source": [
    "![99pi](imagenes/99pi.jpg)"
   ]
  },
  {
   "cell_type": "markdown",
   "metadata": {
    "slideshow": {
     "slide_type": "subslide"
    }
   },
   "source": [
    "![pyconar](imagenes/pyconar_isologo.png)"
   ]
  },
  {
   "cell_type": "markdown",
   "metadata": {
    "slideshow": {
     "slide_type": "slide"
    }
   },
   "source": [
    "# ¿Cómo funcionan los Widgets de Jupyter?"
   ]
  },
  {
   "cell_type": "markdown",
   "metadata": {
    "slideshow": {
     "slide_type": "subslide"
    }
   },
   "source": [
    "- # [¿Qué es un Widget?](#¿Qué-es-un-Widget?)\n",
    "- # [¿Cómo funciona un **ipywidget**?](¿Cómo-funciona-un-ipywidget?)\n",
    "- # ¿Qué tengo que tener en cuenta al implementar uno?"
   ]
  },
  {
   "cell_type": "markdown",
   "metadata": {
    "slideshow": {
     "slide_type": "slide"
    }
   },
   "source": [
    "# ¿Qué es un Widget?"
   ]
  },
  {
   "cell_type": "markdown",
   "metadata": {
    "slideshow": {
     "slide_type": "subslide"
    }
   },
   "source": [
    "![ferreteria](imagenes/tenes_el_cosito_cronicas_ferreteras.png)"
   ]
  },
  {
   "cell_type": "markdown",
   "metadata": {
    "slideshow": {
     "slide_type": "subslide"
    }
   },
   "source": [
    "# Y por qué deberían interesarme los widgets?"
   ]
  },
  {
   "cell_type": "markdown",
   "metadata": {
    "slideshow": {
     "slide_type": "subslide"
    }
   },
   "source": [
    "![ipycanvas](imagenes/ipycanvas.png)"
   ]
  },
  {
   "cell_type": "markdown",
   "metadata": {
    "slideshow": {
     "slide_type": "subslide"
    }
   },
   "source": [
    "![ipyleaflet](imagenes/ipyleaflet.gif)"
   ]
  },
  {
   "cell_type": "markdown",
   "metadata": {
    "slideshow": {
     "slide_type": "subslide"
    }
   },
   "source": [
    "![pythreejs](imagenes/pythreejs.gif)"
   ]
  },
  {
   "cell_type": "markdown",
   "metadata": {
    "slideshow": {
     "slide_type": "subslide"
    }
   },
   "source": [
    "![ipyvolume](imagenes/ipyvolume.gif)"
   ]
  },
  {
   "cell_type": "markdown",
   "metadata": {
    "slideshow": {
     "slide_type": "subslide"
    }
   },
   "source": [
    "![ipywebrtc](imagenes/ipywebrtc.gif)"
   ]
  },
  {
   "cell_type": "markdown",
   "metadata": {
    "slideshow": {
     "slide_type": "subslide"
    }
   },
   "source": [
    "![binary_star](imagenes/binary_star_demo.gif)"
   ]
  },
  {
   "cell_type": "markdown",
   "metadata": {
    "slideshow": {
     "slide_type": "subslide"
    }
   },
   "source": [
    "![tecla](imagenes/tecla_cualquiera.jpeg)"
   ]
  },
  {
   "cell_type": "markdown",
   "metadata": {
    "slideshow": {
     "slide_type": "slide"
    }
   },
   "source": [
    "# Advertencia!!!"
   ]
  },
  {
   "cell_type": "markdown",
   "metadata": {
    "slideshow": {
     "slide_type": "subslide"
    }
   },
   "source": [
    "![benito_y_charly](imagenes/benito_cerati_y_charly_garcia.jpg)"
   ]
  },
  {
   "cell_type": "markdown",
   "metadata": {
    "slideshow": {
     "slide_type": "slide"
    }
   },
   "source": [
    "# ¿Cómo funciona un **ipywidget**?"
   ]
  },
  {
   "cell_type": "markdown",
   "metadata": {
    "slideshow": {
     "slide_type": "notes"
    }
   },
   "source": [
    "Empecemos con un objeto basico y vemos la representacion"
   ]
  },
  {
   "cell_type": "code",
   "execution_count": null,
   "metadata": {
    "slideshow": {
     "slide_type": "subslide"
    }
   },
   "outputs": [],
   "source": [
    "class Cosito:\n",
    "    \n",
    "    def __init__(self, nombre):\n",
    "        self.nombre = nombre\n",
    "    \n",
    "ruflete = Cosito('ruflete')    \n",
    "print(ruflete)"
   ]
  },
  {
   "cell_type": "markdown",
   "metadata": {
    "slideshow": {
     "slide_type": "subslide"
    }
   },
   "source": [
    "![print_y_repr](imagenes/print_y_repr_como_debuguear_python.png)"
   ]
  },
  {
   "cell_type": "code",
   "execution_count": null,
   "metadata": {
    "slideshow": {
     "slide_type": "subslide"
    }
   },
   "outputs": [],
   "source": [
    "class Cosito:\n",
    "    \n",
    "    def __init__(self, nombre):\n",
    "        self.nombre = nombre\n",
    "    \n",
    "    def __str__(self):\n",
    "        return self.nombre\n",
    "    \n",
    "    def __repr__(self):\n",
    "        return f'Cosito(\"{self.nombre}\")'\n",
    "    \n",
    "ruflete = Cosito('ruflete')    \n",
    "print('Esto es str:', ruflete)\n",
    "print('Esto es repr:',repr(ruflete))"
   ]
  },
  {
   "cell_type": "markdown",
   "metadata": {
    "slideshow": {
     "slide_type": "subslide"
    }
   },
   "source": [
    "![lil_mikela](imagenes/lil_mikela_todo_es_fake.jpg)"
   ]
  },
  {
   "cell_type": "markdown",
   "metadata": {
    "slideshow": {
     "slide_type": "skip"
    }
   },
   "source": [
    "https://ipython.readthedocs.io/en/stable/config/integrating.html#rich-display"
   ]
  },
  {
   "cell_type": "code",
   "execution_count": null,
   "metadata": {
    "slideshow": {
     "slide_type": "subslide"
    }
   },
   "outputs": [],
   "source": [
    "class Cosito:\n",
    "    \n",
    "    html_template = '<i class=\"fa fa-hand-spock-o\" style=\"font-size:48px;color:red\">{nombre}</i>'\n",
    "    \n",
    "    def __init__(self, nombre):\n",
    "        self.nombre = nombre\n",
    "    \n",
    "    def __str__(self):\n",
    "        return self.nombre\n",
    "    \n",
    "    def __repr__(self):\n",
    "        return f'Cosito(\"{self.nombre}\")'\n",
    "    \n",
    "    def _repr_html_(self):\n",
    "        return self.html_template.format(nombre=self.nombre)\n",
    "\n",
    "ruflete = Cosito('ruflete')    \n",
    "print('Esto es str:', ruflete)\n",
    "print('Esto es repr:',repr(ruflete))\n",
    "ruflete"
   ]
  },
  {
   "cell_type": "code",
   "execution_count": null,
   "metadata": {
    "slideshow": {
     "slide_type": "subslide"
    }
   },
   "outputs": [],
   "source": [
    "from ipywidgets import HTML, VBox, Image, IntSlider, link\n",
    "from IPython.display import display"
   ]
  },
  {
   "cell_type": "code",
   "execution_count": null,
   "metadata": {
    "slideshow": {
     "slide_type": "fragment"
    }
   },
   "outputs": [],
   "source": [
    "class Cosito:\n",
    "    \n",
    "    html_template = '<i class=\"fa fa-hand-spock-o\" style=\"font-size:48px;color:red\">{nombre}</i>'\n",
    "    \n",
    "    def __init__(self, nombre):\n",
    "        self.nombre = nombre\n",
    "    \n",
    "    def __str__(self):\n",
    "        return self.nombre\n",
    "    \n",
    "    def __repr__(self):\n",
    "        return f'Cosito(\"{self.nombre}\")'\n",
    "    \n",
    "    def _ipython_display_(self):\n",
    "        html = HTML(self.html_template.format(nombre=self.nombre))\n",
    "        with open('imagenes/ruflete.jpg','rb') as img:\n",
    "            imagen_data = img.read()\n",
    "        slider = IntSlider(min=100,max=300)\n",
    "        imagen = Image(value=imagen_data,height=200,width=300)\n",
    "        link((imagen,'width'),(slider,'value'))\n",
    "        display(VBox([html,imagen,slider]))"
   ]
  },
  {
   "cell_type": "code",
   "execution_count": null,
   "metadata": {
    "slideshow": {
     "slide_type": "subslide"
    }
   },
   "outputs": [],
   "source": [
    "ruflete = Cosito('ruflete')    \n",
    "print('Esto es str:', ruflete)\n",
    "print('Esto es repr:',repr(ruflete))\n",
    "ruflete"
   ]
  },
  {
   "cell_type": "markdown",
   "metadata": {
    "slideshow": {
     "slide_type": "slide"
    }
   },
   "source": [
    "![angustia](imagenes/la_angustia_peripateticas.jpeg)"
   ]
  },
  {
   "cell_type": "code",
   "execution_count": null,
   "metadata": {
    "slideshow": {
     "slide_type": "subslide"
    }
   },
   "outputs": [],
   "source": [
    "from traitlets import Unicode, Int\n",
    "from ipywidgets import Widget\n",
    "\n",
    "class Cosito(Widget):\n",
    "    \n",
    "    nombre  = Unicode('cosito').tag(sync=True)\n",
    "    tamanio = Int(15).tag(sync=True, metadata={'marca':'tres chanchitos'})\n",
    "    \n",
    "ruflete = Cosito()\n",
    "ruflete"
   ]
  },
  {
   "cell_type": "markdown",
   "metadata": {
    "slideshow": {
     "slide_type": "notes"
    }
   },
   "source": [
    "Mencionar los traitlets"
   ]
  },
  {
   "cell_type": "markdown",
   "metadata": {
    "slideshow": {
     "slide_type": "subslide"
    }
   },
   "source": [
    "![lo_keh](imagenes/miau_trio_13_lo_keh.png)"
   ]
  },
  {
   "cell_type": "markdown",
   "metadata": {
    "slideshow": {
     "slide_type": "subslide"
    }
   },
   "source": [
    "![descriptors](imagenes/descriptors_exposed.png)"
   ]
  },
  {
   "cell_type": "markdown",
   "metadata": {
    "slideshow": {
     "slide_type": "slide"
    }
   },
   "source": [
    "![lo_keh](imagenes/miau_trio_02_me_decis_que_espere_tu_llamado.png)"
   ]
  },
  {
   "cell_type": "code",
   "execution_count": null,
   "metadata": {
    "slideshow": {
     "slide_type": "subslide"
    }
   },
   "outputs": [],
   "source": [
    "def llamado(cambio):\n",
    "    print('Ring ring!')\n",
    "\n",
    "ruflete.observe(llamado)\n",
    "ruflete.nombre = 'ruflete'"
   ]
  },
  {
   "cell_type": "markdown",
   "metadata": {
    "slideshow": {
     "slide_type": "subslide"
    }
   },
   "source": [
    "![lo_keh](imagenes/miau_trio_04_este_es_mi_mensaje.png)"
   ]
  },
  {
   "cell_type": "markdown",
   "metadata": {
    "slideshow": {
     "slide_type": "subslide"
    }
   },
   "source": [
    "# [Estructura del evento](https://ipywidgets.readthedocs.io/en/latest/examples/Widget%20Events.html#Registering-callbacks-to-trait-changes-in-the-kernel)\n",
    "\n",
    "```python\n",
    "def llamado(cambio):\n",
    "    print(cambio)\n",
    "    \n",
    "cambio = {  'owner' : Cosito(name='ruflete'),       #'la instancia de un objeto HasTraits (traitlets)'\n",
    "            'old'   : 'cosito', # valor viejo del atributo modificado\n",
    "            'new'   : 'ruflete',# valor nuevo del atributo modificado\n",
    "            'name'  : 'nombre'  # nombre del atributo que fue modificado'\n",
    "            'type'  : 'change'  # tipo del evento observado\n",
    "         }\n",
    "```"
   ]
  },
  {
   "cell_type": "markdown",
   "metadata": {
    "slideshow": {
     "slide_type": "subslide"
    }
   },
   "source": [
    "![siempre_me_decis_lo_que_tengo_que_hacer](imagenes/miau_trio_01_siempre_decis_que_tengo_que_hacer.png)"
   ]
  },
  {
   "cell_type": "code",
   "execution_count": null,
   "metadata": {
    "slideshow": {
     "slide_type": "subslide"
    }
   },
   "outputs": [],
   "source": [
    "rosca = Cosito(nombre='rosca')\n",
    "\n",
    "def hace_esto(cambio):\n",
    "    rosca.tamanio -=  cambio['new']\n",
    "    \n",
    "ruflete.observe(hace_esto,names='tamanio')"
   ]
  },
  {
   "cell_type": "markdown",
   "metadata": {
    "slideshow": {
     "slide_type": "notes"
    }
   },
   "source": [
    "Hay veces que los efectos de los callbacks quedan ocultos "
   ]
  },
  {
   "cell_type": "markdown",
   "metadata": {
    "slideshow": {
     "slide_type": "slide"
    }
   },
   "source": [
    "![espero](imagenes/miau_trio_03_espero_espero.png)"
   ]
  },
  {
   "cell_type": "markdown",
   "metadata": {
    "slideshow": {
     "slide_type": "subslide"
    }
   },
   "source": [
    "## [Output widget para capturar la salida de un llamado](https://ipywidgets.readthedocs.io/en/latest/examples/Output%20Widget.html#Debugging-errors-in-callbacks-with-the-output-widget)"
   ]
  },
  {
   "cell_type": "code",
   "execution_count": null,
   "metadata": {
    "slideshow": {
     "slide_type": "subslide"
    }
   },
   "outputs": [],
   "source": [
    "def intentar_encastrar(cambio):\n",
    "    raise ValueError('No deberías hacer eso')\n",
    "    \n",
    "ruflete.observe(intentar_encastrar)\n",
    "ruflete.tamanio = 0\n",
    "ruflete"
   ]
  },
  {
   "cell_type": "code",
   "execution_count": null,
   "metadata": {
    "slideshow": {
     "slide_type": "subslide"
    }
   },
   "outputs": [],
   "source": [
    "from ipywidgets import Output\n",
    "output = Output(layout={'border': '1px solid black'})\n",
    "\n",
    "@output.capture()\n",
    "def intentar_encastrar_otra_vez(cambio):\n",
    "    raise ValueError('No deberías hacer eso otra vez')\n",
    "    \n",
    "ruflete.observe(intentar_encastrar_otra_vez)\n",
    "output"
   ]
  },
  {
   "cell_type": "markdown",
   "metadata": {
    "slideshow": {
     "slide_type": "slide"
    }
   },
   "source": [
    "![hasta_ahora_todo_bien](imagenes/hasta_ahora_todo_bien_tarde_baby.png)"
   ]
  },
  {
   "cell_type": "markdown",
   "metadata": {
    "slideshow": {
     "slide_type": "subslide"
    }
   },
   "source": [
    "![siempre_me_preguntas_como](imagenes/miau_trio_05_siempre_me_preguntas_como.png)"
   ]
  },
  {
   "cell_type": "code",
   "execution_count": null,
   "metadata": {
    "slideshow": {
     "slide_type": "subslide"
    }
   },
   "outputs": [],
   "source": [
    "from traitlets import Unicode, Bool, validate, TraitError\n",
    "from ipywidgets import DOMWidget, register\n",
    "\n",
    "\n",
    "@register\n",
    "class Cosito(DOMWidget):\n",
    "    _view_name = Unicode('CositoView').tag(sync=True)\n",
    "    _view_module = Unicode('cosito_widget').tag(sync=True)\n",
    "    _view_module_version = Unicode('0.1.0').tag(sync=True)"
   ]
  },
  {
   "cell_type": "markdown",
   "metadata": {
    "slideshow": {
     "slide_type": "subslide"
    }
   },
   "source": [
    "```javascript\n",
    "var CositoModel = widgets.DOMWidgetModel.extend({\n",
    "    defaults : function() { ... };\n",
    "});\n",
    "\n",
    "var CositoView = widgets.DOMWidgetView.extend({\n",
    "\n",
    "   render : function() {\n",
    "        this.el.appendChild(this.input);\n",
    "        this.model.on('change:value',this.value_changed,this);\n",
    "   };        \n",
    "});\n",
    "```"
   ]
  },
  {
   "cell_type": "markdown",
   "metadata": {
    "slideshow": {
     "slide_type": "subslide"
    }
   },
   "source": [
    "![melancolia](imagenes/la_melancolia_peripatetica.jpeg)"
   ]
  },
  {
   "cell_type": "markdown",
   "metadata": {
    "slideshow": {
     "slide_type": "subslide"
    }
   },
   "source": [
    "![](imagenes/backbone.png)"
   ]
  },
  {
   "cell_type": "markdown",
   "metadata": {
    "slideshow": {
     "slide_type": "fragment"
    }
   },
   "source": [
    "# https://github.com/jupyter-widgets/widget-ts-cookiecutter"
   ]
  },
  {
   "cell_type": "markdown",
   "metadata": {
    "slideshow": {
     "slide_type": "subslide"
    }
   },
   "source": [
    "![bueno_ahora_escucha_mi_llamado](imagenes/miau_trio_04_bueno_ahora_escucha_mi_llamado.png)"
   ]
  },
  {
   "cell_type": "markdown",
   "metadata": {
    "slideshow": {
     "slide_type": "subslide"
    }
   },
   "source": [
    "```javascript\n",
    "        this.model.on('change:value',this.value_changed,this);\n",
    "```        "
   ]
  },
  {
   "cell_type": "markdown",
   "metadata": {
    "slideshow": {
     "slide_type": "subslide"
    }
   },
   "source": [
    "![deja_de_chatearme](imagenes/miau_trio_07_deja_de_chatearme.png)"
   ]
  },
  {
   "cell_type": "markdown",
   "metadata": {
    "slideshow": {
     "slide_type": "subslide"
    }
   },
   "source": [
    "```javascript\n",
    "        this.listenTo(this.model,'change:value',this.value_changed);\n",
    "```"
   ]
  },
  {
   "cell_type": "markdown",
   "metadata": {
    "slideshow": {
     "slide_type": "slide"
    }
   },
   "source": [
    "![felicidad](imagenes/la_felicidad_peripateticas.jpeg)"
   ]
  },
  {
   "cell_type": "markdown",
   "metadata": {
    "slideshow": {
     "slide_type": "subslide"
    }
   },
   "source": [
    "![chino](imagenes/miau_trio_12_chino.png)"
   ]
  },
  {
   "cell_type": "markdown",
   "metadata": {
    "slideshow": {
     "slide_type": "subslide"
    }
   },
   "source": [
    "## [Serialización entre python y javascript](https://ipywidgets.readthedocs.io/en/latest/examples/Widget%20Low%20Level.html#Serialization-of-widget-attributes)"
   ]
  },
  {
   "cell_type": "markdown",
   "metadata": {
    "slideshow": {
     "slide_type": "subslide"
    }
   },
   "source": [
    "![chino](imagenes/entendiendo_unicode.png)"
   ]
  },
  {
   "cell_type": "markdown",
   "metadata": {
    "slideshow": {
     "slide_type": "subslide"
    }
   },
   "source": [
    "![emoji](imagenes/miau_trio_11_emoji.png)"
   ]
  },
  {
   "cell_type": "markdown",
   "metadata": {
    "slideshow": {
     "slide_type": "subslide"
    }
   },
   "source": [
    "## [Traittypes](https://github.com/jupyter-widgets/traittypes)\n",
    "\n",
    "### Serializador de numpy y pandas"
   ]
  },
  {
   "cell_type": "markdown",
   "metadata": {
    "slideshow": {
     "slide_type": "slide"
    }
   },
   "source": [
    "# Cuando empezamos a tener varios widgets que interactuan"
   ]
  },
  {
   "cell_type": "code",
   "execution_count": null,
   "metadata": {
    "slideshow": {
     "slide_type": "fragment"
    }
   },
   "outputs": [],
   "source": [
    "from ipywidgets import FloatSlider, Dropdown\n",
    "\n",
    "cosito = Cosito()\n",
    "precio   = FloatSlider(min=0,max=200)\n",
    "etiqueta = Dropdown(options=['Nuevo','Usado','Reparado'])\n",
    "\n",
    "def cambiar_precio(cambio):\n",
    "    cosito.precio = cambio['new']\n",
    "\n",
    "def actualizacion_de_estado(cambio):\n",
    "    if cambio['new'] == 'Usado':\n",
    "        cosito.precio *=  0.45\n",
    "        cosito.etiqueta = cambio['new']\n",
    "\n",
    "precio.observe(cambiar_precio)\n",
    "etiqueta.observe(actualizacion_de_estado,names='value')"
   ]
  },
  {
   "cell_type": "markdown",
   "metadata": {
    "slideshow": {
     "slide_type": "subslide"
    }
   },
   "source": [
    "![las_estaciones](imagenes/oh_mi_novia_las_estaciones.png)"
   ]
  },
  {
   "cell_type": "markdown",
   "metadata": {
    "slideshow": {
     "slide_type": "subslide"
    }
   },
   "source": [
    "![open_folk](imagenes/Open-Folk-Nsh.jpg)"
   ]
  },
  {
   "cell_type": "markdown",
   "metadata": {
    "slideshow": {
     "slide_type": "subslide"
    }
   },
   "source": [
    "# Ipywidgets [Issue 2296](https://github.com/jupyter-widgets/ipywidgets/issues/2296)"
   ]
  },
  {
   "cell_type": "code",
   "execution_count": null,
   "metadata": {
    "slideshow": {
     "slide_type": "subslide"
    }
   },
   "outputs": [],
   "source": [
    "from traitlets import HasTraits, Float, observe, Unicode\n",
    "\n",
    "class CositoModel(HasTraits):\n",
    "    \n",
    "    tamanio  = Float()\n",
    "    nombre   = Unicode()\n",
    "    precio   = Float()\n",
    "    etiqueta = Unicode()\n",
    "    \n",
    "    def recalcular_precio(self):\n",
    "       pass\n",
    "\n",
    "    @observe('tamanio')\n",
    "    def llamado(self, cambio):\n",
    "        pass\n",
    "        \n",
    "    def __repr__(self):\n",
    "        pass"
   ]
  },
  {
   "cell_type": "code",
   "execution_count": null,
   "metadata": {
    "slideshow": {
     "slide_type": "subslide"
    }
   },
   "outputs": [],
   "source": [
    "import ipywidgets as widgets\n",
    "from traitlets import link\n",
    "from IPython.display import display\n",
    "\n",
    "class CositoVista:\n",
    "    def __init__(self, modelo):\n",
    "        self.model    = modelo\n",
    "        self.tipo     = widgets.Dropdown(options=[\"plastico\", \"metal\"])\n",
    "        self.etiqueta = widgets.Label('Original')\n",
    "        self.tamanio  = widgets.IntSlider()\n",
    "        self.precio   = widgets.FloatLogSlider()\n",
    "                \n",
    "        self.ipyview  = widgets.HBox([widgets.VBox([self.tipo, ]), \n",
    "                                      widgets.VBox([self.etiqueta, \n",
    "                                                    widgets.HBox([self.precio, self.tamanio])])])\n",
    " \n",
    "        link((modelo, 'tipo'), (self.tipo, 'value'))\n",
    "        link((modelo, 'etiqueta'), (self.etiqueta, 'value'))\n",
    "        link((modelo, 'precio'), (self.precio, 'value'))\n",
    "        link((modelo, 'tamanio'), (self.tamanio, 'value'))\n",
    "\n",
    "    def _ipython_display_(self):\n",
    "        display(self.ipyview)"
   ]
  },
  {
   "cell_type": "markdown",
   "metadata": {
    "slideshow": {
     "slide_type": "slide"
    }
   },
   "source": [
    "![redes](imagenes/voten_los_politicos_todo_es_fake.jpg)"
   ]
  },
  {
   "cell_type": "markdown",
   "metadata": {
    "slideshow": {
     "slide_type": "fragment"
    }
   },
   "source": [
    "# @sashaKile"
   ]
  },
  {
   "cell_type": "markdown",
   "metadata": {
    "slideshow": {
     "slide_type": "notes"
    }
   },
   "source": [
    "# Links\n",
    "\n",
    "https://nosonhorasweb.com.ar/wp-content/uploads/2019/06/Open-Folk-Nsh-69.jpg\n",
    "\n",
    "https://upload.wikimedia.org/wikipedia/commons/8/8f/Benito_Cerati_y_Charly_García.jpg \n",
    "\n",
    "https://posta.fm/tecla-cualquiera-90e4fb3ebd8a\n",
    "\n",
    "https://www.youtube.com/watch?v=QVJow3nwqSA\n",
    "\n",
    "https://www.youtube.com/watch?v=uhq0ZHpunB4\n",
    "\n",
    "https://www.youtube.com/watch?v=IZ7qVoO-l-E\n",
    "\n",
    "https://twitter.com/furorpodcast\n",
    "\n",
    "https://github.com/maartenbreddels/ipywebrtc\n",
    "\n",
    "https://github.com/jupyter-widgets/pythreejs\n",
    "\n",
    "https://github.com/jupyter-widgets/ipyleaflet\n",
    "\n",
    "https://github.com/maartenbreddels/ipyvolume\n",
    "\n",
    "https://github.com/martinRenou/ipycanvas\n",
    "\n",
    "https://github.com/JuanCab/AstroInteractives\n",
    "\n",
    "https://github.com/jupyter-widgets/tutorial\n",
    "\n",
    "http://www.centrofersrl.com/wp-content/uploads/2016/11/GRN.jpg"
   ]
  }
 ],
 "metadata": {
  "celltoolbar": "Slideshow",
  "kernelspec": {
   "display_name": "Python 3",
   "language": "python",
   "name": "python3"
  },
  "language_info": {
   "codemirror_mode": {
    "name": "ipython",
    "version": 3
   },
   "file_extension": ".py",
   "mimetype": "text/x-python",
   "name": "python",
   "nbconvert_exporter": "python",
   "pygments_lexer": "ipython3",
   "version": "3.8.0"
  }
 },
 "nbformat": 4,
 "nbformat_minor": 4
}
