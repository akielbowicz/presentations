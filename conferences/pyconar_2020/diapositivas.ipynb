{
 "cells": [
  {
   "cell_type": "markdown",
   "metadata": {
    "slideshow": {
     "slide_type": "notes"
    }
   },
   "source": [
    "# Chat"
   ]
  },
  {
   "cell_type": "markdown",
   "metadata": {
    "slideshow": {
     "slide_type": "notes"
    }
   },
   "source": [
    "- wpp\n",
    "- keep\n",
    "- wpp\n",
    "- tlg"
   ]
  },
  {
   "cell_type": "markdown",
   "metadata": {
    "slideshow": {
     "slide_type": "slide"
    }
   },
   "source": [
    "<!-- .slide: data-background=\"#1A237E\" -->\n",
    "# Conozco un grupo de objetos que resuelven problemas"
   ]
  },
  {
   "cell_type": "markdown",
   "metadata": {
    "slideshow": {
     "slide_type": "fragment"
    }
   },
   "source": [
    "*En algun lugar de Argentina, en algun momento de 2020*"
   ]
  },
  {
   "cell_type": "markdown",
   "metadata": {
    "slideshow": {
     "slide_type": "slide"
    }
   },
   "source": [
    "`Ep.1 El origen de una solución`\n",
    "\n",
    "`Ep.2 El problema en la serpiente`\n",
    "\n",
    "`Ep.3 Cuatro porciones para llevar`\n",
    "\n",
    "`Ep.4 El recambio de yerba`"
   ]
  },
  {
   "cell_type": "markdown",
   "metadata": {
    "slideshow": {
     "slide_type": "slide"
    }
   },
   "source": [
    "`Hoy presentamos`\n",
    "## Ep.1 El origen de una solución"
   ]
  },
  {
   "cell_type": "markdown",
   "metadata": {
    "slideshow": {
     "slide_type": "slide"
    }
   },
   "source": [
    "#### Investigacion"
   ]
  },
  {
   "cell_type": "markdown",
   "metadata": {
    "slideshow": {
     "slide_type": "fragment"
    }
   },
   "source": [
    "[keep.google.com](https://keep.google.com/)"
   ]
  },
  {
   "cell_type": "markdown",
   "metadata": {
    "slideshow": {
     "slide_type": "fragment"
    }
   },
   "source": [
    "[takeout.google.com](https://takeout.google.com)"
   ]
  },
  {
   "cell_type": "markdown",
   "metadata": {
    "slideshow": {
     "slide_type": "notes"
    }
   },
   "source": [
    "# M\n",
    "usa Google Keep para copiar los links y almacenarlos. Google da la posibilidad de exportar los datos a travez de takeout.google.com\n",
    "y pueden descargarse en formato json o html. Recientemente, empezo a armar un blog con Nikola asi que seria posible armar algo que transforme los json a un post"
   ]
  },
  {
   "cell_type": "markdown",
   "metadata": {
    "slideshow": {
     "slide_type": "subslide"
    }
   },
   "source": [
    "```python\n",
    "{'color': str,\n",
    " 'isTrashed': bool,\n",
    " 'isPinned': bool,\n",
    " 'isArchived': bool,\n",
    " 'annotations': list,\n",
    " 'textContent': str,\n",
    " 'title': str,\n",
    " 'userEditedTimestampUsec': int}\n",
    "```"
   ]
  },
  {
   "cell_type": "markdown",
   "metadata": {
    "slideshow": {
     "slide_type": "subslide"
    }
   },
   "source": [
    "```python\n",
    "# annotations\n",
    "{'description': str,\n",
    " 'source': str, \n",
    " 'title': str, \n",
    " 'url': str}\n",
    "```"
   ]
  },
  {
   "cell_type": "markdown",
   "metadata": {
    "slideshow": {
     "slide_type": "subslide"
    }
   },
   "source": [
    "```\n",
    "2016: 8 \n",
    "2017: 69\n",
    "2018: 115\n",
    "2019: 98\n",
    "2020: 65\n",
    "```"
   ]
  },
  {
   "cell_type": "markdown",
   "metadata": {
    "slideshow": {
     "slide_type": "fragment"
    }
   },
   "source": [
    "**Total: 355**"
   ]
  },
  {
   "cell_type": "markdown",
   "metadata": {
    "slideshow": {
     "slide_type": "slide"
    }
   },
   "source": [
    "`¿Qué son los decoradores?`"
   ]
  },
  {
   "cell_type": "markdown",
   "metadata": {
    "slideshow": {
     "slide_type": "subslide"
    }
   },
   "source": [
    "```\n",
    "On the name 'Decorator'\n",
    "\n",
    "There's been a number of complaints about \n",
    "the choice of the name 'decorator' for this feature.\n",
    "The major one is that the name is not consistent\n",
    "with its use in the GoF book [11].\n",
    "The name 'decorator' probably owes more to its\n",
    "use in the compiler area -- a syntax tree \n",
    "is walked and annotated.\n",
    "It's quite possible that a better name may turn up.\n",
    "```\n",
    "[PEP 318](https://www.python.org/dev/peps/pep-0318/#on-the-name-decorator)"
   ]
  },
  {
   "cell_type": "markdown",
   "metadata": {
    "slideshow": {
     "slide_type": "slide"
    }
   },
   "source": [
    "`Hoy presentamos`\n",
    "\n",
    "## Ep.2 El problema en la serpiente"
   ]
  },
  {
   "cell_type": "markdown",
   "metadata": {
    "slideshow": {
     "slide_type": "skip"
    }
   },
   "source": [
    "Decorators are often described as \"functions which take functions and return functions\", a description which is notable in that, technically speaking, not a single word of it is true. What is true is the following:"
   ]
  },
  {
   "cell_type": "markdown",
   "metadata": {
    "slideshow": {
     "slide_type": "subslide"
    }
   },
   "source": [
    "```\n",
    "Los *decoradores*\n",
    "```"
   ]
  },
  {
   "cell_type": "markdown",
   "metadata": {
    "slideshow": {
     "slide_type": "fragment"
    }
   },
   "source": [
    "```\n",
    "son funciones \n",
    "```"
   ]
  },
  {
   "cell_type": "markdown",
   "metadata": {
    "slideshow": {
     "slide_type": "fragment"
    }
   },
   "source": [
    "```\n",
    "que reciben funciones \n",
    "```"
   ]
  },
  {
   "cell_type": "markdown",
   "metadata": {
    "slideshow": {
     "slide_type": "fragment"
    }
   },
   "source": [
    "```\n",
    "y devuelven funciones\n",
    "```"
   ]
  },
  {
   "cell_type": "markdown",
   "metadata": {
    "slideshow": {
     "slide_type": "subslide"
    }
   },
   "source": [
    "Los `decoradores` son aplicados una sola vez, en el momento en que se define un objeto (*at definition time*)"
   ]
  },
  {
   "cell_type": "markdown",
   "metadata": {
    "slideshow": {
     "slide_type": "subslide"
    }
   },
   "source": [
    "Anotar la definicion de una funcion \n",
    "`funcion_usual` con un decorador `@decorar_con_magia` \n",
    "es equivalente a definir `funcion_usual` \n",
    "e inmediatamente despues redefinirla como \n",
    "\n",
    "`funcion_usual = decorar_con_magia(funcion_usual)`"
   ]
  },
  {
   "cell_type": "code",
   "execution_count": 1,
   "metadata": {
    "slideshow": {
     "slide_type": "subslide"
    }
   },
   "outputs": [],
   "source": [
    "def decorar_con_magia(objeto_a_decorar):\n",
    "    def envoltorio(argumento):\n",
    "            print('\\N{Sparkles} Aqui hay magia  \\N{Sparkles}')\n",
    "            x = objeto_a_decorar(argumento)\n",
    "            print('\\N{sparkles} Chin pum \\N{Sparkles}')\n",
    "            return x\n",
    "    return envoltorio"
   ]
  },
  {
   "cell_type": "code",
   "execution_count": 2,
   "metadata": {
    "slideshow": {
     "slide_type": "subslide"
    }
   },
   "outputs": [],
   "source": [
    "def funcion_usual(argumento):\n",
    "    print(f'Esto es una funcion que recibio {argumento}')\n",
    "    return str(argumento)"
   ]
  },
  {
   "cell_type": "code",
   "execution_count": 4,
   "metadata": {
    "slideshow": {
     "slide_type": "subslide"
    }
   },
   "outputs": [
    {
     "name": "stdout",
     "output_type": "stream",
     "text": [
      "✨ Aqui hay magia  ✨\n",
      "Esto es una funcion que recibio 22\n",
      "✨ Chin pum ✨\n"
     ]
    },
    {
     "data": {
      "text/plain": [
       "'22'"
      ]
     },
     "execution_count": 4,
     "metadata": {},
     "output_type": "execute_result"
    }
   ],
   "source": [
    "decorar_con_magia(funcion_usual)(22)"
   ]
  },
  {
   "cell_type": "markdown",
   "metadata": {
    "slideshow": {
     "slide_type": "slide"
    }
   },
   "source": [
    "```\n",
    "Decorar una funcion \n",
    "primero con @extraer_lo_usual\n",
    "y despues con @decorar_con_magia, en ese orden, \n",
    "es equivalente a realizar\n",
    "```\n",
    "`decorar_con_magia(extraer_lo_usual(otra_funcion_usual))`"
   ]
  },
  {
   "cell_type": "code",
   "execution_count": 5,
   "metadata": {
    "slideshow": {
     "slide_type": "subslide"
    }
   },
   "outputs": [],
   "source": [
    "def extraer_lo_usual(objeto_a_decorar):\n",
    "    def envoltorio(arg):\n",
    "        print('Interceptando ...')\n",
    "        return f'Este llamado fue interceptado con {objeto_a_decorar.__name__}({arg})'\n",
    "    return envoltorio"
   ]
  },
  {
   "cell_type": "code",
   "execution_count": 6,
   "metadata": {
    "slideshow": {
     "slide_type": "subslide"
    }
   },
   "outputs": [],
   "source": [
    "@decorar_con_magia\n",
    "@extraer_lo_usual\n",
    "def otra_funcion_usual(argumento):\n",
    "    return f'El argumento fue {argumento}'"
   ]
  },
  {
   "cell_type": "code",
   "execution_count": 7,
   "metadata": {
    "slideshow": {
     "slide_type": "fragment"
    }
   },
   "outputs": [
    {
     "name": "stdout",
     "output_type": "stream",
     "text": [
      "✨ Aqui hay magia  ✨\n",
      "Interceptando ...\n",
      "✨ Chin pum ✨\n"
     ]
    },
    {
     "data": {
      "text/plain": [
       "'Este llamado fue interceptado con otra_funcion_usual(2)'"
      ]
     },
     "execution_count": 7,
     "metadata": {},
     "output_type": "execute_result"
    }
   ],
   "source": [
    "otra_funcion_usual(2)"
   ]
  },
  {
   "cell_type": "code",
   "execution_count": 8,
   "metadata": {
    "slideshow": {
     "slide_type": "subslide"
    }
   },
   "outputs": [],
   "source": [
    "def otra_funcion_usual(argumento):\n",
    "    return f'El argumento fue {argumento}'\n",
    "    \n",
    "otra_funcion_usual = decorar_con_magia(extraer_lo_usual(otra_funcion_usual))"
   ]
  },
  {
   "cell_type": "code",
   "execution_count": 9,
   "metadata": {
    "slideshow": {
     "slide_type": "fragment"
    }
   },
   "outputs": [
    {
     "name": "stdout",
     "output_type": "stream",
     "text": [
      "✨ Aqui hay magia  ✨\n",
      "Interceptando ...\n",
      "✨ Chin pum ✨\n"
     ]
    },
    {
     "data": {
      "text/plain": [
       "'Este llamado fue interceptado con otra_funcion_usual(2)'"
      ]
     },
     "execution_count": 9,
     "metadata": {},
     "output_type": "execute_result"
    }
   ],
   "source": [
    "otra_funcion_usual(2)"
   ]
  },
  {
   "cell_type": "markdown",
   "metadata": {
    "slideshow": {
     "slide_type": "slide"
    }
   },
   "source": [
    "### Mitos "
   ]
  },
  {
   "cell_type": "markdown",
   "metadata": {
    "slideshow": {
     "slide_type": "slide"
    }
   },
   "source": [
    "#### Los `decoradores` devuelven funciones\n",
    "\n",
    "<!-- Decorators return functions -->"
   ]
  },
  {
   "cell_type": "code",
   "execution_count": 10,
   "metadata": {
    "slideshow": {
     "slide_type": "subslide"
    }
   },
   "outputs": [],
   "source": [
    "def imprimir_y_nada_mas(objeto_a_decorar):\n",
    "    print(objeto_a_decorar)"
   ]
  },
  {
   "cell_type": "code",
   "execution_count": 11,
   "metadata": {
    "slideshow": {
     "slide_type": "subslide"
    }
   },
   "outputs": [
    {
     "name": "stdout",
     "output_type": "stream",
     "text": [
      "<function funcion_que_transforma_su_argumento at 0x7f1b7813db80>\n"
     ]
    }
   ],
   "source": [
    "@imprimir_y_nada_mas\n",
    "def funcion_que_transforma_su_argumento(argumento):\n",
    "    return str(argumento) * 10"
   ]
  },
  {
   "cell_type": "code",
   "execution_count": 13,
   "metadata": {
    "slideshow": {
     "slide_type": "subslide"
    }
   },
   "outputs": [
    {
     "ename": "TypeError",
     "evalue": "'NoneType' object is not callable",
     "output_type": "error",
     "traceback": [
      "\u001b[0;31m---------------------------------------------------------------------------\u001b[0m",
      "\u001b[0;31mTypeError\u001b[0m                                 Traceback (most recent call last)",
      "\u001b[0;32m<ipython-input-13-448d641bdd6e>\u001b[0m in \u001b[0;36m<module>\u001b[0;34m\u001b[0m\n\u001b[0;32m----> 1\u001b[0;31m \u001b[0mfuncion_que_transforma_su_argumento\u001b[0m\u001b[0;34m(\u001b[0m\u001b[0;36m1\u001b[0m\u001b[0;34m)\u001b[0m\u001b[0;34m\u001b[0m\u001b[0;34m\u001b[0m\u001b[0m\n\u001b[0m",
      "\u001b[0;31mTypeError\u001b[0m: 'NoneType' object is not callable"
     ]
    }
   ],
   "source": [
    "funcion_que_transforma_su_argumento(1)"
   ]
  },
  {
   "cell_type": "markdown",
   "metadata": {
    "slideshow": {
     "slide_type": "slide"
    }
   },
   "source": [
    "<!-- Myth the second  -->\n",
    "#### Los `decoradores` son funciones"
   ]
  },
  {
   "cell_type": "code",
   "execution_count": 14,
   "metadata": {
    "slideshow": {
     "slide_type": "subslide"
    }
   },
   "outputs": [],
   "source": [
    "class GranControlador:\n",
    "    \n",
    "    def __init__(self, decorando):\n",
    "        self._decorando = decorando\n",
    "        self.registro_de_llamadas = []\n",
    "        \n",
    "    def __call__(self, argumento):\n",
    "        self.registro_de_llamadas.append(argumento)\n",
    "        respuesta = self._decorando(argumento)\n",
    "        return f'Si me lo permite, su respuesta es {respuesta}'"
   ]
  },
  {
   "cell_type": "code",
   "execution_count": 15,
   "metadata": {
    "slideshow": {
     "slide_type": "subslide"
    }
   },
   "outputs": [],
   "source": [
    "@GranControlador\n",
    "def identidad(x):\n",
    "    return x"
   ]
  },
  {
   "cell_type": "code",
   "execution_count": 16,
   "metadata": {
    "slideshow": {
     "slide_type": "subslide"
    }
   },
   "outputs": [
    {
     "data": {
      "text/plain": [
       "'Si me lo permite, su respuesta es 1'"
      ]
     },
     "execution_count": 16,
     "metadata": {},
     "output_type": "execute_result"
    }
   ],
   "source": [
    "identidad('1')"
   ]
  },
  {
   "cell_type": "code",
   "execution_count": 17,
   "metadata": {
    "slideshow": {
     "slide_type": "subslide"
    }
   },
   "outputs": [
    {
     "data": {
      "text/plain": [
       "'Si me lo permite, su respuesta es 100'"
      ]
     },
     "execution_count": 17,
     "metadata": {},
     "output_type": "execute_result"
    }
   ],
   "source": [
    "identidad(100)"
   ]
  },
  {
   "cell_type": "code",
   "execution_count": 18,
   "metadata": {
    "slideshow": {
     "slide_type": "subslide"
    }
   },
   "outputs": [
    {
     "data": {
      "text/plain": [
       "['1', 100]"
      ]
     },
     "execution_count": 18,
     "metadata": {},
     "output_type": "execute_result"
    }
   ],
   "source": [
    "identidad.registro_de_llamadas"
   ]
  },
  {
   "cell_type": "markdown",
   "metadata": {
    "slideshow": {
     "slide_type": "slide"
    }
   },
   "source": [
    "<!-- Myth the third -  -->\n",
    "#### Los `decoradores` reciben funciones"
   ]
  },
  {
   "cell_type": "code",
   "execution_count": 19,
   "metadata": {
    "slideshow": {
     "slide_type": "subslide"
    }
   },
   "outputs": [],
   "source": [
    "def contar_cuantos_hay(funcion):\n",
    "    return funcion()"
   ]
  },
  {
   "cell_type": "code",
   "execution_count": 20,
   "metadata": {
    "slideshow": {
     "slide_type": "subslide"
    }
   },
   "outputs": [],
   "source": [
    "@len\n",
    "@contar_cuantos_hay\n",
    "def armar_lista():\n",
    "    return ['1',1]"
   ]
  },
  {
   "cell_type": "code",
   "execution_count": 21,
   "metadata": {
    "slideshow": {
     "slide_type": "subslide"
    }
   },
   "outputs": [
    {
     "data": {
      "text/plain": [
       "2"
      ]
     },
     "execution_count": 21,
     "metadata": {},
     "output_type": "execute_result"
    }
   ],
   "source": [
    "armar_lista"
   ]
  },
  {
   "cell_type": "markdown",
   "metadata": {
    "slideshow": {
     "slide_type": "slide"
    }
   },
   "source": [
    "`Hoy presentamos`\n",
    "\n",
    "## Ep.3 Cuatro porciones para llevar"
   ]
  },
  {
   "cell_type": "markdown",
   "metadata": {
    "slideshow": {
     "slide_type": "skip"
    }
   },
   "source": [
    "Exponer una distinción en los distintos usos/tipos de decoradores"
   ]
  },
  {
   "cell_type": "markdown",
   "metadata": {
    "slideshow": {
     "slide_type": "slide"
    }
   },
   "source": [
    "### `Decoradores` para anotar"
   ]
  },
  {
   "cell_type": "code",
   "execution_count": 23,
   "metadata": {
    "slideshow": {
     "slide_type": "subslide"
    }
   },
   "outputs": [
    {
     "name": "stderr",
     "output_type": "stream",
     "text": [
      ".s\n",
      "----------------------------------------------------------------------\n",
      "Ran 2 tests in 0.073s\n",
      "\n",
      "OK (skipped=1)\n"
     ]
    },
    {
     "data": {
      "text/plain": [
       "<unittest.runner.TextTestResult run=2 errors=0 failures=0>"
      ]
     },
     "execution_count": 23,
     "metadata": {},
     "output_type": "execute_result"
    }
   ],
   "source": [
    "import unittest \n",
    "\n",
    " \n",
    "suite = unittest.TestSuite()\n",
    "runner = unittest.TextTestRunner()\n",
    "\n",
    "class TesteoFallando(unittest.TestCase):\n",
    "    \n",
    "    def test_que_funciona(self):\n",
    "        self.assertEqual(1,int(str(1)))\n",
    "    \n",
    "    @unittest.skip\n",
    "    def test_que_no_se_porque_falla(self):\n",
    "        self.assertEqual(2+1-1,2.00001)\n",
    "        \n",
    "       \n",
    "suite.addTests([TesteoFallando('test_que_funciona'),\n",
    "                TesteoFallando('test_que_no_se_porque_falla')\n",
    "               ])\n",
    "\n",
    "runner.run(suite)"
   ]
  },
  {
   "cell_type": "markdown",
   "metadata": {
    "slideshow": {
     "slide_type": "slide"
    }
   },
   "source": [
    "### `Decoradores` para registrar"
   ]
  },
  {
   "cell_type": "code",
   "execution_count": 24,
   "metadata": {
    "slideshow": {
     "slide_type": "subslide"
    }
   },
   "outputs": [],
   "source": [
    "import discard\n",
    "\n",
    "@discard.Statistics.register\n",
    "class CountPosts:\n",
    "    \n",
    "    def __call__(self,posts):\n",
    "        return len(posts)"
   ]
  },
  {
   "cell_type": "markdown",
   "metadata": {
    "slideshow": {
     "slide_type": "slide"
    }
   },
   "source": [
    "### `Decoradores` para verificacion"
   ]
  },
  {
   "cell_type": "code",
   "execution_count": 25,
   "metadata": {
    "slideshow": {
     "slide_type": "subslide"
    }
   },
   "outputs": [],
   "source": [
    "import discard\n",
    "\n",
    "@discard.Validate.clear_emails\n",
    "class Content(discard.Data):\n",
    "    pass"
   ]
  },
  {
   "cell_type": "markdown",
   "metadata": {
    "slideshow": {
     "slide_type": "slide"
    }
   },
   "source": [
    "### `Decoradores` para *dispatch*"
   ]
  },
  {
   "cell_type": "code",
   "execution_count": 26,
   "metadata": {
    "slideshow": {
     "slide_type": "subslide"
    }
   },
   "outputs": [],
   "source": [
    "def serializar_embellecido(x):\n",
    "    if isinstance(x, int):\n",
    "        return f'Entero({x})'\n",
    "    elif isinstance(x, float):\n",
    "        return f'Flotante({x:0.2f})'\n",
    "    else:\n",
    "        return f'OtraCosa({x})'"
   ]
  },
  {
   "cell_type": "code",
   "execution_count": 27,
   "metadata": {
    "slideshow": {
     "slide_type": "fragment"
    }
   },
   "outputs": [
    {
     "data": {
      "text/plain": [
       "['Entero(1)', 'Flotante(0.99)', 'Entero(False)']"
      ]
     },
     "execution_count": 27,
     "metadata": {},
     "output_type": "execute_result"
    }
   ],
   "source": [
    "[serializar_embellecido(1),serializar_embellecido(0.99),serializar_embellecido(False)]"
   ]
  },
  {
   "cell_type": "code",
   "execution_count": 28,
   "metadata": {
    "slideshow": {
     "slide_type": "subslide"
    }
   },
   "outputs": [],
   "source": [
    "from functools import singledispatch\n",
    "\n",
    "@singledispatch\n",
    "def serializar_embellecido(x):\n",
    "    return str(x)\n",
    "    \n",
    "@serializar_embellecido.register(int)\n",
    "def _(x):\n",
    "    return f'Entero({x})'\n",
    "\n",
    "@serializar_embellecido.register(float)\n",
    "def _(x):\n",
    "    return f'Flotante({x:0.2f})'\n",
    "\n",
    "@serializar_embellecido.register(bool)\n",
    "def _(x):\n",
    "    return f'Bool({int(x)})'"
   ]
  },
  {
   "cell_type": "code",
   "execution_count": 29,
   "metadata": {
    "slideshow": {
     "slide_type": "subslide"
    }
   },
   "outputs": [
    {
     "data": {
      "text/plain": [
       "['Entero(100)', 'Flotante(99.90)', 'Bool(1)']"
      ]
     },
     "execution_count": 29,
     "metadata": {},
     "output_type": "execute_result"
    }
   ],
   "source": [
    "[serializar_embellecido(100),serializar_embellecido(99.9),serializar_embellecido(True)]"
   ]
  },
  {
   "cell_type": "markdown",
   "metadata": {
    "slideshow": {
     "slide_type": "slide"
    }
   },
   "source": [
    "`Hoy presentamos`\n",
    "\n",
    "## Ep.4 El recambio de yerba"
   ]
  },
  {
   "cell_type": "markdown",
   "metadata": {
    "slideshow": {
     "slide_type": "subslide"
    }
   },
   "source": [
    "Es una caracteristica sintactica de Python, "
   ]
  },
  {
   "cell_type": "markdown",
   "metadata": {
    "slideshow": {
     "slide_type": "fragment"
    }
   },
   "source": [
    "*syntactic sugar*"
   ]
  },
  {
   "cell_type": "markdown",
   "metadata": {
    "slideshow": {
     "slide_type": "subslide"
    }
   },
   "source": [
    "Utilizarlos es una decision de disenio"
   ]
  },
  {
   "cell_type": "markdown",
   "metadata": {
    "slideshow": {
     "slide_type": "subslide"
    }
   },
   "source": [
    "- Nos permite factorizar responsabilidades"
   ]
  },
  {
   "cell_type": "markdown",
   "metadata": {
    "slideshow": {
     "slide_type": "subslide"
    }
   },
   "source": [
    "- Evitar repeticion de codigo"
   ]
  },
  {
   "cell_type": "markdown",
   "metadata": {
    "slideshow": {
     "slide_type": "slide"
    }
   },
   "source": [
    "### **Cuidado**"
   ]
  },
  {
   "cell_type": "markdown",
   "metadata": {
    "slideshow": {
     "slide_type": "fragment"
    }
   },
   "source": [
    "- Agrega complejidad en **una sola linea** "
   ]
  },
  {
   "cell_type": "markdown",
   "metadata": {
    "slideshow": {
     "slide_type": "fragment"
    }
   },
   "source": [
    "- Puede traer dificultades al debuguear"
   ]
  },
  {
   "cell_type": "markdown",
   "metadata": {
    "slideshow": {
     "slide_type": "fragment"
    }
   },
   "source": [
    "- No se puede obtener el objeto original una vez decorado"
   ]
  },
  {
   "cell_type": "markdown",
   "metadata": {
    "slideshow": {
     "slide_type": "subslide"
    }
   },
   "source": [
    "#### Una buena guia del uso de un decorador es: "
   ]
  },
  {
   "cell_type": "markdown",
   "metadata": {
    "slideshow": {
     "slide_type": "fragment"
    }
   },
   "source": [
    "```\n",
    "Utilizarlo para agregar comportamiento\n",
    "que es ortogonal al comportamiento original del objeto,\n",
    "manteniendo el protocolo del objeto que es decorado\n",
    "```"
   ]
  },
  {
   "cell_type": "markdown",
   "metadata": {
    "slideshow": {
     "slide_type": "slide"
    }
   },
   "source": [
    "# Gracias!"
   ]
  },
  {
   "cell_type": "markdown",
   "metadata": {
    "slideshow": {
     "slide_type": "fragment"
    }
   },
   "source": [
    "```python\n",
    "@sashaKile\n",
    "def tweet(msg='Hola'):\n",
    "    twitter.post(msg)\n",
    "```"
   ]
  },
  {
   "cell_type": "markdown",
   "metadata": {
    "slideshow": {
     "slide_type": "subslide"
    }
   },
   "source": [
    "`pip install discard`"
   ]
  },
  {
   "cell_type": "markdown",
   "metadata": {
    "slideshow": {
     "slide_type": "slide"
    }
   },
   "source": [
    "# Fuentes\n",
    "\n",
    "[Los Simuladores](https://telefe.com/los-simuladores)\n",
    "\n",
    "[the decorators they wont tell you about](https://github.com/hchasestevens/hchasestevens.github.io/blob/master/notebooks/the-decorators-they-wont-tell-you-about.ipynb)\n",
    "\n",
    "[PEP 318 - Decorators for Functions and Methods](https://www.python.org/dev/peps/pep-0318/)\n",
    "\n",
    "\n",
    "\n",
    "[Conozco un grupo de objetos que resuelven problemas](https://hackmd.io/@saxak/charlas_pyconar_2020)"
   ]
  },
  {
   "cell_type": "code",
   "execution_count": null,
   "metadata": {},
   "outputs": [],
   "source": [
    "Conozco un grupo de objetos que resuelven problemas\n",
    "\n",
    "Los Decoradores:`\n",
    "\n",
    "Ep.1 El origen de una solución\n",
    "Ep.2 El problema en la serpiente\n",
    "Ep.3 Cuatro porciones para llevar\n",
    "Ep.4 El recambio de yerba\n",
    "\n",
    "En la charla voy a hablar sobre\n",
    "¿Qué son los decoradores?\n",
    "¿Cómo se implementan los decoradores en Python?\n",
    "Exponer una distinción en los distintos usos/tipos de decoradores\n",
    "Exponer mis opiniones sobre que tener en cuenta al utilizar decoradores\n",
    "\n",
    "¿Qué son los decoradores?\n",
    "\n",
    "Los decoradores como patrón de diseño,\n",
    "\n",
    "¿Cómo se usan los decoradores en Python?\n",
    "\n",
    "Objeto que recibe un Callable y devuelve un callable\n",
    "\n",
    "Distinción de los distintos tipos de decoradores que se pueden implementar\n",
    "\n",
    "Tagging, Control flow, Descriptive, Executing\n",
    "\n",
    "Cosas importantes a tener en cuenta al utilizar decoradores\n",
    "\n",
    "Agregar características ortogonales a nuestros objetos de manera dinámica\n",
    "Agrega complejidad en una sola línea de código\n",
    "Implementación, función, parametrizable, clase"
   ]
  },
  {
   "cell_type": "markdown",
   "metadata": {},
   "source": [
    "https://docs.python.org/3/library/contextlib.html?highlight=decorator\n",
    "\n",
    "https://docs.python.org/3/library/unittest.mock-examples.html?highlight=decorator#patch-decorators\n",
    "\n",
    "https://docs.python.org/3/library/functools.html?highlight=singledispatch#functools.singledispatch"
   ]
  }
 ],
 "metadata": {
  "celltoolbar": "Slideshow",
  "kernelspec": {
   "display_name": "Python 3",
   "language": "python",
   "name": "python3"
  },
  "language_info": {
   "codemirror_mode": {
    "name": "ipython",
    "version": 3
   },
   "file_extension": ".py",
   "mimetype": "text/x-python",
   "name": "python",
   "nbconvert_exporter": "python",
   "pygments_lexer": "ipython3",
   "version": "3.8.6"
  }
 },
 "nbformat": 4,
 "nbformat_minor": 4
}
