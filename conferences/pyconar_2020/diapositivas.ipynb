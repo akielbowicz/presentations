{
 "cells": [
  {
   "cell_type": "markdown",
   "metadata": {
    "slideshow": {
     "slide_type": "slide"
    }
   },
   "source": [
    "<!-- .slide: data-background=\"#1A237E\" -->\n",
    "# Conozco un grupo de objetos que resuelven problemas"
   ]
  },
  {
   "cell_type": "markdown",
   "metadata": {},
   "source": [
    "## Ep.1 El origen de una solución"
   ]
  },
  {
   "cell_type": "markdown",
   "metadata": {},
   "source": [
    "¿Qué son los decoradores?"
   ]
  },
  {
   "cell_type": "markdown",
   "metadata": {},
   "source": [
    "```\n",
    "On the name 'Decorator'\n",
    "\n",
    "There's been a number of complaints about the choice of the name 'decorator' for this feature. The major one is that the name is not consistent with its use in the GoF book [11]. The name 'decorator' probably owes more to its use in the compiler area -- a syntax tree is walked and annotated. It's quite possible that a better name may turn up.\n",
    "```\n",
    "[PEP 318](https://www.python.org/dev/peps/pep-0318/#on-the-name-decorator)"
   ]
  },
  {
   "cell_type": "markdown",
   "metadata": {
    "slideshow": {
     "slide_type": "slide"
    }
   },
   "source": [
    "Decorators are often described as \"functions which take functions and return functions\", a description which is notable in that, technically speaking, not a single word of it is true. What is true is the following:\n",
    "\n",
    "    Decorators are applied once, at function definition time.\n",
    "    Annotating a function definition x with a decorator @d is equivalent to defining x, then, immediately afterward, having x = d(x).\n",
    "    Decorating a function with @d and @e, in that order, is equivalent to performing x = d(e(x)) after the function's definition."
   ]
  },
  {
   "cell_type": "code",
   "execution_count": 15,
   "metadata": {
    "slideshow": {
     "slide_type": "slide"
    }
   },
   "outputs": [],
   "source": [
    "def f():\n",
    "    x = 1\n",
    "    return x"
   ]
  },
  {
   "cell_type": "code",
   "execution_count": 11,
   "metadata": {
    "slideshow": {
     "slide_type": "slide"
    }
   },
   "outputs": [],
   "source": [
    "def g(x):\n",
    "    return x"
   ]
  },
  {
   "cell_type": "code",
   "execution_count": 12,
   "metadata": {
    "slideshow": {
     "slide_type": "slide"
    }
   },
   "outputs": [],
   "source": [
    "@g\n",
    "def h(x):\n",
    "    return x**2"
   ]
  },
  {
   "cell_type": "code",
   "execution_count": 13,
   "metadata": {
    "slideshow": {
     "slide_type": "slide"
    }
   },
   "outputs": [
    {
     "data": {
      "text/plain": [
       "4"
      ]
     },
     "execution_count": 13,
     "metadata": {},
     "output_type": "execute_result"
    }
   ],
   "source": [
    "h(2)"
   ]
  },
  {
   "cell_type": "markdown",
   "metadata": {},
   "source": [
    "Myth the first - decorators return functions"
   ]
  },
  {
   "cell_type": "code",
   "execution_count": 1,
   "metadata": {},
   "outputs": [],
   "source": [
    "def x(a):\n",
    "    print(a)"
   ]
  },
  {
   "cell_type": "code",
   "execution_count": 2,
   "metadata": {},
   "outputs": [
    {
     "name": "stdout",
     "output_type": "stream",
     "text": [
      "<function b at 0x7f56ec514310>\n"
     ]
    }
   ],
   "source": [
    "@x\n",
    "def b(s):\n",
    "    return s"
   ]
  },
  {
   "cell_type": "code",
   "execution_count": 4,
   "metadata": {},
   "outputs": [
    {
     "ename": "TypeError",
     "evalue": "'NoneType' object is not callable",
     "output_type": "error",
     "traceback": [
      "\u001b[0;31m---------------------------------------------------------------------------\u001b[0m",
      "\u001b[0;31mTypeError\u001b[0m                                 Traceback (most recent call last)",
      "\u001b[0;32m<ipython-input-4-26640def2b8a>\u001b[0m in \u001b[0;36m<module>\u001b[0;34m\u001b[0m\n\u001b[0;32m----> 1\u001b[0;31m \u001b[0mb\u001b[0m\u001b[0;34m(\u001b[0m\u001b[0;36m1\u001b[0m\u001b[0;34m)\u001b[0m\u001b[0;34m\u001b[0m\u001b[0;34m\u001b[0m\u001b[0m\n\u001b[0m",
      "\u001b[0;31mTypeError\u001b[0m: 'NoneType' object is not callable"
     ]
    }
   ],
   "source": [
    "b(1)"
   ]
  },
  {
   "cell_type": "markdown",
   "metadata": {},
   "source": [
    "Myth the second - decorators are functions"
   ]
  },
  {
   "cell_type": "code",
   "execution_count": 30,
   "metadata": {},
   "outputs": [],
   "source": [
    "class A:\n",
    "    \n",
    "    def __init__(self,x):\n",
    "        self.x = x\n",
    "        \n",
    "    def __call__(self,y):\n",
    "        return self.__class__([self.x] + [y])\n",
    "    \n",
    "    def __repr__(self):\n",
    "        return f'A({self.x})'\n",
    "    \n",
    "    def __len__(self):\n",
    "        return len(self.x)"
   ]
  },
  {
   "cell_type": "code",
   "execution_count": 31,
   "metadata": {},
   "outputs": [],
   "source": [
    "@A(1)\n",
    "def z(s):\n",
    "    return s"
   ]
  },
  {
   "cell_type": "code",
   "execution_count": 32,
   "metadata": {},
   "outputs": [
    {
     "data": {
      "text/plain": [
       "A([[1, <function z at 0x7f56ec496e50>], 3])"
      ]
     },
     "execution_count": 32,
     "metadata": {},
     "output_type": "execute_result"
    }
   ],
   "source": [
    "z(3)"
   ]
  },
  {
   "cell_type": "code",
   "execution_count": 33,
   "metadata": {},
   "outputs": [],
   "source": [
    "f = lambda x: z(x)"
   ]
  },
  {
   "cell_type": "code",
   "execution_count": 34,
   "metadata": {},
   "outputs": [],
   "source": [
    "@f\n",
    "def q(s):\n",
    "    return s"
   ]
  },
  {
   "cell_type": "code",
   "execution_count": 35,
   "metadata": {},
   "outputs": [
    {
     "data": {
      "text/plain": [
       "A([[[1, <function z at 0x7f56ec496e50>], <function q at 0x7f56ec496820>], 3])"
      ]
     },
     "execution_count": 35,
     "metadata": {},
     "output_type": "execute_result"
    }
   ],
   "source": [
    "q(3)"
   ]
  },
  {
   "cell_type": "markdown",
   "metadata": {},
   "source": [
    "Myth the third - decorators take functions"
   ]
  },
  {
   "cell_type": "code",
   "execution_count": 36,
   "metadata": {},
   "outputs": [],
   "source": [
    "@float\n",
    "@len\n",
    "@q\n",
    "def w():\n",
    "    return ['1',1]"
   ]
  },
  {
   "cell_type": "code",
   "execution_count": 38,
   "metadata": {},
   "outputs": [
    {
     "data": {
      "text/plain": [
       "2.0"
      ]
     },
     "execution_count": 38,
     "metadata": {},
     "output_type": "execute_result"
    }
   ],
   "source": [
    "w"
   ]
  },
  {
   "cell_type": "code",
   "execution_count": 58,
   "metadata": {},
   "outputs": [],
   "source": [
    "class F(float):\n",
    "    \n",
    "    def __call__(self,x=0.0):\n",
    "        return F(self + x)"
   ]
  },
  {
   "cell_type": "code",
   "execution_count": 59,
   "metadata": {},
   "outputs": [
    {
     "data": {
      "text/plain": [
       "2.0"
      ]
     },
     "execution_count": 59,
     "metadata": {},
     "output_type": "execute_result"
    }
   ],
   "source": [
    "F()()()() + 2"
   ]
  },
  {
   "cell_type": "code",
   "execution_count": 60,
   "metadata": {},
   "outputs": [],
   "source": [
    "def m(x):\n",
    "    @q\n",
    "    def d(a):\n",
    "        return a\n",
    "    return d"
   ]
  },
  {
   "cell_type": "code",
   "execution_count": 61,
   "metadata": {},
   "outputs": [
    {
     "data": {
      "text/plain": [
       "A([[[1, <function z at 0x7f56ec496e50>], <function q at 0x7f56ec496820>], <function m.<locals>.d at 0x7f56ec4a7430>])"
      ]
     },
     "execution_count": 61,
     "metadata": {},
     "output_type": "execute_result"
    }
   ],
   "source": [
    "m(1)"
   ]
  },
  {
   "cell_type": "markdown",
   "metadata": {},
   "source": [
    "## Ep.2 El problema en la serpiente"
   ]
  },
  {
   "cell_type": "markdown",
   "metadata": {},
   "source": [
    "¿Cómo se implementan los decoradores en Python?"
   ]
  },
  {
   "cell_type": "code",
   "execution_count": null,
   "metadata": {},
   "outputs": [],
   "source": []
  },
  {
   "cell_type": "markdown",
   "metadata": {},
   "source": [
    "## Ep.3 Cuatro porciones para llevar"
   ]
  },
  {
   "cell_type": "markdown",
   "metadata": {},
   "source": [
    "Exponer una distinción en los distintos usos/tipos de decoradores"
   ]
  },
  {
   "cell_type": "markdown",
   "metadata": {},
   "source": [
    "Decorators for annotation"
   ]
  },
  {
   "cell_type": "markdown",
   "metadata": {},
   "source": [
    "Decorators for registration"
   ]
  },
  {
   "cell_type": "markdown",
   "metadata": {},
   "source": [
    "Decorators for verification"
   ]
  },
  {
   "cell_type": "markdown",
   "metadata": {},
   "source": [
    "Decorators for dispatch"
   ]
  },
  {
   "cell_type": "markdown",
   "metadata": {},
   "source": [
    "Decorators for metaprogramming"
   ]
  },
  {
   "cell_type": "markdown",
   "metadata": {},
   "source": []
  },
  {
   "cell_type": "code",
   "execution_count": 62,
   "metadata": {},
   "outputs": [
    {
     "name": "stdout",
     "output_type": "stream",
     "text": [
      "The Zen of Python, by Tim Peters\n",
      "\n",
      "Beautiful is better than ugly.\n",
      "Explicit is better than implicit.\n",
      "Simple is better than complex.\n",
      "Complex is better than complicated.\n",
      "Flat is better than nested.\n",
      "Sparse is better than dense.\n",
      "Readability counts.\n",
      "Special cases aren't special enough to break the rules.\n",
      "Although practicality beats purity.\n",
      "Errors should never pass silently.\n",
      "Unless explicitly silenced.\n",
      "In the face of ambiguity, refuse the temptation to guess.\n",
      "There should be one-- and preferably only one --obvious way to do it.\n",
      "Although that way may not be obvious at first unless you're Dutch.\n",
      "Now is better than never.\n",
      "Although never is often better than *right* now.\n",
      "If the implementation is hard to explain, it's a bad idea.\n",
      "If the implementation is easy to explain, it may be a good idea.\n",
      "Namespaces are one honking great idea -- let's do more of those!\n"
     ]
    }
   ],
   "source": [
    "import this"
   ]
  },
  {
   "cell_type": "code",
   "execution_count": 73,
   "metadata": {},
   "outputs": [
    {
     "data": {
      "text/plain": [
       "['__builtins__',\n",
       " '__cached__',\n",
       " '__doc__',\n",
       " '__file__',\n",
       " '__loader__',\n",
       " '__name__',\n",
       " '__package__',\n",
       " '__spec__',\n",
       " 'c',\n",
       " 'd',\n",
       " 'i',\n",
       " 's']"
      ]
     },
     "execution_count": 73,
     "metadata": {},
     "output_type": "execute_result"
    }
   ],
   "source": [
    "dir(this)"
   ]
  },
  {
   "cell_type": "code",
   "execution_count": 78,
   "metadata": {},
   "outputs": [
    {
     "data": {
      "text/plain": [
       "[('A', 65, 78, 'N'),\n",
       " ('B', 66, 79, 'O'),\n",
       " ('C', 67, 80, 'P'),\n",
       " ('D', 68, 81, 'Q'),\n",
       " ('E', 69, 82, 'R'),\n",
       " ('F', 70, 83, 'S'),\n",
       " ('G', 71, 84, 'T'),\n",
       " ('H', 72, 85, 'U'),\n",
       " ('I', 73, 86, 'V'),\n",
       " ('J', 74, 87, 'W'),\n",
       " ('K', 75, 88, 'X'),\n",
       " ('L', 76, 89, 'Y'),\n",
       " ('M', 77, 90, 'Z'),\n",
       " ('N', 78, 65, 'A'),\n",
       " ('O', 79, 66, 'B'),\n",
       " ('P', 80, 67, 'C'),\n",
       " ('Q', 81, 68, 'D'),\n",
       " ('R', 82, 69, 'E'),\n",
       " ('S', 83, 70, 'F'),\n",
       " ('T', 84, 71, 'G'),\n",
       " ('U', 85, 72, 'H'),\n",
       " ('V', 86, 73, 'I'),\n",
       " ('W', 87, 74, 'J'),\n",
       " ('X', 88, 75, 'K'),\n",
       " ('Y', 89, 76, 'L'),\n",
       " ('Z', 90, 77, 'M'),\n",
       " ('a', 97, 110, 'n'),\n",
       " ('b', 98, 111, 'o'),\n",
       " ('c', 99, 112, 'p'),\n",
       " ('d', 100, 113, 'q'),\n",
       " ('e', 101, 114, 'r'),\n",
       " ('f', 102, 115, 's'),\n",
       " ('g', 103, 116, 't'),\n",
       " ('h', 104, 117, 'u'),\n",
       " ('i', 105, 118, 'v'),\n",
       " ('j', 106, 119, 'w'),\n",
       " ('k', 107, 120, 'x'),\n",
       " ('l', 108, 121, 'y'),\n",
       " ('m', 109, 122, 'z'),\n",
       " ('n', 110, 97, 'a'),\n",
       " ('o', 111, 98, 'b'),\n",
       " ('p', 112, 99, 'c'),\n",
       " ('q', 113, 100, 'd'),\n",
       " ('r', 114, 101, 'e'),\n",
       " ('s', 115, 102, 'f'),\n",
       " ('t', 116, 103, 'g'),\n",
       " ('u', 117, 104, 'h'),\n",
       " ('v', 118, 105, 'i'),\n",
       " ('w', 119, 106, 'j'),\n",
       " ('x', 120, 107, 'k'),\n",
       " ('y', 121, 108, 'l'),\n",
       " ('z', 122, 109, 'm')]"
      ]
     },
     "execution_count": 78,
     "metadata": {},
     "output_type": "execute_result"
    }
   ],
   "source": [
    "[(x,ord(x),ord(y),y) for x,y in this.d.items()]"
   ]
  },
  {
   "cell_type": "markdown",
   "metadata": {},
   "source": [
    "## Ep.4 El recambio de yerba"
   ]
  },
  {
   "cell_type": "markdown",
   "metadata": {},
   "source": [
    "Exponer mis opiniones sobre que tener en cuenta al utilizar decoradores"
   ]
  },
  {
   "cell_type": "markdown",
   "metadata": {
    "slideshow": {
     "slide_type": "notes"
    }
   },
   "source": [
    "This is a note for me"
   ]
  },
  {
   "cell_type": "markdown",
   "metadata": {},
   "source": [
    "Es una caracteristica sintactica de Python\n",
    "\n",
    "Utilizarlos es una decision de disenio\n",
    "\n",
    "Nos permite factorizar responsabilidades y evitar repeticion de codigo\n",
    "\n",
    "Una buena guia del uso de un decorador es: Utilizarlo para agregar comportamiento que es ortogonal al comportamiento original, manteniendo el protocolo"
   ]
  },
  {
   "cell_type": "markdown",
   "metadata": {
    "slideshow": {
     "slide_type": "slide"
    }
   },
   "source": [
    "# Fuentes\n",
    "\n",
    "[Los Simuladores](https://telefe.com/los-simuladores)\n",
    "\n",
    "[the decorators they wont tell you about](https://github.com/hchasestevens/hchasestevens.github.io/blob/master/notebooks/the-decorators-they-wont-tell-you-about.ipynb)\n",
    "\n",
    "[PEP 318 - Decorators for Functions and Methods](https://www.python.org/dev/peps/pep-0318/)\n",
    "\n",
    "\n",
    "\n",
    "[Conozco un grupo de objetos que resuelven problemas](https://hackmd.io/@saxak/charlas_pyconar_2020)"
   ]
  },
  {
   "cell_type": "markdown",
   "metadata": {},
   "source": [
    "30.5 44.5 Pica Bold\n",
    "\n",
    "Futura Condensed"
   ]
  },
  {
   "cell_type": "code",
   "execution_count": null,
   "metadata": {},
   "outputs": [],
   "source": [
    "Conozco un grupo de objetos que resuelven problemas\n",
    "\n",
    "Los Decoradores:`\n",
    "\n",
    "Ep.1 El origen de una solución\n",
    "Ep.2 El problema en la serpiente\n",
    "Ep.3 Cuatro porciones para llevar\n",
    "Ep.4 El recambio de yerba\n",
    "\n",
    "En la charla voy a hablar sobre\n",
    "¿Qué son los decoradores?\n",
    "¿Cómo se implementan los decoradores en Python?\n",
    "Exponer una distinción en los distintos usos/tipos de decoradores\n",
    "Exponer mis opiniones sobre que tener en cuenta al utilizar decoradores\n",
    "\n",
    "¿Qué son los decoradores?\n",
    "\n",
    "Los decoradores como patrón de diseño,\n",
    "\n",
    "¿Cómo se usan los decoradores en Python?\n",
    "\n",
    "Objeto que recibe un Callable y devuelve un callable\n",
    "\n",
    "Distinción de los distintos tipos de decoradores que se pueden implementar\n",
    "\n",
    "Tagging, Control flow, Descriptive, Executing\n",
    "\n",
    "Cosas importantes a tener en cuenta al utilizar decoradores\n",
    "\n",
    "Agregar características ortogonales a nuestros objetos de manera dinámica\n",
    "Agrega complejidad en una sola línea de código\n",
    "Implementación, función, parametrizable, clase"
   ]
  },
  {
   "cell_type": "markdown",
   "metadata": {},
   "source": [
    "https://docs.python.org/3/library/contextlib.html?highlight=decorator\n",
    "\n",
    "https://docs.python.org/3/library/unittest.mock-examples.html?highlight=decorator#patch-decorators\n",
    "\n",
    "https://docs.python.org/3/library/functools.html?highlight=singledispatch#functools.singledispatch"
   ]
  }
 ],
 "metadata": {
  "celltoolbar": "Slideshow",
  "kernelspec": {
   "display_name": "Python 3",
   "language": "python",
   "name": "python3"
  },
  "language_info": {
   "codemirror_mode": {
    "name": "ipython",
    "version": 3
   },
   "file_extension": ".py",
   "mimetype": "text/x-python",
   "name": "python",
   "nbconvert_exporter": "python",
   "pygments_lexer": "ipython3",
   "version": "3.8.6"
  }
 },
 "nbformat": 4,
 "nbformat_minor": 4
}
