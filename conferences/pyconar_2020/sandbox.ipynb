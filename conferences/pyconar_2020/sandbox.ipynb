{
 "cells": [
  {
   "cell_type": "code",
   "execution_count": 1,
   "metadata": {},
   "outputs": [],
   "source": [
    "path = '/mnt/c/Users/pc/Downloads/takeout-20201018T151006Z-001/Takeout/Keep/'"
   ]
  },
  {
   "cell_type": "code",
   "execution_count": 2,
   "metadata": {},
   "outputs": [],
   "source": [
    "import pathlib "
   ]
  },
  {
   "cell_type": "code",
   "execution_count": 3,
   "metadata": {},
   "outputs": [],
   "source": [
    "path = pathlib.Path(path)"
   ]
  },
  {
   "cell_type": "code",
   "execution_count": 4,
   "metadata": {},
   "outputs": [],
   "source": [
    "paths = [ p  for p in path.iterdir() if p.match(\"*.json\")] "
   ]
  },
  {
   "cell_type": "code",
   "execution_count": 5,
   "metadata": {},
   "outputs": [],
   "source": [
    "x,y = paths[0:2]"
   ]
  },
  {
   "cell_type": "code",
   "execution_count": 6,
   "metadata": {},
   "outputs": [],
   "source": [
    "import json"
   ]
  },
  {
   "cell_type": "code",
   "execution_count": 7,
   "metadata": {},
   "outputs": [
    {
     "data": {
      "text/plain": [
       "{'color': 'DEFAULT',\n",
       " 'isTrashed': False,\n",
       " 'isPinned': False,\n",
       " 'isArchived': False,\n",
       " 'annotations': [{'description': 'Passwort zurücksetzen. Geben Sie Ihre E-Mail-Adresse ein und drücken Sie auf „Absenden“. Sie erhalten bekommen dann einen Link zugeschickt, mit dem Sie Ihr Passwort ändern können. E-Mail. Passwort. Angemeldet bleiben. Passwort vergessen? Zur Anmeldung. Abbrechen Anmelden Absenden ...',\n",
       "   'source': 'WEBLINK',\n",
       "   'title': 'DeepL Translator',\n",
       "   'url': 'https://www.deepl.com/translator'}],\n",
       " 'textContent': 'https://www.deepl.com/translator',\n",
       " 'title': '',\n",
       " 'userEditedTimestampUsec': 1520969946390000}"
      ]
     },
     "execution_count": 7,
     "metadata": {},
     "output_type": "execute_result"
    }
   ],
   "source": [
    "def read(x):\n",
    "    with open(x) as f:\n",
    "        return json.load(f)\n",
    "X = read(x)\n",
    "X"
   ]
  },
  {
   "cell_type": "code",
   "execution_count": 8,
   "metadata": {},
   "outputs": [
    {
     "data": {
      "text/plain": [
       "{'color': str,\n",
       " 'isTrashed': bool,\n",
       " 'isPinned': bool,\n",
       " 'isArchived': bool,\n",
       " 'annotations': list,\n",
       " 'textContent': str,\n",
       " 'title': str,\n",
       " 'userEditedTimestampUsec': int}"
      ]
     },
     "execution_count": 8,
     "metadata": {},
     "output_type": "execute_result"
    }
   ],
   "source": [
    "{x:type(y) for x,y in X.items()}"
   ]
  },
  {
   "cell_type": "code",
   "execution_count": 9,
   "metadata": {},
   "outputs": [
    {
     "data": {
      "text/plain": [
       "{'description': str, 'source': str, 'title': str, 'url': str}"
      ]
     },
     "execution_count": 9,
     "metadata": {},
     "output_type": "execute_result"
    }
   ],
   "source": [
    "{x:type(y) for x,y in X['annotations'][0].items()}"
   ]
  },
  {
   "cell_type": "markdown",
   "metadata": {},
   "source": [
    "#### Paths "
   ]
  },
  {
   "cell_type": "code",
   "execution_count": 10,
   "metadata": {},
   "outputs": [
    {
     "data": {
      "text/plain": [
       "355"
      ]
     },
     "execution_count": 10,
     "metadata": {},
     "output_type": "execute_result"
    }
   ],
   "source": [
    "len(paths)"
   ]
  },
  {
   "cell_type": "markdown",
   "metadata": {},
   "source": [
    "## Dates"
   ]
  },
  {
   "cell_type": "code",
   "execution_count": 11,
   "metadata": {},
   "outputs": [],
   "source": [
    "from datetime import datetime"
   ]
  },
  {
   "cell_type": "code",
   "execution_count": 12,
   "metadata": {},
   "outputs": [
    {
     "data": {
      "text/plain": [
       "datetime.datetime(2018, 3, 13, 16, 39, 6, 390000)"
      ]
     },
     "execution_count": 12,
     "metadata": {},
     "output_type": "execute_result"
    }
   ],
   "source": [
    "datetime.fromtimestamp(1520969946390000/1e6)"
   ]
  },
  {
   "cell_type": "code",
   "execution_count": 13,
   "metadata": {},
   "outputs": [],
   "source": [
    "def edit_time(x):\n",
    "    return datetime.fromtimestamp(x['userEditedTimestampUsec']/1e6)"
   ]
  },
  {
   "cell_type": "markdown",
   "metadata": {},
   "source": [
    "# Notes"
   ]
  },
  {
   "cell_type": "code",
   "execution_count": 14,
   "metadata": {},
   "outputs": [],
   "source": [
    "notes = [ read(x) for x in paths]"
   ]
  },
  {
   "cell_type": "code",
   "execution_count": 15,
   "metadata": {},
   "outputs": [
    {
     "data": {
      "text/plain": [
       "355"
      ]
     },
     "execution_count": 15,
     "metadata": {},
     "output_type": "execute_result"
    }
   ],
   "source": [
    "len(notes)"
   ]
  },
  {
   "cell_type": "markdown",
   "metadata": {},
   "source": [
    "# Title"
   ]
  },
  {
   "cell_type": "code",
   "execution_count": 16,
   "metadata": {},
   "outputs": [],
   "source": [
    "import collections"
   ]
  },
  {
   "cell_type": "code",
   "execution_count": 17,
   "metadata": {},
   "outputs": [
    {
     "data": {
      "text/plain": [
       "Counter({'': 255,\n",
       "         '3D Printing': 1,\n",
       "         'Algo de economía': 1,\n",
       "         'Api list': 1,\n",
       "         'Armado de schema': 1,\n",
       "         'Awesome Data Viz': 1,\n",
       "         'Awesome Noteboks': 1,\n",
       "         'Awesome OSS Mentor': 1,\n",
       "         'Awesome WM config': 1,\n",
       "         'AWS Open datasets': 1,\n",
       "         'Ayudas para escritura': 1,\n",
       "         'Bash clipboard': 1,\n",
       "         'Beautiful Simulations': 1,\n",
       "         \"Bell's Theorem\": 1,\n",
       "         'Book from jupyter notebook': 1,\n",
       "         'Buenas practicas de programacion': 1,\n",
       "         'Campus party': 1,\n",
       "         'Canciones sexys': 1,\n",
       "         'Charla ScalablNetworking': 1,\n",
       "         'CLI': 1,\n",
       "         'Coincidencias': 1,\n",
       "         'Comandos para ir aprendiendo': 1,\n",
       "         'Comandos utiles': 1,\n",
       "         'Competition': 1,\n",
       "         'Cosas para armar': 1,\n",
       "         'Cosas que voy agregando': 1,\n",
       "         'Cosas utiles de vim': 1,\n",
       "         'Creepy Data': 1,\n",
       "         'Crowd sourcing': 1,\n",
       "         'Data Science Design Patterns': 1,\n",
       "         'Data Science': 1,\n",
       "         'Datasets': 1,\n",
       "         'Documentation': 1,\n",
       "         'EC2 non free instances': 1,\n",
       "         'Equilibrium verification environment': 1,\n",
       "         'Esas cosas que encuentro y quizas sirven': 1,\n",
       "         'Explain Shell': 1,\n",
       "         'Finanza': 1,\n",
       "         'Fundamentals of Data Visualization': 1,\n",
       "         'Generator expresions python': 1,\n",
       "         'Gilbert Strag new book': 1,\n",
       "         'Git guides': 1,\n",
       "         'Git tips': 1,\n",
       "         'Google': 1,\n",
       "         'Great Articles of HOW to use things in Linux': 1,\n",
       "         'Group Theory, Information Theory, Topology and Machine Learning': 1,\n",
       "         'Herramientas para mejorar la escritura': 1,\n",
       "         'https://riccardoscalco.it/textures/': 1,\n",
       "         'Ideas': 1,\n",
       "         'Infosec': 1,\n",
       "         'Java for Python Programmers': 1,\n",
       "         'Jupyter Notebook': 1,\n",
       "         'Kaggle ': 1,\n",
       "         'Lecturas de Ciencia': 1,\n",
       "         'Links of data science': 1,\n",
       "         'Logging ': 1,\n",
       "         'Machine Learning Online Book': 1,\n",
       "         'Mas Visualizaciones': 1,\n",
       "         'MEDIUM': 1,\n",
       "         'MIT DL': 1,\n",
       "         'ML DN': 1,\n",
       "         'More visualization with storytelling': 1,\n",
       "         'More visualization': 1,\n",
       "         'Musicos por explorar': 1,\n",
       "         'Nodemcu': 1,\n",
       "         'Nombre que repito en mi cabeza': 1,\n",
       "         'Normas y legislaciones nacionales': 1,\n",
       "         'Online Colorscheme Editor': 1,\n",
       "         'Open education and math': 1,\n",
       "         'OSS': 1,\n",
       "         'P-hacking': 1,\n",
       "         'p-values': 1,\n",
       "         'Packet Manager for Windows': 1,\n",
       "         'Papers we love': 1,\n",
       "         'Powershell ': 1,\n",
       "         'Preguntas inutiles para jugar ': 1,\n",
       "         'Presentaciones con reveal.js': 1,\n",
       "         'Punteados de guitarra': 1,\n",
       "         'Python from DUCT in pydata LA': 1,\n",
       "         'Python Generators': 1,\n",
       "         'Python Libraries 2': 1,\n",
       "         'Python Libraries': 1,\n",
       "         'Python Modules': 1,\n",
       "         'Python parenthesis': 1,\n",
       "         'Python Project Template': 1,\n",
       "         'Recomendaciones en Scalabl': 1,\n",
       "         'Reinforcement Learning': 1,\n",
       "         'Repos Github': 1,\n",
       "         'Repositorio de paginas \"utiles\"': 1,\n",
       "         'Software design': 1,\n",
       "         'Software Testing': 1,\n",
       "         'Start up': 1,\n",
       "         'Statistical Tests': 1,\n",
       "         'Testing things': 1,\n",
       "         'Text processing and analysis': 1,\n",
       "         'To Do': 1,\n",
       "         'Trello Data Science Dashboard': 1,\n",
       "         'Vegetales': 1,\n",
       "         'VIM scripts': 1,\n",
       "         'VIM': 1,\n",
       "         'Visualizaciones': 1})"
      ]
     },
     "execution_count": 17,
     "metadata": {},
     "output_type": "execute_result"
    }
   ],
   "source": [
    "collections.Counter( n['title']  for n in notes )"
   ]
  },
  {
   "cell_type": "markdown",
   "metadata": {},
   "source": [
    "Edit  times"
   ]
  },
  {
   "cell_type": "code",
   "execution_count": 18,
   "metadata": {},
   "outputs": [],
   "source": [
    "edt = sorted( edit_time(n) for n in notes )"
   ]
  },
  {
   "cell_type": "code",
   "execution_count": 19,
   "metadata": {},
   "outputs": [
    {
     "data": {
      "text/plain": [
       "Counter({2016: 8, 2017: 69, 2018: 115, 2019: 98, 2020: 65})"
      ]
     },
     "execution_count": 19,
     "metadata": {},
     "output_type": "execute_result"
    }
   ],
   "source": [
    "collections.Counter( e.year for e in edt )"
   ]
  },
  {
   "cell_type": "markdown",
   "metadata": {},
   "source": [
    "Annotations"
   ]
  },
  {
   "cell_type": "code",
   "execution_count": 22,
   "metadata": {},
   "outputs": [
    {
     "data": {
      "text/plain": [
       "[{'description': 'Passwort zurücksetzen. Geben Sie Ihre E-Mail-Adresse ein und drücken Sie auf „Absenden“. Sie erhalten bekommen dann einen Link zugeschickt, mit dem Sie Ihr Passwort ändern können. E-Mail. Passwort. Angemeldet bleiben. Passwort vergessen? Zur Anmeldung. Abbrechen Anmelden Absenden ...',\n",
       "  'source': 'WEBLINK',\n",
       "  'title': 'DeepL Translator',\n",
       "  'url': 'https://www.deepl.com/translator'}]"
      ]
     },
     "execution_count": 22,
     "metadata": {},
     "output_type": "execute_result"
    }
   ],
   "source": [
    "notes[0]['annotations']"
   ]
  },
  {
   "cell_type": "code",
   "execution_count": 24,
   "metadata": {},
   "outputs": [
    {
     "data": {
      "text/plain": [
       "[{'color': 'DEFAULT',\n",
       "  'isTrashed': False,\n",
       "  'isPinned': False,\n",
       "  'isArchived': False,\n",
       "  'textContent': 'https://jalammar.github.io\\n',\n",
       "  'title': '',\n",
       "  'userEditedTimestampUsec': 1525828514146000},\n",
       " {'color': 'DEFAULT',\n",
       "  'isTrashed': False,\n",
       "  'isPinned': False,\n",
       "  'isArchived': False,\n",
       "  'textContent': '03329 482040\\n484878\\n',\n",
       "  'title': '',\n",
       "  'userEditedTimestampUsec': 1525898011015000},\n",
       " {'color': 'RED',\n",
       "  'isTrashed': False,\n",
       "  'isPinned': False,\n",
       "  'isArchived': False,\n",
       "  'textContent': 'Remember how the things are in this moment',\n",
       "  'title': '',\n",
       "  'userEditedTimestampUsec': 1469908200842000},\n",
       " {'color': 'DEFAULT',\n",
       "  'isTrashed': False,\n",
       "  'isPinned': False,\n",
       "  'isArchived': False,\n",
       "  'textContent': 'ad free podcast\\n\\nre maqueteador de archivos de sonido',\n",
       "  'title': '',\n",
       "  'userEditedTimestampUsec': 1500189526068000},\n",
       " {'color': 'DEFAULT',\n",
       "  'isTrashed': False,\n",
       "  'isPinned': False,\n",
       "  'isArchived': False,\n",
       "  'textContent': 'https://arxiv.org/pdf/1303.2849.pdf',\n",
       "  'title': '',\n",
       "  'userEditedTimestampUsec': 1504531197007000},\n",
       " {'color': 'DEFAULT',\n",
       "  'isTrashed': False,\n",
       "  'isPinned': False,\n",
       "  'isArchived': False,\n",
       "  'textContent': 'https://ncatlab.org/\\n',\n",
       "  'title': '',\n",
       "  'userEditedTimestampUsec': 1495034211207000},\n",
       " {'color': 'DEFAULT',\n",
       "  'isTrashed': False,\n",
       "  'isPinned': False,\n",
       "  'isArchived': False,\n",
       "  'textContent': 'https://schemaverse.com\\n\\nlearn-anything.xyz\\n',\n",
       "  'title': '',\n",
       "  'userEditedTimestampUsec': 1510450867222000},\n",
       " {'color': 'DEFAULT',\n",
       "  'isTrashed': False,\n",
       "  'isPinned': False,\n",
       "  'isArchived': False,\n",
       "  'textContent': 'Luciano.j.romeo@gmail.com\\nhttps://www.linkedin.com/in/luciano-romeo-1456487a',\n",
       "  'title': '',\n",
       "  'userEditedTimestampUsec': 1527814161477000},\n",
       " {'color': 'DEFAULT',\n",
       "  'isTrashed': False,\n",
       "  'isPinned': False,\n",
       "  'isArchived': False,\n",
       "  'textContent': 'docs.demyst.com',\n",
       "  'title': '',\n",
       "  'userEditedTimestampUsec': 1557261568311000},\n",
       " {'color': 'DEFAULT',\n",
       "  'isTrashed': False,\n",
       "  'isPinned': False,\n",
       "  'isArchived': False,\n",
       "  'textContent': 'https://www.math.colostate.edu/~renzo/teaching/Topology10/Notes.pdf',\n",
       "  'title': '',\n",
       "  'userEditedTimestampUsec': 1559930460921000},\n",
       " {'color': 'DEFAULT',\n",
       "  'isTrashed': False,\n",
       "  'isPinned': False,\n",
       "  'isArchived': False,\n",
       "  'textContent': 'Seven databases in seven weeks',\n",
       "  'title': '',\n",
       "  'userEditedTimestampUsec': 1564151001876000},\n",
       " {'color': 'DEFAULT',\n",
       "  'isTrashed': False,\n",
       "  'isPinned': False,\n",
       "  'isArchived': False,\n",
       "  'textContent': 'https://hydra-editor.glitch.me',\n",
       "  'title': '',\n",
       "  'userEditedTimestampUsec': 1564538233183000},\n",
       " {'color': 'DEFAULT',\n",
       "  'isTrashed': False,\n",
       "  'isPinned': False,\n",
       "  'isArchived': False,\n",
       "  'textContent': 'http://ranasweis.com/category/media-lab/tools-for-journalists/',\n",
       "  'title': '',\n",
       "  'userEditedTimestampUsec': 1566093754131000},\n",
       " {'color': 'DEFAULT',\n",
       "  'isTrashed': False,\n",
       "  'isPinned': False,\n",
       "  'isArchived': False,\n",
       "  'textContent': 'https://github.com/wyounas/homer',\n",
       "  'title': '',\n",
       "  'userEditedTimestampUsec': 1566349487286000},\n",
       " {'color': 'DEFAULT',\n",
       "  'isTrashed': False,\n",
       "  'isPinned': False,\n",
       "  'isArchived': False,\n",
       "  'textContent': 'https://wattenberger.com/blog/d3?utm_campaign=Data_Elixir&utm_medium=email&utm_source=Data_Elixir_249',\n",
       "  'title': '',\n",
       "  'userEditedTimestampUsec': 1567985336169000},\n",
       " {'color': 'DEFAULT',\n",
       "  'isTrashed': False,\n",
       "  'isPinned': False,\n",
       "  'isArchived': False,\n",
       "  'textContent': 'https://medium.com/swlh/write-to-express-not-to-impress-465d628f39fe',\n",
       "  'title': '',\n",
       "  'userEditedTimestampUsec': 1569269162331000},\n",
       " {'color': 'DEFAULT',\n",
       "  'isTrashed': False,\n",
       "  'isPinned': False,\n",
       "  'isArchived': False,\n",
       "  'textContent': 'http://www.jezzamon.com/fourier/',\n",
       "  'title': '',\n",
       "  'userEditedTimestampUsec': 1569379168594000},\n",
       " {'color': 'DEFAULT',\n",
       "  'isTrashed': False,\n",
       "  'isPinned': False,\n",
       "  'isArchived': False,\n",
       "  'textContent': 'https://christophm.github.io/interpretable-ml-book/',\n",
       "  'title': '',\n",
       "  'userEditedTimestampUsec': 1570124691142000},\n",
       " {'color': 'DEFAULT',\n",
       "  'isTrashed': False,\n",
       "  'isPinned': False,\n",
       "  'isArchived': False,\n",
       "  'textContent': 'https://takeout.google.com/settings/takeout?pli=1',\n",
       "  'title': '',\n",
       "  'userEditedTimestampUsec': 1575841889556000},\n",
       " {'color': 'DEFAULT',\n",
       "  'isTrashed': False,\n",
       "  'isPinned': False,\n",
       "  'isArchived': False,\n",
       "  'textContent': 'pages.cs.wisc.edu/~remzi/Naur.pdf',\n",
       "  'title': '',\n",
       "  'userEditedTimestampUsec': 1590695660744000},\n",
       " {'color': 'DEFAULT',\n",
       "  'isTrashed': False,\n",
       "  'isPinned': False,\n",
       "  'isArchived': False,\n",
       "  'textContent': 'http://bender.astro.sunysb.edu/hydro_by_example/CompHydroTutorial.pdf',\n",
       "  'title': '',\n",
       "  'userEditedTimestampUsec': 1593605150441000},\n",
       " {'color': 'DEFAULT',\n",
       "  'isTrashed': False,\n",
       "  'isPinned': False,\n",
       "  'isArchived': False,\n",
       "  'textContent': 'xclip -sel clip < ~/.ssh/id_rsa.pub',\n",
       "  'title': 'Bash clipboard',\n",
       "  'userEditedTimestampUsec': 1535583823052000},\n",
       " {'color': 'DEFAULT',\n",
       "  'isTrashed': False,\n",
       "  'isPinned': False,\n",
       "  'isArchived': False,\n",
       "  'textContent': 'Subutai.io\\nFPGA\\nCaninous loucos\\nProjecto cauau\\n\\nInvestigar sobre el origen de las distintas aplicaciones que utilizamos día a día. Ejemplo del origen de Jira',\n",
       "  'title': 'Campus party',\n",
       "  'userEditedTimestampUsec': 1525898011010000},\n",
       " {'color': 'DEFAULT',\n",
       "  'isTrashed': False,\n",
       "  'isPinned': False,\n",
       "  'isArchived': False,\n",
       "  'textContent': \"Untitled - D'Angelo. El video muestra a un negro trabado.\",\n",
       "  'title': 'Canciones sexys',\n",
       "  'userEditedTimestampUsec': 1470009252271000},\n",
       " {'color': 'DEFAULT',\n",
       "  'isTrashed': False,\n",
       "  'isPinned': False,\n",
       "  'isArchived': False,\n",
       "  'textContent': 'Dante SICA  ceb \\n',\n",
       "  'title': 'Charla ScalablNetworking',\n",
       "  'userEditedTimestampUsec': 1527814161478000},\n",
       " {'color': 'DEFAULT',\n",
       "  'isTrashed': False,\n",
       "  'isPinned': False,\n",
       "  'isArchived': False,\n",
       "  'textContent': 'loginctl - para cuando se bloquea el inicio con LDM y no acepta la contraseña \\ngrep -o \\'url=\".*\"\\' podcasts.opml | cat > podcast.txt para buscar texto entre palabras y copiarlo a otro archivo\\n\\nxrandr --output VGA1 --auto --right-of LVDS1 para activar multiples monitores\\nxrandr --output VGA1 --off para desactivarlo',\n",
       "  'title': 'Comandos utiles',\n",
       "  'userEditedTimestampUsec': 1526845791083000},\n",
       " {'color': 'DEFAULT',\n",
       "  'isTrashed': False,\n",
       "  'isPinned': False,\n",
       "  'isArchived': False,\n",
       "  'textContent': 'Eve.cs.ox.ac.uk',\n",
       "  'title': 'Equilibrium verification environment',\n",
       "  'userEditedTimestampUsec': 1552316037009000},\n",
       " {'color': 'DEFAULT',\n",
       "  'isTrashed': False,\n",
       "  'isPinned': False,\n",
       "  'isArchived': False,\n",
       "  'textContent': '#Para que recuerde el usuario y contrasenia\\ngit config --global credential.helper cache\\n\\ngit diff --name-only --diff-filter=U',\n",
       "  'title': 'Git tips',\n",
       "  'userEditedTimestampUsec': 1536565689701000},\n",
       " {'color': 'RED',\n",
       "  'isTrashed': False,\n",
       "  'isPinned': False,\n",
       "  'isArchived': False,\n",
       "  'textContent': '- Los inodoros son elementos que utilizan/desperdician mucha agua, al igual que utilizar agua para lavar los platos\\n- Si una red neuronal se puede utilizar para analizar funciones no lineales como xor, se pueden utilizar para factorizar numeros?\\n- ',\n",
       "  'title': 'Ideas',\n",
       "  'userEditedTimestampUsec': 1514245144241000},\n",
       " {'color': 'DEFAULT',\n",
       "  'isTrashed': False,\n",
       "  'isPinned': False,\n",
       "  'isArchived': False,\n",
       "  'textContent': 'Fiona Apple - tiene una voz grave, vi el video de Criminal.',\n",
       "  'title': 'Musicos por explorar',\n",
       "  'userEditedTimestampUsec': 1470008988666000},\n",
       " {'color': 'DEFAULT',\n",
       "  'isTrashed': False,\n",
       "  'isPinned': False,\n",
       "  'isArchived': False,\n",
       "  'textContent': 'Judea Pearl 3/12/2018 mientras cocino\\n',\n",
       "  'title': 'Nombre que repito en mi cabeza',\n",
       "  'userEditedTimestampUsec': 1546362583428000},\n",
       " {'color': 'DEFAULT',\n",
       "  'isTrashed': False,\n",
       "  'isPinned': False,\n",
       "  'isArchived': False,\n",
       "  'textContent': 'http://www.infoleg.gob.ar',\n",
       "  'title': 'Normas y legislaciones nacionales',\n",
       "  'userEditedTimestampUsec': 1529424342769000},\n",
       " {'color': 'DEFAULT',\n",
       "  'isTrashed': False,\n",
       "  'isPinned': False,\n",
       "  'isArchived': False,\n",
       "  'textContent': '*head*\\nGet-Content \"C:\\\\Logs\\\\Log060912.txt\" -TotalCount 50 | Set-Content \"Sample.txt\"',\n",
       "  'title': 'Powershell ',\n",
       "  'userEditedTimestampUsec': 1524237335790000},\n",
       " {'color': 'YELLOW',\n",
       "  'isTrashed': False,\n",
       "  'isPinned': False,\n",
       "  'isArchived': False,\n",
       "  'textContent': \"Cómo funciona un control remoto? Cuál es el algoritmo que usa para codificar las señales?\\nCómo funciona una antena y cómo se codifica en am, fm, digital?\\nCómo es la verdadera trayectoria de una bala? Características de la misma\\nCómo funciona una máquina kiwi, o un teléfono público?\\nTelescopio y microscopio\\nDiodo laser\\nCómo funciona la acustica de una sala de concierto?\\nPor qu'e los lapices son hexagonales?\\nComo funciona un arco de flecha compuesto?\\nPor qué el agua en el lavabo tiende a girar_ porque se genera la vorticidad?\\nPorqué hay que cargar una batería por muchas horas la primera vez que se lo hace??\",\n",
       "  'title': 'Preguntas inutiles para jugar ',\n",
       "  'userEditedTimestampUsec': 1513364787515000},\n",
       " {'color': 'DEFAULT',\n",
       "  'isTrashed': False,\n",
       "  'isPinned': False,\n",
       "  'isArchived': False,\n",
       "  'textContent': 'Wicked Games - Chris Isaak',\n",
       "  'title': 'Punteados de guitarra',\n",
       "  'userEditedTimestampUsec': 1470007515779000},\n",
       " {'color': 'DEFAULT',\n",
       "  'isTrashed': False,\n",
       "  'isPinned': False,\n",
       "  'isArchived': False,\n",
       "  'textContent': 'Mocks\\nhttps://ep2018.europython.eu/media/conference/slides/mocks-fakes-dummies-stubs-and-spies-successfully-isolating-the-snake.pdf',\n",
       "  'title': 'Testing things',\n",
       "  'userEditedTimestampUsec': 1543618904909000}]"
      ]
     },
     "execution_count": 24,
     "metadata": {},
     "output_type": "execute_result"
    }
   ],
   "source": [
    "[n for n in notes if not n.get('annotations')]"
   ]
  },
  {
   "cell_type": "code",
   "execution_count": 25,
   "metadata": {},
   "outputs": [
    {
     "data": {
      "text/plain": [
       "36"
      ]
     },
     "execution_count": 25,
     "metadata": {},
     "output_type": "execute_result"
    }
   ],
   "source": [
    "len(_)"
   ]
  },
  {
   "cell_type": "markdown",
   "metadata": {},
   "source": []
  },
  {
   "cell_type": "markdown",
   "metadata": {},
   "source": []
  },
  {
   "cell_type": "markdown",
   "metadata": {},
   "source": []
  },
  {
   "cell_type": "code",
   "execution_count": 28,
   "metadata": {},
   "outputs": [],
   "source": [
    "class W:\n",
    "    \n",
    "    def __init__(self, y):\n",
    "        self.y = y\n",
    "    \n",
    "    def abc(self):\n",
    "        return f'[a]:{self.y}'\n",
    "    \n",
    "class A(W):\n",
    "    \n",
    "    def abc(self):\n",
    "        return f'[a]:{self.y}'\n",
    "        \n",
    "    \n",
    "class B(W):\n",
    "    \n",
    "    def abc(self):\n",
    "        return f'{{b}}:{self.y}'\n",
    "        \n",
    "class C(W):\n",
    "    \n",
    "    def abc(self):\n",
    "        return f'(c):{self.y}'\n",
    "        \n",
    "class N(W):\n",
    "    \n",
    "    def abc(self):\n",
    "        return f'\\\\N\\\\:{self.y}'        "
   ]
  },
  {
   "cell_type": "code",
   "execution_count": 30,
   "metadata": {},
   "outputs": [
    {
     "data": {
      "text/plain": [
       "[__main__.A, __main__.B, __main__.C, __main__.N]"
      ]
     },
     "execution_count": 30,
     "metadata": {},
     "output_type": "execute_result"
    }
   ],
   "source": [
    "W.__subclasses__()"
   ]
  },
  {
   "cell_type": "code",
   "execution_count": 32,
   "metadata": {},
   "outputs": [
    {
     "data": {
      "text/plain": [
       "'\\\\N\\\\:1'"
      ]
     },
     "execution_count": 32,
     "metadata": {},
     "output_type": "execute_result"
    }
   ],
   "source": [
    "class X:\n",
    "    @staticmethod\n",
    "    def gen(x):\n",
    "        return N(x)\n",
    "X.gen(1).abc()    "
   ]
  },
  {
   "cell_type": "code",
   "execution_count": 33,
   "metadata": {},
   "outputs": [],
   "source": [
    "from functools import singledispatchmethod"
   ]
  },
  {
   "cell_type": "code",
   "execution_count": 37,
   "metadata": {},
   "outputs": [
    {
     "data": {
      "text/plain": [
       "'{b}:s'"
      ]
     },
     "execution_count": 37,
     "metadata": {},
     "output_type": "execute_result"
    }
   ],
   "source": [
    "class X:\n",
    "    @singledispatchmethod\n",
    "    @staticmethod\n",
    "    def gen(x):\n",
    "        return N(x)\n",
    "    \n",
    "    @gen.register(int)\n",
    "    def _(x):\n",
    "        return A(x)\n",
    "    \n",
    "    @gen.register(str)\n",
    "    def _(x):\n",
    "        return B(x)\n",
    "\n",
    "    @gen.register(list)\n",
    "    def _(x):\n",
    "        return C(x)\n",
    "\n",
    "X.gen('s').abc() "
   ]
  },
  {
   "cell_type": "code",
   "execution_count": null,
   "metadata": {},
   "outputs": [],
   "source": []
  }
 ],
 "metadata": {
  "kernelspec": {
   "display_name": "Python 3",
   "language": "python",
   "name": "python3"
  },
  "language_info": {
   "codemirror_mode": {
    "name": "ipython",
    "version": 3
   },
   "file_extension": ".py",
   "mimetype": "text/x-python",
   "name": "python",
   "nbconvert_exporter": "python",
   "pygments_lexer": "ipython3",
   "version": "3.8.6"
  }
 },
 "nbformat": 4,
 "nbformat_minor": 4
}
